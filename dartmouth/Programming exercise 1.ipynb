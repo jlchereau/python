{
 "cells": [
  {
   "cell_type": "markdown",
   "metadata": {
    "id": "UW7YpMXt90jC"
   },
   "source": [
    "# Homework 1:Regression (Original File - Do Not Modify)"
   ]
  },
  {
   "cell_type": "markdown",
   "metadata": {
    "id": "uhFyn-5L80Zu"
   },
   "source": [
    "In this homework, you will act as a data scientist for an e-commerce company, and use the skills you learned this week to analyze the company's transaction data to help them make predictions and business decisions. \n",
    "\n"
   ]
  },
  {
   "cell_type": "markdown",
   "metadata": {
    "id": "K879nYUojbq4"
   },
   "source": [
    "## Loading Data"
   ]
  },
  {
   "cell_type": "markdown",
   "metadata": {
    "id": "eoPWAvrHju0b"
   },
   "source": [
    "The company in question is an e-commerce company, that sells various products to online customers. Customers must sign up as members to make purchases, and enter certain information about themselves in this process. The company is curious to see what factors influence customer purchasing behavior, and has compiled a data set giving you the following information for each customer: average monthly purchases in dollars, the amount of time they have been a member, and their age. How well can you predict purchasing behavior from these factors? \n",
    "\n",
    "We will build a linear regression model to examine this question. We'll begin by reading the file into a DataFrame, a spreadsheet-like object provided by the `Pandas` package, used for handling tabular data. **Run the code below to import the `Pandas` package, and then read the `.csv` file using the funtion `pd.read_csv` by passing that function the file name.** \n",
    "\n"
   ]
  },
  {
   "cell_type": "code",
   "execution_count": 1,
   "metadata": {
    "id": "h-8zGDBsXMyp"
   },
   "outputs": [],
   "source": [
    "import pandas as pd\n",
    "fare_data = pd.read_csv(\"ecommerce_dataset.csv\")\n"
   ]
  },
  {
   "cell_type": "markdown",
   "metadata": {
    "id": "7c_PwoZ4j_Kg"
   },
   "source": [
    ":Just as we did in lecture, **look first five rows of the Data Frame using the `.head()` method by running the cell below.**"
   ]
  },
  {
   "cell_type": "code",
   "execution_count": null,
   "metadata": {
    "colab": {
     "base_uri": "https://localhost:8080/",
     "height": 206
    },
    "id": "Gh4q8sbwXrEP",
    "outputId": "1c44e349-d90e-401b-af0f-e76cda80e9a2"
   },
   "outputs": [
    {
     "data": {
      "text/html": [
       "\n",
       "  <div id=\"df-80961726-eb8b-4bfa-9f56-503863eea639\">\n",
       "    <div class=\"colab-df-container\">\n",
       "      <div>\n",
       "<style scoped>\n",
       "    .dataframe tbody tr th:only-of-type {\n",
       "        vertical-align: middle;\n",
       "    }\n",
       "\n",
       "    .dataframe tbody tr th {\n",
       "        vertical-align: top;\n",
       "    }\n",
       "\n",
       "    .dataframe thead th {\n",
       "        text-align: right;\n",
       "    }\n",
       "</style>\n",
       "<table border=\"1\" class=\"dataframe\">\n",
       "  <thead>\n",
       "    <tr style=\"text-align: right;\">\n",
       "      <th></th>\n",
       "      <th>Average Monthly Purchases</th>\n",
       "      <th>Membership (Months)</th>\n",
       "      <th>Age</th>\n",
       "    </tr>\n",
       "  </thead>\n",
       "  <tbody>\n",
       "    <tr>\n",
       "      <th>0</th>\n",
       "      <td>650.32</td>\n",
       "      <td>15.0</td>\n",
       "      <td>40.0</td>\n",
       "    </tr>\n",
       "    <tr>\n",
       "      <th>1</th>\n",
       "      <td>616.29</td>\n",
       "      <td>39.2</td>\n",
       "      <td>63.0</td>\n",
       "    </tr>\n",
       "    <tr>\n",
       "      <th>2</th>\n",
       "      <td>813.15</td>\n",
       "      <td>34.1</td>\n",
       "      <td>82.0</td>\n",
       "    </tr>\n",
       "    <tr>\n",
       "      <th>3</th>\n",
       "      <td>1116.03</td>\n",
       "      <td>51.5</td>\n",
       "      <td>29.0</td>\n",
       "    </tr>\n",
       "    <tr>\n",
       "      <th>4</th>\n",
       "      <td>545.17</td>\n",
       "      <td>21.8</td>\n",
       "      <td>22.0</td>\n",
       "    </tr>\n",
       "  </tbody>\n",
       "</table>\n",
       "</div>\n",
       "      <button class=\"colab-df-convert\" onclick=\"convertToInteractive('df-80961726-eb8b-4bfa-9f56-503863eea639')\"\n",
       "              title=\"Convert this dataframe to an interactive table.\"\n",
       "              style=\"display:none;\">\n",
       "        \n",
       "  <svg xmlns=\"http://www.w3.org/2000/svg\" height=\"24px\"viewBox=\"0 0 24 24\"\n",
       "       width=\"24px\">\n",
       "    <path d=\"M0 0h24v24H0V0z\" fill=\"none\"/>\n",
       "    <path d=\"M18.56 5.44l.94 2.06.94-2.06 2.06-.94-2.06-.94-.94-2.06-.94 2.06-2.06.94zm-11 1L8.5 8.5l.94-2.06 2.06-.94-2.06-.94L8.5 2.5l-.94 2.06-2.06.94zm10 10l.94 2.06.94-2.06 2.06-.94-2.06-.94-.94-2.06-.94 2.06-2.06.94z\"/><path d=\"M17.41 7.96l-1.37-1.37c-.4-.4-.92-.59-1.43-.59-.52 0-1.04.2-1.43.59L10.3 9.45l-7.72 7.72c-.78.78-.78 2.05 0 2.83L4 21.41c.39.39.9.59 1.41.59.51 0 1.02-.2 1.41-.59l7.78-7.78 2.81-2.81c.8-.78.8-2.07 0-2.86zM5.41 20L4 18.59l7.72-7.72 1.47 1.35L5.41 20z\"/>\n",
       "  </svg>\n",
       "      </button>\n",
       "      \n",
       "  <style>\n",
       "    .colab-df-container {\n",
       "      display:flex;\n",
       "      flex-wrap:wrap;\n",
       "      gap: 12px;\n",
       "    }\n",
       "\n",
       "    .colab-df-convert {\n",
       "      background-color: #E8F0FE;\n",
       "      border: none;\n",
       "      border-radius: 50%;\n",
       "      cursor: pointer;\n",
       "      display: none;\n",
       "      fill: #1967D2;\n",
       "      height: 32px;\n",
       "      padding: 0 0 0 0;\n",
       "      width: 32px;\n",
       "    }\n",
       "\n",
       "    .colab-df-convert:hover {\n",
       "      background-color: #E2EBFA;\n",
       "      box-shadow: 0px 1px 2px rgba(60, 64, 67, 0.3), 0px 1px 3px 1px rgba(60, 64, 67, 0.15);\n",
       "      fill: #174EA6;\n",
       "    }\n",
       "\n",
       "    [theme=dark] .colab-df-convert {\n",
       "      background-color: #3B4455;\n",
       "      fill: #D2E3FC;\n",
       "    }\n",
       "\n",
       "    [theme=dark] .colab-df-convert:hover {\n",
       "      background-color: #434B5C;\n",
       "      box-shadow: 0px 1px 3px 1px rgba(0, 0, 0, 0.15);\n",
       "      filter: drop-shadow(0px 1px 2px rgba(0, 0, 0, 0.3));\n",
       "      fill: #FFFFFF;\n",
       "    }\n",
       "  </style>\n",
       "\n",
       "      <script>\n",
       "        const buttonEl =\n",
       "          document.querySelector('#df-80961726-eb8b-4bfa-9f56-503863eea639 button.colab-df-convert');\n",
       "        buttonEl.style.display =\n",
       "          google.colab.kernel.accessAllowed ? 'block' : 'none';\n",
       "\n",
       "        async function convertToInteractive(key) {\n",
       "          const element = document.querySelector('#df-80961726-eb8b-4bfa-9f56-503863eea639');\n",
       "          const dataTable =\n",
       "            await google.colab.kernel.invokeFunction('convertToInteractive',\n",
       "                                                     [key], {});\n",
       "          if (!dataTable) return;\n",
       "\n",
       "          const docLinkHtml = 'Like what you see? Visit the ' +\n",
       "            '<a target=\"_blank\" href=https://colab.research.google.com/notebooks/data_table.ipynb>data table notebook</a>'\n",
       "            + ' to learn more about interactive tables.';\n",
       "          element.innerHTML = '';\n",
       "          dataTable['output_type'] = 'display_data';\n",
       "          await google.colab.output.renderOutput(dataTable, element);\n",
       "          const docLink = document.createElement('div');\n",
       "          docLink.innerHTML = docLinkHtml;\n",
       "          element.appendChild(docLink);\n",
       "        }\n",
       "      </script>\n",
       "    </div>\n",
       "  </div>\n",
       "  "
      ],
      "text/plain": [
       "   Average Monthly Purchases  Membership (Months)   Age\n",
       "0                     650.32                 15.0  40.0\n",
       "1                     616.29                 39.2  63.0\n",
       "2                     813.15                 34.1  82.0\n",
       "3                    1116.03                 51.5  29.0\n",
       "4                     545.17                 21.8  22.0"
      ]
     },
     "execution_count": 12,
     "metadata": {},
     "output_type": "execute_result"
    }
   ],
   "source": [
    "purchase_data.head()"
   ]
  },
  {
   "cell_type": "markdown",
   "metadata": {
    "id": "RBGbwGgdlfc7"
   },
   "source": [
    "## Training Linear Regression Model in `scikit-learn`"
   ]
  },
  {
   "cell_type": "markdown",
   "metadata": {
    "id": "IP0EI_i95cf7"
   },
   "source": [
    "As we noted in lecture, before training a linear regression model, we need to separate our training data into features - in this case, we have `Membership (Months)` and `Age` in years - and outcomes, which in this case are the `Average Monthy Purchases` in dollars. We will then use this data to train a model to predict these purchased amounts. First, let's see if we can predict purchases from only the length of membership. How do you expect purchase quanitities to change with increasing membership?\n",
    "\n",
    "**Begin by running the cell below, taking the training features `X_train` to be `Membership (Months)` and the outcomes `y_train` to be `Average Monthy Purchases`.** "
   ]
  },
  {
   "cell_type": "code",
   "execution_count": null,
   "metadata": {
    "id": "3dbUjg86YaS4"
   },
   "outputs": [],
   "source": [
    "# seperate data into features and outcomes\n",
    "X_train = purchase_data[['Membership (Months)']]\n",
    "y_train = purchase_data['Average Monthly Purchases']"
   ]
  },
  {
   "cell_type": "markdown",
   "metadata": {
    "id": "egYmLDb_3ptk"
   },
   "source": [
    "Before doing any model fitting, it is always a good idea to visualize the data. **Run the code below, taken from the lecture, to plot membership versus purchases.** The `plt.scatter` function makes a plot of `x` against `y`, which we provide as columns from our DataFrame. Do you see any relationship? Do you expect the intercept and slope of a fitted linear regression model on this data to be positive or negative? "
   ]
  },
  {
   "cell_type": "code",
   "execution_count": null,
   "metadata": {
    "colab": {
     "base_uri": "https://localhost:8080/",
     "height": 313
    },
    "id": "b9E4r0l89eiA",
    "outputId": "7cdcd520-9a96-4e5b-d825-ea553b20fb33"
   },
   "outputs": [
    {
     "data": {
      "text/plain": [
       "Text(0, 0.5, 'Average Annual Purchases (Dollars)')"
      ]
     },
     "execution_count": 14,
     "metadata": {},
     "output_type": "execute_result"
    },
    {
     "data": {
      "image/png": "[encoded data removed]",
      "text/plain": [
       "<Figure size 432x288 with 1 Axes>"
      ]
     },
     "metadata": {
      "needs_background": "light"
     },
     "output_type": "display_data"
    }
   ],
   "source": [
    "#load plotting library and numerical library\n",
    "import matplotlib.pyplot as plt\n",
    "\n",
    "#plot raw data\n",
    "plt.scatter(x=purchase_data['Membership (Months)'], y=purchase_data['Average Monthly Purchases'],color=\"blue\") #make scatterplot\n",
    "plt.title('Membership versus Average Monthly Purchases') #plot title\n",
    "plt.xlabel('Membership (Months)')\n",
    "plt.ylabel('Average Annual Purchases (Dollars)')"
   ]
  },
  {
   "cell_type": "markdown",
   "metadata": {
    "id": "pZAijZE26Ayk"
   },
   "source": [
    "Now, let's train our linear regression model on just the membership feature. We initialize a linear model by instantiating the `LinearRegression` class as in lecture, and we store this model in the variable `linear_reg_model_membership`. We then train this model on our data `X_train` and `y_train` by calling the method `.fit()`. This estimates linear model parameters $\\theta_0$ (the model intercept) and $\\theta_1$ (the slope). **Run the code below to train the model.**\n",
    "\n",
    "\n"
   ]
  },
  {
   "cell_type": "code",
   "execution_count": null,
   "metadata": {
    "colab": {
     "base_uri": "https://localhost:8080/"
    },
    "id": "GkyuTNF7YVHe",
    "outputId": "a5923f60-3d91-43f8-8b6c-bb03edf0149c"
   },
   "outputs": [
    {
     "data": {
      "text/plain": [
       "LinearRegression()"
      ]
     },
     "execution_count": 15,
     "metadata": {},
     "output_type": "execute_result"
    }
   ],
   "source": [
    "#train create and train model\n",
    "from sklearn.linear_model import LinearRegression\n",
    "\n",
    "linear_reg_model_membership = LinearRegression()\n",
    "linear_reg_model_membership.fit(X_train, y_train)"
   ]
  },
  {
   "cell_type": "markdown",
   "metadata": {
    "id": "3xu-gddN68eq"
   },
   "source": [
    "Now extract the estimates for these parameters from the trained model using `.intercept_` and `.coef_`, just as done in lecture, by **running the code in the cell below.** "
   ]
  },
  {
   "cell_type": "code",
   "execution_count": null,
   "metadata": {
    "colab": {
     "base_uri": "https://localhost:8080/"
    },
    "id": "MpsYPVzFaDCg",
    "outputId": "feae9a6b-dd68-4e7a-df53-9d1cdafc9cc5"
   },
   "outputs": [
    {
     "name": "stdout",
     "output_type": "stream",
     "text": [
      "fitted slope theta1=18.065958379496884, fitted intercept theta0=99.03495211667871\n"
     ]
    }
   ],
   "source": [
    "#examine coefficients \n",
    "theta0 = linear_reg_model_membership.intercept_ #extract intercept\n",
    "theta1 = linear_reg_model_membership.coef_[0] # extract slope\n",
    "print(\"fitted slope theta1=%s, fitted intercept theta0=%s\" % (theta1, theta0))\n"
   ]
  },
  {
   "cell_type": "markdown",
   "metadata": {
    "id": "IT4p4Pzz7g3a"
   },
   "source": [
    "Do these slope and intercept values match the signs you predicted based on the plotted raw data?\n",
    "\n",
    "Now, let's visually check the fit of our model by plotting it against the raw data using the `matplotlib` package. After importing the relevant packages, the first part of the code below plots the raw data as done above. The second part of the code generates distance values from the smallest to the largest `Membership (Months)` values, plugs these values into the linear regression formula $y = \\theta_0 + \\theta_1 x$ to get purchase predictions, and then plots the resulting values on the same plot. **Run this code to generate the plot**. How well does the fitted model match the raw data?  "
   ]
  },
  {
   "cell_type": "code",
   "execution_count": null,
   "metadata": {
    "colab": {
     "base_uri": "https://localhost:8080/",
     "height": 295
    },
    "id": "mFKa_xvCbgme",
    "outputId": "d60c5b39-5a36-489e-d7ae-7a828370e4c4"
   },
   "outputs": [
    {
     "data": {
      "image/png": "[encoded data removed]",
      "text/plain": [
       "<Figure size 432x288 with 1 Axes>"
      ]
     },
     "metadata": {
      "needs_background": "light"
     },
     "output_type": "display_data"
    }
   ],
   "source": [
    "#plot raw data\n",
    "plt.scatter(x=purchase_data['Membership (Months)'], y=purchase_data['Average Monthly Purchases'],color=\"blue\")\n",
    "plt.title('Membership versus Average Monthly Purchases')\n",
    "plt.xlabel('Membership (Months)')\n",
    "plt.ylabel('Average Annual Purchases (Dollars)')\n",
    "#plot linear fit\n",
    "new_x = np.arange(start=purchase_data['Membership (Months)'].min(),stop=purchase_data['Membership (Months)'].max(),step=1)\n",
    "new_y = theta0+theta1*new_x\n",
    "plt.plot(new_x,new_y,color=\"red\")\n",
    "plt.show()"
   ]
  },
  {
   "cell_type": "markdown",
   "metadata": {
    "id": "Ed8ff30r5_1k"
   },
   "source": [
    "Now that we have a model, let's try to make predictions for a new customer, who has been a member for 12 months, and is 24 years old. The code follows the linear regression prediction code from lecture, creating a DataFrame with one data point. **Run the code in the cell below to predict the purchases for this customer. Then try changing the values of `Membership (Months)` (`[12]`) and `Age` (`[24]`), in order to make your own new customer - try this for a few different values.** How does this change the prediction?  "
   ]
  },
  {
   "cell_type": "code",
   "execution_count": null,
   "metadata": {
    "colab": {
     "base_uri": "https://localhost:8080/"
    },
    "id": "Rs_kTayv6FcL",
    "outputId": "e40b6250-1731-4a03-f957-190a784f405e"
   },
   "outputs": [
    {
     "name": "stdout",
     "output_type": "stream",
     "text": [
      "   Membership (Months)  Age  Average Annual Purchases\n",
      "0                   12   24                342.181933\n"
     ]
    }
   ],
   "source": [
    "#create new Data Frame with new customer\n",
    "purchase_prediction_df = pd.DataFrame({\"Membership (Months)\":[12],\"Age\":[24]})\n",
    "#make predictions\n",
    "predictions = linear_reg_model_membership.predict(purchase_prediction_df[['Membership (Months)']])\n",
    "#add predictions to Data Frame \n",
    "purchase_prediction_df['Average Monthly Purchases'] = predictions\n",
    "print(purchase_prediction_df)"
   ]
  },
  {
   "cell_type": "markdown",
   "metadata": {
    "id": "8_z7a-FB7Irv"
   },
   "source": [
    "You should see that predicted monthly purchases increase if you increase membership length, but don't change if you change the age. This is because we haven't included age in our model yet. \n",
    "\n",
    "Let's now look at `Age` alone as a feature. How well does it predict purchase volumes? **Change `x` value in the `plt.scatter` function below from `purchase_data['Membership (Months']` to instead plot `Age` on the x-axis (Hint: only change the text within the square brackes of `['Age']`)., then run the cell to plot age versus purchase volume.** Do you see any relationship? "
   ]
  },
  {
   "cell_type": "code",
   "execution_count": null,
   "metadata": {
    "colab": {
     "base_uri": "https://localhost:8080/",
     "height": 313
    },
    "id": "ESb48SgY2xci",
    "outputId": "17ae08fc-ffe0-4737-834f-2a450465dba9"
   },
   "outputs": [
    {
     "data": {
      "text/plain": [
       "Text(0, 0.5, 'Average Annual Purchases (Dollars)')"
      ]
     },
     "execution_count": 20,
     "metadata": {},
     "output_type": "execute_result"
    },
    {
     "data": {
      "image/png": "[encoded data removed]",
      "text/plain": [
       "<Figure size 432x288 with 1 Axes>"
      ]
     },
     "metadata": {
      "needs_background": "light"
     },
     "output_type": "display_data"
    }
   ],
   "source": [
    "#plot raw data\n",
    "plt.scatter(x=purchase_data['Membership (Months)'], y=purchase_data['Average Monthly Purchases'],color=\"blue\")\n",
    "plt.title('Membership versus Average Annual Purchases')\n",
    "plt.xlabel('Age (Years)')\n",
    "plt.ylabel('Average Annual Purchases (Dollars)')\n",
    "\n",
    "\n"
   ]
  },
  {
   "cell_type": "markdown",
   "metadata": {
    "id": "J7NlcEYo8R6k"
   },
   "source": [
    "Now, let's train our model just wit the feature `Age`. The cell below combines the data seperation, the model training, and the coefficient extraction from the above cells, now storing the model in a new object, `linear_reg_model_age`. **As above, change the training data from `X_train = purchase_data[['Membership (Months)']]` to train on `Age` instead, then run the cell to retrain the model.** What do the slope and intercept suggest about the relationship of age and purchas volume? "
   ]
  },
  {
   "cell_type": "code",
   "execution_count": null,
   "metadata": {
    "colab": {
     "base_uri": "https://localhost:8080/"
    },
    "id": "j0i2-CKB3ndl",
    "outputId": "c41bd456-5e5c-46fe-dced-cf168ca4342d"
   },
   "outputs": [
    {
     "name": "stdout",
     "output_type": "stream",
     "text": [
      "fitted slope theta1=-1.0755529855211055, fitted intercept theta0=727.8652892562988\n"
     ]
    }
   ],
   "source": [
    "# seperate data into features and outcomes\n",
    "X_train = purchase_data[['Membership (Months)']]\n",
    "y_train = purchase_data['Average Monthly Purchases']\n",
    "\n",
    "\n",
    "#train create and train model\n",
    "from sklearn.linear_model import LinearRegression\n",
    "\n",
    "linear_reg_model_age = LinearRegression()\n",
    "linear_reg_model_age.fit(X_train, y_train)\n",
    "\n",
    "#examine coefficients \n",
    "theta0 = linear_reg_model_age.intercept_ #extract intercept\n",
    "theta1 = linear_reg_model_age.coef_[0] # extract slope\n",
    "print(\"fitted slope theta1=%s, fitted intercept theta0=%s\" % (theta1, theta0))"
   ]
  },
  {
   "cell_type": "markdown",
   "metadata": {
    "id": "x1c8uGy39Ios"
   },
   "source": [
    "The slope of this model should be sligtly negative. In other words, purchase volume appears to decrease slightly with age. You should be cautious about reading too much into this relationship, given that it appears (from the plot and the model) to be relatively week, it still may provide some useful information for the overall model. **Run the cell below to plot the relationship of `Age` and `Average Monthly Purchases`, using similar code as above.** What relationship do you see? "
   ]
  },
  {
   "cell_type": "code",
   "execution_count": null,
   "metadata": {
    "colab": {
     "base_uri": "https://localhost:8080/",
     "height": 295
    },
    "id": "3m0KbQmM39A8",
    "outputId": "3423943e-1748-4261-b2e0-28dd3eb90100"
   },
   "outputs": [
    {
     "data": {
      "image/png": "[encoded data removed]",
      "text/plain": [
       "<Figure size 432x288 with 1 Axes>"
      ]
     },
     "metadata": {
      "needs_background": "light"
     },
     "output_type": "display_data"
    }
   ],
   "source": [
    "#plot raw data\n",
    "plt.scatter(x=purchase_data['Age'], y=purchase_data['Average Monthly Purchases'],color=\"blue\")\n",
    "plt.title('Membership versus Average Monthly Purchases')\n",
    "plt.xlabel('Age (Years)')\n",
    "plt.ylabel('Average Monthly Purchases (Dollars)')\n",
    "#plot linear fit\n",
    "new_x = np.arange(start=purchase_data['Age'].min(),stop=purchase_data['Age'].max(),step=1)\n",
    "new_y = theta0+theta1*new_x\n",
    "plt.plot(new_x,new_y,color=\"red\")\n",
    "plt.show()"
   ]
  },
  {
   "cell_type": "markdown",
   "metadata": {
    "id": "Wq-nyPJW-Knt"
   },
   "source": [
    "Let's again make predictions for our hypothetical customer, who is 24 and has been a member for 12 months. **Run the cell to make the prediction, then change the `Age` as before and rerun the cell to see what the model predicts for different ages. Try low age (say, 18), and a higher age (say, 85).** How does the prediction in purchase volume change?  "
   ]
  },
  {
   "cell_type": "code",
   "execution_count": null,
   "metadata": {
    "colab": {
     "base_uri": "https://localhost:8080/"
    },
    "id": "558sfASc7XEX",
    "outputId": "e43cc5c7-c0fe-4621-c339-df7d44d1c4e3"
   },
   "outputs": [
    {
     "name": "stdout",
     "output_type": "stream",
     "text": [
      "   Membership (Months)  Age  Average Monthly Purchases\n",
      "0                   12   24                 702.052018\n"
     ]
    }
   ],
   "source": [
    "#create new Data Frame with new customer\n",
    "purchase_prediction_df = pd.DataFrame({\"Membership (Months)\":[12],\"Age\":[24]})\n",
    "#make predictions\n",
    "predictions = linear_reg_model_age.predict(purchase_prediction_df[['Age']])\n",
    "#add predictions to Data Frame \n",
    "purchase_prediction_df['Average Monthly Purchases'] = predictions\n",
    "print(purchase_prediction_df)"
   ]
  },
  {
   "cell_type": "markdown",
   "metadata": {
    "id": "wh_YwgR1-0N-"
   },
   "source": [
    "Now, let's combine both of our features, and perform multivariate linear regression. **Run the code below to seperate the data, train the model and save it in the variable `linear_reg_model_combined`, and then print the model coefficients. Do the signs and magnitudes of these coefficients match your expections?"
   ]
  },
  {
   "cell_type": "code",
   "execution_count": null,
   "metadata": {
    "colab": {
     "base_uri": "https://localhost:8080/"
    },
    "id": "QiwyNKFn4mDY",
    "outputId": "b00c9275-7173-4a62-fb82-1a4a665ed516"
   },
   "outputs": [
    {
     "name": "stdout",
     "output_type": "stream",
     "text": [
      "fitted coefficient theta1=18.358788097179094, fitted coefficient theta2=-2.6751069042796014, fitted intercept theta0=219.22999390910644\n"
     ]
    }
   ],
   "source": [
    "# seperate data into features and outcomes\n",
    "X_train = purchase_data[['Membership (Months)', 'Age']]\n",
    "y_train = purchase_data['Average Monthly Purchases']\n",
    "\n",
    "\n",
    "#train create and train model\n",
    "from sklearn.linear_model import LinearRegression\n",
    "\n",
    "linear_reg_model_combined = LinearRegression()\n",
    "linear_reg_model_combined.fit(X_train, y_train)\n",
    "\n",
    "#examine coefficients \n",
    "theta0 = linear_reg_model_combined.intercept_ #extract intercept\n",
    "theta1 = linear_reg_model_combined.coef_[0] # extract first coefficient\n",
    "theta2 = linear_reg_model_combined.coef_[1] # extract second coefficient\n",
    "print(\"fitted coefficient theta1=%s, fitted coefficient theta2=%s, fitted intercept theta0=%s\" % (theta1, theta2, theta0))"
   ]
  },
  {
   "cell_type": "markdown",
   "metadata": {
    "id": "0F-QoI32khGK"
   },
   "source": [
    "Now, let's make predictions on our hypothetical customer with this multivariate model. **Run the cell below to view these predictions. Then change both `Membership (Months)` and `Age` for a few different values and rerun the cell to see how the prediction changes.**   "
   ]
  },
  {
   "cell_type": "code",
   "execution_count": null,
   "metadata": {
    "colab": {
     "base_uri": "https://localhost:8080/"
    },
    "id": "Gc66PVe6d9vl",
    "outputId": "896746fc-542a-45db-d631-e49e799b0808"
   },
   "outputs": [
    {
     "name": "stdout",
     "output_type": "stream",
     "text": [
      "   Membership (Months)  Age  Average Annual Purchases\n",
      "0                   12   24                457.300272\n"
     ]
    }
   ],
   "source": [
    "#create new Data Frame with new customer\n",
    "purchase_prediction_df = pd.DataFrame({\"Membership (Months)\":[12],\"Age\":[24]})\n",
    "#make predictions\n",
    "predictions = linear_reg_model_combined.predict(purchase_prediction_df[[\"Membership (Months)\",\"Age\"]])\n",
    "#add predictions to Data Frame \n",
    "purchase_prediction_df['Average Annual Purchases'] = predictions\n",
    "print(purchase_prediction_df)"
   ]
  },
  {
   "cell_type": "markdown",
   "metadata": {
    "id": "zTeF0EMN-RjK"
   },
   "source": [
    "To finish up, let's look at diagnostic metrics from this model that we touched on in lecture: mean absolute error, the average absolute difference between predicted and true market sizes, and mean squared error, the average squared difference between predicted and true market sizes.\n",
    "\n",
    "Remember that mean absolute error gives an intuitive idea of the difference between  model predictions and reality, and that mean squared error is the quantity that is minimized by our trained linear regression model. **Run the cell below to get thse values for the combined model.**"
   ]
  },
  {
   "cell_type": "code",
   "execution_count": null,
   "metadata": {
    "colab": {
     "base_uri": "https://localhost:8080/"
    },
    "id": "wEy3DBLv9RuH",
    "outputId": "892a3f00-dec9-4d16-e8f5-e601e8629ad7"
   },
   "outputs": [
    {
     "name": "stdout",
     "output_type": "stream",
     "text": [
      "Mean Absolute Error: 148.33557236212926\n",
      "Mean Squared Error: 31648.215052350584\n"
     ]
    }
   ],
   "source": [
    "#examine training error\n",
    "from sklearn import metrics\n",
    "print('Mean Absolute Error:', metrics.mean_absolute_error(y_train, linear_reg_model_combined.predict(X_train)))\n",
    "print('Mean Squared Error:', metrics.mean_squared_error(y_train, linear_reg_model_combined.predict(X_train)))"
   ]
  },
  {
   "cell_type": "markdown",
   "metadata": {
    "id": "Nx9XUk48AbO7"
   },
   "source": [
    "What might you take away from this dataset and your regressions? Purchase volumes seem to increase with customer membership duration and slightly decrease with age. This might suggest further questions to examine: what products are driving purchases amongst younger customers and customers who have been members longer? Should rewards for longer term members be increased? Should more advertising be targeted at younger (perhaps more lucrative) potential customers? "
   ]
  }
 ],
 "metadata": {
  "colab": {
   "collapsed_sections": [],
   "name": "Homework_Week1.ipynb",
   "provenance": []
  },
  "kernelspec": {
   "display_name": "Python 3",
   "language": "python",
   "name": "python3"
  },
  "language_info": {
   "codemirror_mode": {
    "name": "ipython",
    "version": 3
   },
   "file_extension": ".py",
   "mimetype": "text/x-python",
   "name": "python",
   "nbconvert_exporter": "python",
   "pygments_lexer": "ipython3",
   "version": "3.10.4"
  }
 },
 "nbformat": 4,
 "nbformat_minor": 1
}
