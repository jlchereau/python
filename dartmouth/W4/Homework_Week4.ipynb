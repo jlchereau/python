{
 "cells": [
  {
   "cell_type": "markdown",
   "metadata": {
    "id": "6wlBsD3lzNuf"
   },
   "source": [
    "# Homework 4: Optimization\n",
    "\n"
   ]
  },
  {
   "cell_type": "markdown",
   "metadata": {
    "id": "uT2Ca7RXeN4z"
   },
   "source": [
    "In this homework, you will act as  the logistics expert of a distribution company, that wants to figure out how to most efficiently serve its customers. This company has one sourcing location and nine customers.\n",
    "The demand from each customer is equal, and has to be served through\n",
    "one of the company distribution points. The goods are shipped from the sourcing location to the\n",
    "distribution point and then transported to the individual customers. There are three possible candidate\n",
    "distribution point locations to choose from. You are given a table of data that shows the cost of transportation from each\n",
    "of the distribution points to each customer. These transportation costs are directly\n",
    "proportional to the distance between the distribution point and the customer locations. The company\n",
    "wants to establish a distribution point at two of these three locations in order to minimize the maximum\n",
    "distance from each customer to the nearest distribution point, so that no one customer is particularly far from their distribution location. What is the best way to do this?\n"
   ]
  },
  {
   "cell_type": "markdown",
   "metadata": {
    "id": "k0VVA-wr2YCU"
   },
   "source": [
    "First, let's read in our data, which shows the costs for shipping to each customer from each distribution point location. **Run the code below to load the `.csv` file into a `Pandas` data frame. "
   ]
  },
  {
   "cell_type": "code",
   "execution_count": 22,
   "metadata": {
    "colab": {
     "base_uri": "https://localhost:8080/",
     "height": 206
    },
    "id": "jbBH5NgVldCi",
    "outputId": "c5481551-01bf-498f-c6d7-166c4f8e05da"
   },
   "outputs": [
    {
     "data": {
      "text/html": [
       "<div>\n",
       "<style scoped>\n",
       "    .dataframe tbody tr th:only-of-type {\n",
       "        vertical-align: middle;\n",
       "    }\n",
       "\n",
       "    .dataframe tbody tr th {\n",
       "        vertical-align: top;\n",
       "    }\n",
       "\n",
       "    .dataframe thead th {\n",
       "        text-align: right;\n",
       "    }\n",
       "</style>\n",
       "<table border=\"1\" class=\"dataframe\">\n",
       "  <thead>\n",
       "    <tr style=\"text-align: right;\">\n",
       "      <th></th>\n",
       "      <th>Customer</th>\n",
       "      <th>Location A</th>\n",
       "      <th>Location B</th>\n",
       "      <th>Location C</th>\n",
       "    </tr>\n",
       "  </thead>\n",
       "  <tbody>\n",
       "    <tr>\n",
       "      <th>0</th>\n",
       "      <td>1</td>\n",
       "      <td>170</td>\n",
       "      <td>170</td>\n",
       "      <td>50</td>\n",
       "    </tr>\n",
       "    <tr>\n",
       "      <th>1</th>\n",
       "      <td>2</td>\n",
       "      <td>200</td>\n",
       "      <td>150</td>\n",
       "      <td>50</td>\n",
       "    </tr>\n",
       "    <tr>\n",
       "      <th>2</th>\n",
       "      <td>3</td>\n",
       "      <td>170</td>\n",
       "      <td>80</td>\n",
       "      <td>70</td>\n",
       "    </tr>\n",
       "    <tr>\n",
       "      <th>3</th>\n",
       "      <td>4</td>\n",
       "      <td>100</td>\n",
       "      <td>170</td>\n",
       "      <td>70</td>\n",
       "    </tr>\n",
       "    <tr>\n",
       "      <th>4</th>\n",
       "      <td>5</td>\n",
       "      <td>120</td>\n",
       "      <td>60</td>\n",
       "      <td>60</td>\n",
       "    </tr>\n",
       "  </tbody>\n",
       "</table>\n",
       "</div>"
      ],
      "text/plain": [
       "   Customer  Location A  Location B  Location C\n",
       "0         1         170         170          50\n",
       "1         2         200         150          50\n",
       "2         3         170          80          70\n",
       "3         4         100         170          70\n",
       "4         5         120          60          60"
      ]
     },
     "execution_count": 22,
     "metadata": {},
     "output_type": "execute_result"
    }
   ],
   "source": [
    "import pandas as pd\n",
    "shipping_data = pd.read_csv('customer_distribution_distances.csv')\n",
    "shipping_data.head()"
   ]
  },
  {
   "cell_type": "markdown",
   "metadata": {
    "id": "NxiJbXKbiDNC"
   },
   "source": [
    "Now, let's put together our optimization problem piece by piece. This problem is requiring us to make binary decisions, so it is an integer program. The first step is figuring out our decision variables, and an objective to minimize or maximize. In this case, the company wants to minimize the maximum distance from each customer to their distribution point. \n",
    "\n",
    "Let's define our set of customers as $C$ and our set of distribution points as $D$. If we write the distance from customer $i$ to distribution point $j$ as $d_{ij}$, and define a binary variable $x_{ij}$ to be 1 if we supply customer $i$ from distribution point $j$ and 0 otherwise, we can write the objective function as $\\max\\{d_{ij}x_{ij} \\: \\forall \\:  i \\in C, j \\in D  \\}$ - in other words, find the largest $d_{ij}x_{ij}$ over all combinations of $i$ and $j$. This is the value we want to minimize.\n",
    "\n",
    "However, recall from lecture that the $\\max$ function is a nonlinear function. In order to perform our optimization efficiently, we want to linearize this. In lecture, we saw that we can define another variable (let's call it $T$) to be this maximum  $d_{ij}x_{ij}$ - then we simply need to add constraints such that  $T$ is greater than all $d_{ij}x_{ij}$ values. Since $T$ is being minimized, $T$ will necessarily take on the largest $d_{ij}x_{ij}$ value. Do you see why? \n",
    "\n",
    "Let's start by initializing our model, our sets $D$ and $C$, and declare our variables, just as we did in lecture. We will also want a variable to describe which of our distribution points we use - remember this is the main decision the company is interested in! Let's call it $y_j$, one for each candidate distribution point $j$, such that it is 1 if we use that distribution point, and 0 if we don't. **Run the cell below to define our indices and variables**. Note that while $x_{ij}$ and $y_j$ are both binary, we let $T$ take on any non-negative real value. "
   ]
  },
  {
   "cell_type": "code",
   "execution_count": 23,
   "metadata": {
    "id": "S1sGsSJrl35b"
   },
   "outputs": [],
   "source": [
    "from pyomo.environ import *\n",
    "\n",
    "# create a model\n",
    "model = ConcreteModel()\n",
    "\n",
    "#distribution indices\n",
    "D = range(3)\n",
    "#customer indices \n",
    "C = range(9)\n",
    "\n",
    "\n",
    "# declare decision variables\n",
    "model.y = Var(D,domain=Binary)\n",
    "model.x = Var(C,D,domain=Binary)\n",
    "model.T = Var(domain=NonNegativeReals)"
   ]
  },
  {
   "cell_type": "markdown",
   "metadata": {
    "id": "RUXtx0RanX7M"
   },
   "source": [
    "Now, let's define our objective function. We are just trying to minimize $T$, so our expression is very simple, it is just $T$ - this is a linear function, since $T$ is a variable! The objective function below is set up as a maximization problem. **Change this to be a minimization problem, then run the cell below.**"
   ]
  },
  {
   "cell_type": "code",
   "execution_count": 24,
   "metadata": {
    "id": "ySKN9gLLnbO5"
   },
   "outputs": [],
   "source": [
    "# declare objective\n",
    "# model.min_max_cost = Objective(expr =  model.T, sense=maximize)\n",
    "model.min_max_cost = Objective(expr =  model.T, sense=minimize)"
   ]
  },
  {
   "cell_type": "markdown",
   "metadata": {
    "id": "DemDKI4soGz0"
   },
   "source": [
    "Now we need our constraints that ensure $T$ is equivalent to the maximum distance from a distribution point to a customer. First we need our distance data in an easily useable form. **Run the cell below to convert the data from a `Pandas` data frame to a `Numpy` matrix.**"
   ]
  },
  {
   "cell_type": "code",
   "execution_count": 25,
   "metadata": {
    "colab": {
     "base_uri": "https://localhost:8080/"
    },
    "id": "UQ7Fv40hltHB",
    "outputId": "08f04ffc-2563-4068-c403-24adff5b7118"
   },
   "outputs": [
    {
     "name": "stdout",
     "output_type": "stream",
     "text": [
      "[[170 170  50]\n",
      " [200 150  50]\n",
      " [170  80  70]\n",
      " [100 170  70]\n",
      " [120  60  60]\n",
      " [ 40 150 150]\n",
      " [ 80 160 120]\n",
      " [100 140  40]\n",
      " [100  40  40]]\n"
     ]
    }
   ],
   "source": [
    "import numpy as np\n",
    "d = np.array(shipping_data.iloc[0:9,1:4])\n",
    "print(d)"
   ]
  },
  {
   "cell_type": "markdown",
   "metadata": {
    "id": "Xm37QyzDomcf"
   },
   "source": [
    "We can now add our constraints to ensure that $T$ is a maximum. Since there will be a lot of constraints, the cell below uses a `ConstraintList`, just as we saw in lecture. For our contraints, we need $T \\geq d_{ij} x_{ij}, \\forall \\: i \\in C, j \\in D$. **Run the cell below to create the constraint list, then add this constraint for each customer $i$ and distribution point $j$.** "
   ]
  },
  {
   "cell_type": "code",
   "execution_count": 26,
   "metadata": {
    "id": "YvcOwtEEo9Bm"
   },
   "outputs": [],
   "source": [
    "# add model constraints\n",
    "model.constraints = ConstraintList()\n",
    "#maximum distance linearization\n",
    "for i in C:\n",
    "  for j in D: \n",
    "    model.constraints.add(model.T >= d[i,j]*model.x[i,j])"
   ]
  },
  {
   "cell_type": "markdown",
   "metadata": {
    "id": "3bkDtXbrpdiH"
   },
   "source": [
    "We also need a constraint that ensures that 2 (and only 2) distribution points are open. We can do this by ensuring that $y_1 + y_2 + y_3 = 2$, or, with summation notation, $\\sum_j y_j = 2$. Do you see why? The code in the cell below ensures that only one distribution point is open. **Change this so that 2 distribution points are open, then run the cell**."
   ]
  },
  {
   "cell_type": "code",
   "execution_count": 27,
   "metadata": {
    "colab": {
     "base_uri": "https://localhost:8080/"
    },
    "id": "CrYyyHU2qhcP",
    "outputId": "9862f7ec-c9c5-4882-f806-a0bce6762642"
   },
   "outputs": [
    {
     "data": {
      "text/plain": [
       "<pyomo.core.base.constraint._GeneralConstraintData at 0x23bc9a1e4a0>"
      ]
     },
     "execution_count": 27,
     "metadata": {},
     "output_type": "execute_result"
    }
   ],
   "source": [
    "# only two warehouses\n",
    "# model.constraints.add(sum(model.y[j] for j in D) == 1)\n",
    "model.constraints.add(sum(model.y[j] for j in D) == 2)"
   ]
  },
  {
   "cell_type": "markdown",
   "metadata": {
    "id": "FOBfY4efq2Vb"
   },
   "source": [
    "We also need constraints that make sure that each customer demand is supplied by one and only one supply center (less than one means that the customer is not satisfied, and more than one means that we are unnessarily oversupplying the customer at our expense). We need one of these constraints for each customer, so we'll again use a loop, now over each customer $i$, and for each customer sum up all $x_{ij}$ associated with this customer, and make sure that sum equals one. In math, this is $\\sum_{j \\in D} x_{ij} = 1$ for each customer $i$. The code below ensures that each customer will be supplied by 2 distribution points. **Change the code so that each customer is supplied by one and only one distribution point.**"
   ]
  },
  {
   "cell_type": "code",
   "execution_count": 28,
   "metadata": {
    "id": "oMEjZX96rKgx"
   },
   "outputs": [],
   "source": [
    "# customer demand satisfied by one and only one distribution center\n",
    "for i in C:\n",
    "   # model.constraints.add(sum(model.x[i,j] for j in D) == 2)\n",
    "   model.constraints.add(sum(model.x[i,j] for j in D) == 1)"
   ]
  },
  {
   "cell_type": "markdown",
   "metadata": {
    "id": "Eewpdo43sCr3"
   },
   "source": [
    "Finally, we need a constraint that ensures that customers are only supplied by distibution points that are open - in other words, if $x_{ij}$ is one, $y_j$ with the same $j$ must also be 1. In lecture, we achieved this with what we called a forcing constraint. If $x_{ij} \\leq y_j$ for all $i$ and $j$, then we have ensured that, if any $x_{ij}$ for any customer $i$ is one, than $y_j$ for that $j$ is also 1. **The code below writes these constraints in a loop, but gets the inequality wrong. Fix the inequality to be correct, then run the cell to define the constraints.**"
   ]
  },
  {
   "cell_type": "code",
   "execution_count": 29,
   "metadata": {
    "id": "755zWG0otfSk"
   },
   "outputs": [],
   "source": [
    "#forcing constraints (distribution cannot supply unless open)\n",
    "for i in C:\n",
    "  for j in D:\n",
    "    # model.constraints.add(model.x[i,j] >= model.y[j])\n",
    "    model.constraints.add(model.x[i,j] <= model.y[j])"
   ]
  },
  {
   "cell_type": "markdown",
   "metadata": {
    "id": "SCE_EpaJhj_X"
   },
   "source": [
    "\n",
    "We now have defined our whole model, which summarized mathematically is as follows: \n",
    "\n",
    "$$\n",
    "\\begin{aligned}\n",
    "& \\underset{T,x,y}{\\text{minimize}}\n",
    "& & T\\\\\n",
    "& \\text{subject to}\n",
    "& & T \\geq d_{ij} x_{ij}, \\forall \\: i \\in C, j \\in D \\\\\n",
    "& & & \\sum_{j \\in D} y_{j} = 2 \\\\\n",
    "& & & \\sum_{j \\in D} x_{ij} = 1, \\forall \\:  i \\in C \\\\\n",
    "& & & x_{ij} \\leq y_j, \\forall \\: i \\in C, j \\in D \\\\\n",
    "&&& x_{ij}, y_j \\in \\{0,1\\} , \\forall \\: i \\in C, j \\in D \\\\\n",
    "&&& T \\geq 0\n",
    "\\end{aligned}\n",
    "$$\n",
    "\n",
    "\n"
   ]
  },
  {
   "cell_type": "markdown",
   "metadata": {
    "id": "KakbZEsRtkRy"
   },
   "source": [
    " **Run the cell below to solve the model with the `glpk` solver.** "
   ]
  },
  {
   "cell_type": "code",
   "execution_count": 31,
   "metadata": {
    "colab": {
     "base_uri": "https://localhost:8080/"
    },
    "id": "LQEd9_QWtjmF",
    "outputId": "d2342963-a936-4816-94e4-f00acad1e709"
   },
   "outputs": [
    {
     "name": "stdout",
     "output_type": "stream",
     "text": [
      "# ==========================================================\n",
      "# = Solver Results                                         =\n",
      "# ==========================================================\n",
      "# ----------------------------------------------------------\n",
      "#   Problem Information\n",
      "# ----------------------------------------------------------\n",
      "Problem: \n",
      "- Name: unknown\n",
      "  Lower bound: 80.0\n",
      "  Upper bound: 80.0\n",
      "  Number of objectives: 1\n",
      "  Number of constraints: 65\n",
      "  Number of variables: 32\n",
      "  Number of nonzeros: 139\n",
      "  Sense: minimize\n",
      "# ----------------------------------------------------------\n",
      "#   Solver Information\n",
      "# ----------------------------------------------------------\n",
      "Solver: \n",
      "- Status: ok\n",
      "  Termination condition: optimal\n",
      "  Statistics: \n",
      "    Branch and bound: \n",
      "      Number of bounded subproblems: 19\n",
      "      Number of created subproblems: 19\n",
      "  Error rc: 0\n",
      "  Time: 0.05406332015991211\n",
      "# ----------------------------------------------------------\n",
      "#   Solution Information\n",
      "# ----------------------------------------------------------\n",
      "Solution: \n",
      "- number of solutions: 0\n",
      "  number of solutions displayed: 0\n"
     ]
    }
   ],
   "source": [
    "# SolverFactory('glpk', executable='/usr/bin/glpsol').solve(model).write()\n",
    "# Download and install glpsol from https://sourceforge.net/projects/winglpk/\n",
    "SolverFactory('glpk', executable='glpsol').solve(model).write()"
   ]
  },
  {
   "cell_type": "markdown",
   "metadata": {
    "id": "zlMSLpVbuKmi"
   },
   "source": [
    "Let's view the optimal minimized maximum distance, open distribution points and which distribution points supply which customers at optimality. Since it is convenient to view these variables in tables with their associated customer and distribution point lables, we create `Pandas` Data Frames for both `model.x` and `model.y`, just as we did in lection. .\n",
    "\n",
    "In particular, to look at the values of `model.x`, we borrow the structure of the `shipping_data` table (which has labels for both customers and distribution points) using the `.copy()` method, then weloop through all indicies of `model.x` and insert these flow values in their corresponding spot in the new Data Frame `x`. **Run the cell below to print out the optimal cost and decisions for this model, examine the output, create a new text cell, and briefly explain in that cell your recommendations to the company.**"
   ]
  },
  {
   "cell_type": "code",
   "execution_count": 32,
   "metadata": {
    "colab": {
     "base_uri": "https://localhost:8080/"
    },
    "id": "08yj_DDxt5Wb",
    "outputId": "292a3fa4-5dae-4a49-8094-63e9b264c137"
   },
   "outputs": [
    {
     "name": "stdout",
     "output_type": "stream",
     "text": [
      "\n",
      "Profit =  80.0\n",
      "\n",
      "Decision Variables\n",
      "\n",
      "y: which distribution centers open?\n",
      "  Distribution Center  Open?\n",
      "0                   A    1.0\n",
      "1                   B    0.0\n",
      "2                   C    1.0\n",
      "\n",
      "x: flow from warehouse in city i to region j\n",
      "   Customer  Location A  Location B  Location C\n",
      "0         1           0           0           1\n",
      "1         2           0           0           1\n",
      "2         3           0           0           1\n",
      "3         4           0           0           1\n",
      "4         5           0           0           1\n",
      "5         6           1           0           0\n",
      "6         7           1           0           0\n",
      "7         8           0           0           1\n",
      "8         9           0           0           1\n"
     ]
    }
   ],
   "source": [
    "# display solution\n",
    "print('\\nProfit = ', model.min_max_cost())\n",
    "\n",
    "print('\\nDecision Variables')\n",
    "\n",
    "print('\\ny: which distribution centers open?')\n",
    "#print y\n",
    "print(pd.DataFrame({\"Distribution Center\":['A','B','C'],\"Open?\":[model.y[i].value for i in D]}))\n",
    "\n",
    "#print x\n",
    "print('\\nx: flow from warehouse in city i to region j')\n",
    "x = shipping_data.copy()\n",
    "for i in C:\n",
    "  for j in D:\n",
    "    x.iloc[i,j+1] = model.x[i,j].value\n",
    "print(x)\n"
   ]
  },
  {
   "cell_type": "markdown",
   "metadata": {},
   "source": [
    "## Recommendations to the Company\n",
    "\n",
    "The two recommended distribution points are `Location A`  and `Location C`. `Location B` is not recommended.\n",
    "- `Location A` can serve customers `6` and `7`\n",
    "- `Location B` caan serve customers `1`, `2`, `3`, `4`, `5` and `8`, `9`."
   ]
  }
 ],
 "metadata": {
  "colab": {
   "name": "Homework_Week4.ipynb",
   "provenance": []
  },
  "interpreter": {
   "hash": "369f2c481f4da34e4445cda3fffd2e751bd1c4d706f27375911949ba6bb62e1c"
  },
  "kernelspec": {
   "display_name": "Python 3.10.4 64-bit",
   "language": "python",
   "name": "python3"
  },
  "language_info": {
   "codemirror_mode": {
    "name": "ipython",
    "version": 3
   },
   "file_extension": ".py",
   "mimetype": "text/x-python",
   "name": "python",
   "nbconvert_exporter": "python",
   "pygments_lexer": "ipython3",
   "version": "3.10.4"
  }
 },
 "nbformat": 4,
 "nbformat_minor": 1
}
