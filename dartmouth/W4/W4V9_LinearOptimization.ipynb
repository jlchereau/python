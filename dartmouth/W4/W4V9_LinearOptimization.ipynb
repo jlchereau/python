{
 "cells": [
  {
   "cell_type": "markdown",
   "metadata": {},
   "source": [
    "# Linear Optimization"
   ]
  },
  {
   "cell_type": "markdown",
   "metadata": {},
   "source": [
    "In this notebook we will learn how to solve linear optimiztion problems in Python using the package `Pyomo` and the open source optimization solver `glpk`.\n",
    "\n",
    "`Pyomo` allows us to formulate mathematical optimization problems conveniently in Python, and passes these problems to a solver backend. `Pyomo` can use many solvers: `glpk` is free and convenient for small and medium-sized optimization problems. "
   ]
  },
  {
   "cell_type": "markdown",
   "metadata": {},
   "source": [
    "The problem we will solve is from earlier this week, where a Home Appliance company is trying to maximize its profit by deciding how many washers and dryers to produce, subject to constraints on manufacturing, testing, and assembly resources. \n",
    "\n",
    "Recall that we defined $x_1$ as the number of washers produced per day, $x_2$ as the number of dryers produced per day. Washers and dryers produced a profit of \\\\$100 and \\\\$200 per unit, respectively. \n",
    "\n",
    "The company’s resources are such that only 20 hours of manufacturing, 20 hours of assembly and 25 hours of testing are available per day. Each washer has to spend 1 hr in manufacturing, 2 hrs in assembly and 2 hrs in testing. Each dryer has to spend 2 hrs in manufacturing, 1 hr in assembly and 2 hrs in testing.\n",
    "\n",
    "We formulated this problem mathematically as follows: \n",
    "\n",
    "$$\n",
    "\\begin{aligned}\n",
    "& \\underset{x}{\\text{maximize}}\n",
    "& & 100 x_1 + 120 x_2\\\\\n",
    "& \\text{subject to}\n",
    "& & x_1 + 2 x_2 \\leq 20 \\\\\n",
    "& & & 2x_1 +  x_2 \\leq 20 \\\\\n",
    "& & & 2x_1 + 2 x_2 \\leq 25 \\\\\n",
    "&&& x_1, x_1 \\geq 0\n",
    "\\end{aligned}\n",
    "$$"
   ]
  },
  {
   "cell_type": "code",
   "execution_count": 1,
   "metadata": {},
   "outputs": [],
   "source": [
    "from pyomo.environ import *\n",
    "\n",
    "# create a model\n",
    "model = ConcreteModel()"
   ]
  },
  {
   "cell_type": "markdown",
   "metadata": {},
   "source": [
    "Next, we need to define our decision variables. We do this using the `Var` class, and save these variables as `model.x`. We first specify how this variable will be indexed: since we have $x_1$ and $x_2$, we define the variables with the index list `[1,2]`. You can define indices in `Pyomo` using many different approaches, including dictionaries and functions - for this relatively simple variable, a simple list will work well. We also specify what type of variables these are: in this case, they are real numbers greater than or equal to zero, so we specify `Domain` as `NonNegativeReals`. This takes care of the final constraint in the mathematical formulation. If we wanted to allow our variables to be negative, we could specify the `Domain` as `Reals`."
   ]
  },
  {
   "cell_type": "code",
   "execution_count": 2,
   "metadata": {},
   "outputs": [],
   "source": [
    "#declare decision variables. [1,2] defines the index set\n",
    "model.x = Var([1,2],domain=NonNegativeReals)"
   ]
  },
  {
   "cell_type": "markdown",
   "metadata": {},
   "source": [
    "In the next line, we define our objective function using the `Objective` class, and save it in our model object as model.profit. We give the expression `expr` as `100*model.x[1] + 120*model.x[2]`, just as in the mathematical formulation, and specify that this is a maximization problem by setting `sense` as `maximize`."
   ]
  },
  {
   "cell_type": "code",
   "execution_count": 3,
   "metadata": {},
   "outputs": [],
   "source": [
    "#declare objective\n",
    "model.profit = Objective(expr = 100*model.x[1] + 120*model.x[2], sense=maximize)"
   ]
  },
  {
   "cell_type": "markdown",
   "metadata": {},
   "source": [
    "Now, we can define our constraints - we instantiate one member of the `Constraint` class for each one of our mathematical constraints - except for the non-negativity constraints, which we specified as part of our variable definitions. We write the constraint expression for `expr` similarly to the objective function, but this time, we include the inequality `<=` to set the constraint. If we instead wanted an equality constraint, we would use `==`.\n",
    "\n",
    "We then can get a summary of our model using the `.pprint()` method."
   ]
  },
  {
   "cell_type": "code",
   "execution_count": 4,
   "metadata": {},
   "outputs": [
    {
     "name": "stdout",
     "output_type": "stream",
     "text": [
      "1 Set Declarations\n",
      "    x_index : Size=1, Index=None, Ordered=Insertion\n",
      "        Key  : Dimen : Domain : Size : Members\n",
      "        None :     1 :    Any :    2 : {1, 2}\n",
      "\n",
      "1 Var Declarations\n",
      "    x : Size=2, Index=x_index\n",
      "        Key : Lower : Value : Upper : Fixed : Stale : Domain\n",
      "          1 :     0 :  None :  None : False :  True : NonNegativeReals\n",
      "          2 :     0 :  None :  None : False :  True : NonNegativeReals\n",
      "\n",
      "1 Objective Declarations\n",
      "    profit : Size=1, Index=None, Active=True\n",
      "        Key  : Active : Sense    : Expression\n",
      "        None :   True : maximize : 100*x[1] + 120*x[2]\n",
      "\n",
      "3 Constraint Declarations\n",
      "    assembly : Size=1, Index=None, Active=True\n",
      "        Key  : Lower : Body          : Upper : Active\n",
      "        None :  -Inf : 2*x[1] + x[2] :  20.0 :   True\n",
      "    manufacturing : Size=1, Index=None, Active=True\n",
      "        Key  : Lower : Body          : Upper : Active\n",
      "        None :  -Inf : x[1] + 2*x[2] :  20.0 :   True\n",
      "    testing : Size=1, Index=None, Active=True\n",
      "        Key  : Lower : Body            : Upper : Active\n",
      "        None :  -Inf : 2*x[1] + 2*x[2] :  25.0 :   True\n",
      "\n",
      "6 Declarations: x_index x profit manufacturing assembly testing\n"
     ]
    }
   ],
   "source": [
    "#declare constraints\n",
    "model.manufacturing = Constraint(expr = model.x[1] +2*model.x[2] <= 20)\n",
    "model.assembly = Constraint(expr = 2*model.x[1] + model.x[2] <= 20)\n",
    "model.testing = Constraint(expr = 2*model.x[1] + 2*model.x[2] <= 25)\n",
    "\n",
    "model.pprint()"
   ]
  },
  {
   "cell_type": "markdown",
   "metadata": {},
   "source": [
    "We can now solve our model. We use `SolverFactory` to specify the solver - in this case, `glpk`, call the method `.solve()` on our model to perform the optimization, then call `.write()` to get detailed solution output."
   ]
  },
  {
   "cell_type": "code",
   "execution_count": 5,
   "metadata": {},
   "outputs": [
    {
     "name": "stdout",
     "output_type": "stream",
     "text": [
      "# ==========================================================\n",
      "# = Solver Results                                         =\n",
      "# ==========================================================\n",
      "# ----------------------------------------------------------\n",
      "#   Problem Information\n",
      "# ----------------------------------------------------------\n",
      "Problem: \n",
      "- Name: unknown\n",
      "  Lower bound: 1400.0\n",
      "  Upper bound: 1400.0\n",
      "  Number of objectives: 1\n",
      "  Number of constraints: 4\n",
      "  Number of variables: 3\n",
      "  Number of nonzeros: 7\n",
      "  Sense: maximize\n",
      "# ----------------------------------------------------------\n",
      "#   Solver Information\n",
      "# ----------------------------------------------------------\n",
      "Solver: \n",
      "- Status: ok\n",
      "  Termination condition: optimal\n",
      "  Statistics: \n",
      "    Branch and bound: \n",
      "      Number of bounded subproblems: 0\n",
      "      Number of created subproblems: 0\n",
      "  Error rc: 0\n",
      "  Time: 0.005564451217651367\n",
      "# ----------------------------------------------------------\n",
      "#   Solution Information\n",
      "# ----------------------------------------------------------\n",
      "Solution: \n",
      "- number of solutions: 0\n",
      "  number of solutions displayed: 0\n"
     ]
    }
   ],
   "source": [
    "SolverFactory('glpk', executable='/usr/bin/glpsol').solve(model).write()"
   ]
  },
  {
   "cell_type": "markdown",
   "metadata": {},
   "source": [
    "The output summarizes the number of constraints and variables, and tells us that our solver successfully achieved optimality with `Termination condition: optimal`. \n",
    "\n",
    "In order to see our solution, we can see the objective function value with `model.value()`, view the optimal variable values with `model.x[1].value` and `model.x[2].value`. By running the code, we see that an optimal profit of \\\\$1400 is achieved with $x_1 = 5.0$ washers and $x_2 = 7.5$ dryers, just as seen in our earlier lesson."
   ]
  },
  {
   "cell_type": "code",
   "execution_count": 6,
   "metadata": {},
   "outputs": [
    {
     "name": "stdout",
     "output_type": "stream",
     "text": [
      "\n",
      "Profit =  1400.0\n",
      "\n",
      "Decision Variables\n",
      "x1 =  5.0\n",
      "x2 =  7.5\n"
     ]
    }
   ],
   "source": [
    "#display solution\n",
    "print('\\nProfit = ', model.profit())\n",
    "\n",
    "print('\\nDecision Variables')\n",
    "print('x1 = ', model.x[1].value)\n",
    "print('x2 = ', model.x[2].value)"
   ]
  },
  {
   "cell_type": "markdown",
   "metadata": {},
   "source": [
    "Similarly, we can view the values of our constraint expressions at optimality using the code below. As seen in the earlier lesson, manufacturing and testing capcity are at their maximum allowed values, while assembly, at 17.5 hours, less than its maximum value of 20 hours, is an inactive constraint."
   ]
  },
  {
   "cell_type": "code",
   "execution_count": 7,
   "metadata": {},
   "outputs": [
    {
     "name": "stdout",
     "output_type": "stream",
     "text": [
      "\n",
      "Constraints\n",
      "Manufacturing  =  20.0\n",
      "Assembly =  17.5\n",
      "Testing =  25.0\n"
     ]
    }
   ],
   "source": [
    "print('\\nConstraints')\n",
    "print('Manufacturing  = ', model.manufacturing())\n",
    "print('Assembly = ', model.assembly())\n",
    "print('Testing = ', model.testing())"
   ]
  },
  {
   "cell_type": "markdown",
   "metadata": {},
   "source": [
    "Suppose we wanted to consider investing in the expansion of our manufacturing and testing resources - the currently limiting constraints on our profit. Would this be worth it? \n",
    "\n",
    "To analyze this, we can modify our constraints by increasing their limits using the `.deactivate()` method shown below, and define new constraints with increased limits, adding one hour to each resource. We then re-solve the model."
   ]
  },
  {
   "cell_type": "code",
   "execution_count": 8,
   "metadata": {},
   "outputs": [
    {
     "name": "stdout",
     "output_type": "stream",
     "text": [
      "\n",
      "Profit =  1460.0\n",
      "\n",
      "Decision Variables\n",
      "x1 =  5.0\n",
      "x2 =  8.0\n",
      "\n",
      "Constraints\n",
      "Manufacturing  =  21.0\n",
      "Assembly =  18.0\n",
      "Testing =  26.0\n"
     ]
    }
   ],
   "source": [
    "#deactivate the current manufacturing and testing constraints\n",
    "model.manufacturing.deactivate()\n",
    "model.testing.deactivate()\n",
    "\n",
    "#define new constraints with increased resource limits\n",
    "model.manufacturing_new = Constraint(expr = model.x[1] +2*model.x[2] <= 21 )\n",
    "model.testing_new = Constraint(expr = 2*model.x[1] +2*model.x[2] <= 26 )\n",
    "\n",
    "#resolve model\n",
    "SolverFactory('glpk', executable='/usr/bin/glpsol').solve(model)\n",
    "\n",
    "# display solution\n",
    "print('\\nProfit = ', model.profit())\n",
    "\n",
    "print('\\nDecision Variables')\n",
    "print('x1 = ', model.x[1].value)\n",
    "print('x2 = ', model.x[2].value)\n",
    "\n",
    "print('\\nConstraints')\n",
    "print('Manufacturing  = ', model.manufacturing_new())\n",
    "print('Assembly = ', model.assembly())\n",
    "print('Testing = ', model.testing_new())"
   ]
  },
  {
   "cell_type": "markdown",
   "metadata": {},
   "source": [
    "Our profit has increased to \\\\$1460 - if we have reason to believe that adding an hour to both our manufacturing and testing resouces would cost less than  \\\\$60, this investment may be worth it. \n",
    "\n",
    "We have now solved a linear optimization in Pyomo. This was a relatively small problem, which we were able solve \"by hand\" in our earlier lesson. But using `Pyomo` and an appropriate backend solver, we can solve large models with thousands or even millions of variables."
   ]
  }
 ],
 "metadata": {
  "interpreter": {
   "hash": "369f2c481f4da34e4445cda3fffd2e751bd1c4d706f27375911949ba6bb62e1c"
  },
  "kernelspec": {
   "display_name": "Python 3.10.4 64-bit",
   "language": "python",
   "name": "python3"
  },
  "language_info": {
   "codemirror_mode": {
    "name": "ipython",
    "version": 3
   },
   "file_extension": ".py",
   "mimetype": "text/x-python",
   "name": "python",
   "nbconvert_exporter": "python",
   "pygments_lexer": "ipython3",
   "version": "3.10.4"
  }
 },
 "nbformat": 4,
 "nbformat_minor": 4
}
