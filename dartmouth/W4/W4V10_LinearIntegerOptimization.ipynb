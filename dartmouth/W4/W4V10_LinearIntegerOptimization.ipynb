{
 "cells": [
  {
   "cell_type": "markdown",
   "metadata": {},
   "source": [
    "# Linear Integer Optimization"
   ]
  },
  {
   "cell_type": "markdown",
   "metadata": {},
   "source": [
    "In this lesson we will solve a slightly more complicated optimiztion problem with `Pyomo`, this time involving integers and larger variable sets."
   ]
  },
  {
   "cell_type": "markdown",
   "metadata": {},
   "source": [
    "The problem we will solve will be from earlier this week, where a logistics company is trying to minimize the costs to supply different three regions by choosing warehouse locations. \n",
    "\n",
    "Recall that we had a set of cities $C$ where warehouses could be opened, a set of regions $R$ to supply, weekly fixed costs $c_i$ for opening a warehouse in city $i$, demand $b_j$ from each region $j$, and shipping costs $t_{ij}$ from city $i$ to region $j$.\n",
    "\n",
    "We need to decide variables $y_i$ (whether or not - 1 or 0 - to open a warehouse in city $i$) and $x_{ij}$ (how much supply to send from  city $i$ to region $j$). We formulated the optimization problem as follows:   \n",
    "\n",
    "\n",
    "$$\n",
    "\\begin{aligned}\n",
    "& \\underset{x,y}{\\text{minimize}}\n",
    "& & \\sum_{i \\in C}c_i y_i + \\sum_{i \\in C}\\sum_{j \\in R} t_{ij} x_{ij}\\\\\n",
    "& \\text{subject to}\n",
    "& & \\sum_{j \\in R} x_{ij} \\leq 100 y_i, \\forall \\:  i \\in C \\\\\n",
    "& & & \\sum_{i \\in C} x_{ij} = b_j, \\forall \\:  j \\in R \\\\\n",
    "& & & x_{ij} \\in \\mathbb{Z}^+  , \\forall \\:  i \\in C, j \\in R  \\\\\n",
    "&&& y_i \\in \\{0,1\\} , \\forall \\:  i \\in C\n",
    "\\end{aligned}\n",
    "$$"
   ]
  },
  {
   "cell_type": "markdown",
   "metadata": {},
   "source": [
    "First, we define our fixed costs and demands as given in an earlier lesson from this week as lists:"
   ]
  },
  {
   "cell_type": "code",
   "execution_count": 1,
   "metadata": {},
   "outputs": [],
   "source": [
    "#costs for each city\n",
    "c = [400,500,300,150]\n",
    "\n",
    "#demands from each region\n",
    "b = [80,70,40]"
   ]
  },
  {
   "cell_type": "markdown",
   "metadata": {},
   "source": [
    "We now read in our data table of shipping costs for city/region combinations using the `Pandas` package."
   ]
  },
  {
   "cell_type": "code",
   "execution_count": 2,
   "metadata": {},
   "outputs": [
    {
     "data": {
      "text/html": [
       "<div>\n",
       "<style scoped>\n",
       "    .dataframe tbody tr th:only-of-type {\n",
       "        vertical-align: middle;\n",
       "    }\n",
       "\n",
       "    .dataframe tbody tr th {\n",
       "        vertical-align: top;\n",
       "    }\n",
       "\n",
       "    .dataframe thead th {\n",
       "        text-align: right;\n",
       "    }\n",
       "</style>\n",
       "<table border=\"1\" class=\"dataframe\">\n",
       "  <thead>\n",
       "    <tr style=\"text-align: right;\">\n",
       "      <th></th>\n",
       "      <th>City</th>\n",
       "      <th>Region 1</th>\n",
       "      <th>Region 2</th>\n",
       "      <th>Region 3</th>\n",
       "    </tr>\n",
       "  </thead>\n",
       "  <tbody>\n",
       "    <tr>\n",
       "      <th>0</th>\n",
       "      <td>New York</td>\n",
       "      <td>20</td>\n",
       "      <td>40</td>\n",
       "      <td>50</td>\n",
       "    </tr>\n",
       "    <tr>\n",
       "      <th>1</th>\n",
       "      <td>Lost Angeles</td>\n",
       "      <td>48</td>\n",
       "      <td>15</td>\n",
       "      <td>26</td>\n",
       "    </tr>\n",
       "    <tr>\n",
       "      <th>2</th>\n",
       "      <td>Chicago</td>\n",
       "      <td>26</td>\n",
       "      <td>35</td>\n",
       "      <td>18</td>\n",
       "    </tr>\n",
       "    <tr>\n",
       "      <th>3</th>\n",
       "      <td>Atlanta</td>\n",
       "      <td>24</td>\n",
       "      <td>50</td>\n",
       "      <td>35</td>\n",
       "    </tr>\n",
       "  </tbody>\n",
       "</table>\n",
       "</div>"
      ],
      "text/plain": [
       "           City  Region 1   Region 2  Region 3\n",
       "0      New York         20        40        50\n",
       "1  Lost Angeles         48        15        26\n",
       "2       Chicago         26        35        18\n",
       "3       Atlanta         24        50        35"
      ]
     },
     "execution_count": 2,
     "metadata": {},
     "output_type": "execute_result"
    }
   ],
   "source": [
    "import io\n",
    "import pandas as pd\n",
    "shipping_data = pd.read_csv('intprog_shippingcosts.csv')\n",
    "shipping_data.head()"
   ]
  },
  {
   "cell_type": "markdown",
   "metadata": {},
   "source": [
    "We will extract the numerical data from this `DataFrame` by selecting the rows and columns we need using `.iloc`"
   ]
  },
  {
   "cell_type": "code",
   "execution_count": 3,
   "metadata": {},
   "outputs": [
    {
     "name": "stdout",
     "output_type": "stream",
     "text": [
      "[[20 40 50]\n",
      " [48 15 26]\n",
      " [26 35 18]\n",
      " [24 50 35]]\n"
     ]
    }
   ],
   "source": [
    "import numpy as np\n",
    "t = np.array(shipping_data.iloc[0:4,1:4])\n",
    "print(t)"
   ]
  },
  {
   "cell_type": "markdown",
   "metadata": {},
   "source": [
    "We can now define our optimization problem in Pyomo. Since this problem has many variable elements and input parameters, it is useful to define sets `C` and `R` (cities and regions, respectively) as ranges, and use these sets to define our `Pyomo` variables. Note that we define `y` using the index `C` (one value for each city) and specify its domain as binary (open = 1, closed = 0), and define `x` in the `NonNegativeInteger` domain, with dimensions for both `C` and `R`.  \n",
    "\n",
    "Our objective function is written as an expression using `sum()` and for loops over our index sets - compare the mathematical notation for the objective function $\\sum_{i \\in C}c_i y_i + \\sum_{i \\in C}\\sum_{j \\in R} t_{ij} x_{ij}$ to the expression within `Objective` below. Since this is a minimization problem, we set `sense` to `minimize`. \n",
    "\n",
    "Since we have many constraints in this problem, we create a list using `ConstraintList()`, and then create these constraints in a loop using the same notation as the objective function. As before, compare the code for these expressions to their mathematical notation above. \n",
    "\n",
    "We do not need to specify the integrality constraints in code, since we have already properly specified these domains when defining variables."
   ]
  },
  {
   "cell_type": "code",
   "execution_count": 4,
   "metadata": {},
   "outputs": [],
   "source": [
    "from pyomo.environ import *\n",
    "\n",
    "# create a model\n",
    "model = ConcreteModel()\n",
    "\n",
    "#city indices\n",
    "C = range(4)\n",
    "#region indices\n",
    "R = range(3)\n",
    "\n",
    "\n",
    "# declare decision variables\n",
    "model.y = Var(C,domain=Binary)\n",
    "model.x = Var(C,R,domain=NonNegativeIntegers)\n",
    "\n",
    "# declare objective\n",
    "model.profit = Objective(expr =  sum(c[i]*model.y[i] for i in C) + \n",
    "                         sum(sum(t[i,j]*model.x[i,j] for i in C) for j in R ), sense=minimize)\n",
    "\n",
    "# add model constraints\n",
    "model.constraints = ConstraintList()\n",
    "#forcing constraints\n",
    "for i in C:\n",
    "    model.constraints.add(sum(model.x[i,j] for j in R) <= 100*model.y[i])\n",
    "#demand constraints\n",
    "for j in R:\n",
    "    model.constraints.add(sum(model.x[i,j] for i in C) == b[j])"
   ]
  },
  {
   "cell_type": "markdown",
   "metadata": {},
   "source": [
    "We can now solve our model, using the same code as for linear optimization."
   ]
  },
  {
   "cell_type": "code",
   "execution_count": 5,
   "metadata": {},
   "outputs": [
    {
     "name": "stdout",
     "output_type": "stream",
     "text": [
      "# ==========================================================\n",
      "# = Solver Results                                         =\n",
      "# ==========================================================\n",
      "# ----------------------------------------------------------\n",
      "#   Problem Information\n",
      "# ----------------------------------------------------------\n",
      "Problem: \n",
      "- Name: unknown\n",
      "  Lower bound: 4570.0\n",
      "  Upper bound: 4570.0\n",
      "  Number of objectives: 1\n",
      "  Number of constraints: 8\n",
      "  Number of variables: 17\n",
      "  Number of nonzeros: 29\n",
      "  Sense: minimize\n",
      "# ----------------------------------------------------------\n",
      "#   Solver Information\n",
      "# ----------------------------------------------------------\n",
      "Solver: \n",
      "- Status: ok\n",
      "  Termination condition: optimal\n",
      "  Statistics: \n",
      "    Branch and bound: \n",
      "      Number of bounded subproblems: 5\n",
      "      Number of created subproblems: 5\n",
      "  Error rc: 0\n",
      "  Time: 0.006490230560302734\n",
      "# ----------------------------------------------------------\n",
      "#   Solution Information\n",
      "# ----------------------------------------------------------\n",
      "Solution: \n",
      "- number of solutions: 0\n",
      "  number of solutions displayed: 0\n"
     ]
    }
   ],
   "source": [
    "SolverFactory('glpk', executable='/usr/bin/glpsol').solve(model).write()"
   ]
  },
  {
   "cell_type": "markdown",
   "metadata": {},
   "source": [
    "We can now display our optimal profit and variable values at optimality. Since it is convenient to view these variables in tables with their associated city and region labels, we create `Pandas` Data Frames for both `model.x` and `model.y`.\n",
    "\n",
    "In particular, to look at the values of `model.x`, we borrow the structure of the `shipping_data` table (which has labels for both cities and regions) using the `.copy()` method, then loop through all indices of `model.x` and insert these flow values in their corresponding spot in the new Data Frame `x`."
   ]
  },
  {
   "cell_type": "code",
   "execution_count": 6,
   "metadata": {},
   "outputs": [
    {
     "name": "stdout",
     "output_type": "stream",
     "text": [
      "\n",
      "Profit =  4570.0\n",
      "\n",
      "Decision Variables\n",
      "\n",
      "y: which warehouses open?\n",
      "           City  Open?\n",
      "0      New York    1.0\n",
      "1  Lost Angeles    1.0\n",
      "2       Chicago    1.0\n",
      "3       Atlanta    0.0\n",
      "\n",
      "x: flow from warehouse in city i to region j\n",
      "           City  Region 1   Region 2  Region 3\n",
      "0      New York       80.0       0.0       0.0\n",
      "1  Lost Angeles        0.0      70.0       0.0\n",
      "2       Chicago        0.0       0.0      40.0\n",
      "3       Atlanta        0.0       0.0       0.0\n"
     ]
    }
   ],
   "source": [
    "#display solution\n",
    "print('\\nProfit = ', model.profit())\n",
    "\n",
    "print('\\nDecision Variables')\n",
    "\n",
    "print('\\ny: which warehouses open?')\n",
    "#print y\n",
    "print(pd.DataFrame({\"City\":shipping_data.City,\"Open?\":[model.y[i].value for i in C]}))\n",
    "\n",
    "#print x\n",
    "print('\\nx: flow from warehouse in city i to region j')\n",
    "x = shipping_data.copy()\n",
    "for i in C:\n",
    "  for j in R:\n",
    "    x.iloc[i,j+1] = model.x[i,j].value\n",
    "print(x)"
   ]
  },
  {
   "cell_type": "markdown",
   "metadata": {},
   "source": [
    "We now see our solution: we should open a warehouse in each city except Atlanta, and supply all of Region 1 from New York, all of Region 2 from Los Angeles, and all of Region 3 from Chicago."
   ]
  }
 ],
 "metadata": {
  "kernelspec": {
   "display_name": "Python 3",
   "language": "python",
   "name": "python3"
  },
  "language_info": {
   "codemirror_mode": {
    "name": "ipython",
    "version": 3
   },
   "file_extension": ".py",
   "mimetype": "text/x-python",
   "name": "python",
   "nbconvert_exporter": "python",
   "pygments_lexer": "ipython3",
   "version": "3.7.6"
  }
 },
 "nbformat": 4,
 "nbformat_minor": 4
}
