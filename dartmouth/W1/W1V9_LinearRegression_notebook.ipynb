{
 "cells": [
  {
   "cell_type": "markdown",
   "metadata": {},
   "source": [
    "## Linear Regression"
   ]
  },
  {
   "cell_type": "markdown",
   "metadata": {},
   "source": [
    "In this notebook, we will use the package `scikit-learn` to perform linear regression. The first step is to load the data we will use into a format suitable for training a linear regression model."
   ]
  },
  {
   "cell_type": "markdown",
   "metadata": {},
   "source": [
    "## Loading Datasets"
   ]
  },
  {
   "cell_type": "markdown",
   "metadata": {},
   "source": [
    "We read external files into a `DataFrame`, a spreadsheet-like object provided by the `Pandas` package, used for handling tabular data. The code below reads the airfare data from an earlier lesson from this week."
   ]
  },
  {
   "cell_type": "code",
   "execution_count": 1,
   "metadata": {},
   "outputs": [],
   "source": [
    "import io\n",
    "import pandas as pd\n",
    "fare_data = pd.read_csv('linreg_airfare_univariate.csv')"
   ]
  },
  {
   "cell_type": "markdown",
   "metadata": {},
   "source": [
    "We can view the first five rows of the data frame using the `.head()` method shown below."
   ]
  },
  {
   "cell_type": "code",
   "execution_count": 2,
   "metadata": {},
   "outputs": [
    {
     "data": {
      "text/html": [
       "<div>\n",
       "<style scoped>\n",
       "    .dataframe tbody tr th:only-of-type {\n",
       "        vertical-align: middle;\n",
       "    }\n",
       "\n",
       "    .dataframe tbody tr th {\n",
       "        vertical-align: top;\n",
       "    }\n",
       "\n",
       "    .dataframe thead th {\n",
       "        text-align: right;\n",
       "    }\n",
       "</style>\n",
       "<table border=\"1\" class=\"dataframe\">\n",
       "  <thead>\n",
       "    <tr style=\"text-align: right;\">\n",
       "      <th></th>\n",
       "      <th>Distance</th>\n",
       "      <th>Fare</th>\n",
       "    </tr>\n",
       "  </thead>\n",
       "  <tbody>\n",
       "    <tr>\n",
       "      <th>0</th>\n",
       "      <td>314</td>\n",
       "      <td>291</td>\n",
       "    </tr>\n",
       "    <tr>\n",
       "      <th>1</th>\n",
       "      <td>454</td>\n",
       "      <td>390</td>\n",
       "    </tr>\n",
       "    <tr>\n",
       "      <th>2</th>\n",
       "      <td>578</td>\n",
       "      <td>406</td>\n",
       "    </tr>\n",
       "    <tr>\n",
       "      <th>3</th>\n",
       "      <td>656</td>\n",
       "      <td>332</td>\n",
       "    </tr>\n",
       "    <tr>\n",
       "      <th>4</th>\n",
       "      <td>822</td>\n",
       "      <td>475</td>\n",
       "    </tr>\n",
       "  </tbody>\n",
       "</table>\n",
       "</div>"
      ],
      "text/plain": [
       "   Distance  Fare\n",
       "0       314   291\n",
       "1       454   390\n",
       "2       578   406\n",
       "3       656   332\n",
       "4       822   475"
      ]
     },
     "execution_count": 2,
     "metadata": {},
     "output_type": "execute_result"
    }
   ],
   "source": [
    "fare_data.head()"
   ]
  },
  {
   "cell_type": "markdown",
   "metadata": {},
   "source": [
    "## Training a Univariate Linear Regression Model in `scikit-learn`"
   ]
  },
  {
   "cell_type": "markdown",
   "metadata": {},
   "source": [
    "Before training a linear regression model using the package `scikit-learn`, we need to separate our training data into features - which in this case is just `Distance`, and outcomes - which in this case are the airfares. We will then use this data to train a model to predict airfares from distance."
   ]
  },
  {
   "cell_type": "code",
   "execution_count": 3,
   "metadata": {},
   "outputs": [],
   "source": [
    "#seperate data into features and outcomes\n",
    "X_train = fare_data[['Distance']]\n",
    "y_train = fare_data[['Fare']]"
   ]
  },
  {
   "cell_type": "markdown",
   "metadata": {},
   "source": [
    "We are now ready to train our model. We first initialize a linear model by instantiating the `LinearRegression` class, and we store this model in the variable `linear_reg_model1`. We then train this model on our data `X_train` and `y_train` by calling the method `.fit()`. This estimates linear model parameters $\\theta_0$ (the model intercept) and $\\theta_1$ (the slope).   "
   ]
  },
  {
   "cell_type": "code",
   "execution_count": 4,
   "metadata": {},
   "outputs": [
    {
     "data": {
      "text/plain": [
       "LinearRegression()"
      ]
     },
     "execution_count": 4,
     "metadata": {},
     "output_type": "execute_result"
    }
   ],
   "source": [
    "#train create and train model\n",
    "from sklearn.linear_model import LinearRegression\n",
    "\n",
    "linear_reg_model1 = LinearRegression()\n",
    "linear_reg_model1.fit(X_train, y_train)"
   ]
  },
  {
   "cell_type": "markdown",
   "metadata": {},
   "source": [
    "We can now extract the estimates for these parameters from the trained model using `.intercept_` and `.coef_` as shown below."
   ]
  },
  {
   "cell_type": "code",
   "execution_count": 5,
   "metadata": {},
   "outputs": [
    {
     "name": "stdout",
     "output_type": "stream",
     "text": [
      "fitted slope theta1=[0.27251417], fitted intercept theta0=[238.12663522]\n"
     ]
    }
   ],
   "source": [
    "#examine coefficients \n",
    "theta0 = linear_reg_model1.intercept_ #extract intercept\n",
    "theta1 = linear_reg_model1.coef_[0] # extract slope\n",
    "print(\"fitted slope theta1=%s, fitted intercept theta0=%s\" % (theta1, theta0))"
   ]
  },
  {
   "cell_type": "markdown",
   "metadata": {},
   "source": [
    "It is useful to visually check the fit of our model by plotting it against the raw data. We can do this using the Python package `matplotlib`. After importing the relevant packages, the first part of the code below plots the raw data as blue points using the function `scatter`. The second part of the code generates distance values from 250 to 2000, plugs these values into the linear regression formula $y = \\theta_0 + \\theta_1*x$ to get fare predictions, and then plots the resulting values on the same plot."
   ]
  },
  {
   "cell_type": "code",
   "execution_count": 6,
   "metadata": {},
   "outputs": [
    {
     "data": {
      "image/png": "[encoded data removed]",
      "text/plain": [
       "<Figure size 432x288 with 1 Axes>"
      ]
     },
     "metadata": {
      "needs_background": "light"
     },
     "output_type": "display_data"
    }
   ],
   "source": [
    "#load plotting library and numerical library\n",
    "import matplotlib.pyplot as plt\n",
    "import numpy as np\n",
    "\n",
    "#plot raw data\n",
    "plt.scatter(x=fare_data['Distance'], y=fare_data['Fare'],color=\"blue\")\n",
    "plt.title('Distance versus Fare')\n",
    "plt.xlabel('Distance (Miles)')\n",
    "plt.ylabel('Fare (Dollars)')\n",
    "#plot linear fit\n",
    "new_x = np.arange(start=250,stop=2000,step=1)\n",
    "new_y = theta0+theta1*new_x\n",
    "plt.plot(new_x,new_y,color=\"red\")\n",
    "plt.show()"
   ]
  },
  {
   "cell_type": "markdown",
   "metadata": {},
   "source": [
    "We could compute further predictions by carrying out calculations substituting the `theta0` and `theta1` values from above into $y = \\theta_0 + \\theta_1 x$, but the scikit-learn package provides an easy method, `.predict()`, to simplify this."
   ]
  },
  {
   "cell_type": "code",
   "execution_count": 7,
   "metadata": {},
   "outputs": [
    {
     "name": "stdout",
     "output_type": "stream",
     "text": [
      "   Distance        Fare\n",
      "0       300  319.880887\n",
      "1       400  347.132305\n",
      "2       500  374.383722\n"
     ]
    }
   ],
   "source": [
    "#create new Data Frame with new distances\n",
    "fare_prediction_df = pd.DataFrame({\"Distance\":[300,400,500]})\n",
    "#make predictions\n",
    "predictions = linear_reg_model1.predict(fare_prediction_df[['Distance']])\n",
    "#add predictions to Data Frame \n",
    "fare_prediction_df['Fare'] = predictions\n",
    "print(fare_prediction_df)"
   ]
  },
  {
   "cell_type": "markdown",
   "metadata": {},
   "source": [
    "## Multivariate Linear Regression in scikit-learn"
   ]
  },
  {
   "cell_type": "markdown",
   "metadata": {},
   "source": [
    "Training a regression using more than one feature is an easy extension of the univariate training process. This time we use the airline market size data discussed in an earlier lesson from this week, loading and viewing it using the same process as above."
   ]
  },
  {
   "cell_type": "code",
   "execution_count": 8,
   "metadata": {},
   "outputs": [
    {
     "data": {
      "text/html": [
       "<div>\n",
       "<style scoped>\n",
       "    .dataframe tbody tr th:only-of-type {\n",
       "        vertical-align: middle;\n",
       "    }\n",
       "\n",
       "    .dataframe tbody tr th {\n",
       "        vertical-align: top;\n",
       "    }\n",
       "\n",
       "    .dataframe thead th {\n",
       "        text-align: right;\n",
       "    }\n",
       "</style>\n",
       "<table border=\"1\" class=\"dataframe\">\n",
       "  <thead>\n",
       "    <tr style=\"text-align: right;\">\n",
       "      <th></th>\n",
       "      <th>Distance</th>\n",
       "      <th>OriginPop</th>\n",
       "      <th>DestinationPop</th>\n",
       "      <th>MarketSize</th>\n",
       "    </tr>\n",
       "  </thead>\n",
       "  <tbody>\n",
       "    <tr>\n",
       "      <th>0</th>\n",
       "      <td>1070.9</td>\n",
       "      <td>7.2</td>\n",
       "      <td>7.1</td>\n",
       "      <td>6.4</td>\n",
       "    </tr>\n",
       "    <tr>\n",
       "      <th>1</th>\n",
       "      <td>984.7</td>\n",
       "      <td>7.0</td>\n",
       "      <td>7.9</td>\n",
       "      <td>8.1</td>\n",
       "    </tr>\n",
       "    <tr>\n",
       "      <th>2</th>\n",
       "      <td>2041.4</td>\n",
       "      <td>11.7</td>\n",
       "      <td>11.5</td>\n",
       "      <td>8.1</td>\n",
       "    </tr>\n",
       "    <tr>\n",
       "      <th>3</th>\n",
       "      <td>1677.8</td>\n",
       "      <td>11.6</td>\n",
       "      <td>11.9</td>\n",
       "      <td>5.7</td>\n",
       "    </tr>\n",
       "    <tr>\n",
       "      <th>4</th>\n",
       "      <td>1160.7</td>\n",
       "      <td>10.0</td>\n",
       "      <td>8.9</td>\n",
       "      <td>10.6</td>\n",
       "    </tr>\n",
       "  </tbody>\n",
       "</table>\n",
       "</div>"
      ],
      "text/plain": [
       "   Distance  OriginPop  DestinationPop  MarketSize\n",
       "0    1070.9        7.2             7.1         6.4\n",
       "1     984.7        7.0             7.9         8.1\n",
       "2    2041.4       11.7            11.5         8.1\n",
       "3    1677.8       11.6            11.9         5.7\n",
       "4    1160.7       10.0             8.9        10.6"
      ]
     },
     "execution_count": 8,
     "metadata": {},
     "output_type": "execute_result"
    }
   ],
   "source": [
    "marketsize_data = pd.read_csv('linreg_marketsize_multivariate.csv')\n",
    "marketsize_data.head()"
   ]
  },
  {
   "cell_type": "markdown",
   "metadata": {},
   "source": [
    "The training process looks essentially the same, but we extract multiple features into our `X_train` variable, and extract multiple feature values from `.coef_`. It is useful to package these values with the feature names in a table for viewing, as is done below."
   ]
  },
  {
   "cell_type": "code",
   "execution_count": 9,
   "metadata": {},
   "outputs": [
    {
     "name": "stdout",
     "output_type": "stream",
     "text": [
      "          Feature  Coefficient\n",
      "0        Distance    -0.007378\n",
      "1       OriginPop     0.773902\n",
      "2  DestinationPop     0.602583\n"
     ]
    }
   ],
   "source": [
    "#train linear regression model \n",
    "X_train = marketsize_data[['Distance','OriginPop','DestinationPop']]\n",
    "y_train = marketsize_data.MarketSize\n",
    "linear_reg_model2 = LinearRegression()\n",
    "linear_reg_model2.fit(X_train, y_train)\n",
    "\n",
    "#examine theta coefficients\n",
    "print(pd.DataFrame({\"Feature\": ['Distance','OriginPop','DestinationPop'],\n",
    "                   \"Coefficient\":linear_reg_model2.coef_}))"
   ]
  },
  {
   "cell_type": "markdown",
   "metadata": {},
   "source": [
    "We can also view some diagnostic metrics from this model. Below we look at two, mean absolute error, the average absolute difference between predicted and true market sizes, and mean squared error, which we saw in this week's lessons: the average squared difference between predicted and true market sizes.\n",
    "\n",
    "Mean absolute error gives an intuitive idea of the difference between model predictions and reality. Recall that mean squared error is the quantity that is minimized by our trained linear regression model."
   ]
  },
  {
   "cell_type": "code",
   "execution_count": 10,
   "metadata": {},
   "outputs": [
    {
     "name": "stdout",
     "output_type": "stream",
     "text": [
      "Mean Absolute Error: 1.1592083587194015\n",
      "Mean Squared Error: 2.226235078752185\n"
     ]
    }
   ],
   "source": [
    "#examine training error\n",
    "from sklearn import metrics\n",
    "print('Mean Absolute Error:', metrics.mean_absolute_error(y_train, linear_reg_model2.predict(X_train)))\n",
    "print('Mean Squared Error:', metrics.mean_squared_error(y_train, linear_reg_model2.predict(X_train)))"
   ]
  },
  {
   "cell_type": "markdown",
   "metadata": {},
   "source": [
    "## Feature Selection"
   ]
  },
  {
   "cell_type": "markdown",
   "metadata": {},
   "source": [
    "We will now look at feature selection using linear regression models. To demonstrate this, suppose that at some time in the past, we had only a part of our airfare dataset. To replicate this situation, we will divide the original dataset into two parts: `old_fare_data`, containing this older airfare data that we will train our models on, and `new_fare_data`, containing new fare data points we haven't seen before. These are separated using the `Pandas` library's `.iloc` method for indexing."
   ]
  },
  {
   "cell_type": "code",
   "execution_count": 11,
   "metadata": {},
   "outputs": [],
   "source": [
    "old_fare_data = fare_data.iloc[[1,3,5,7,9],:].copy()\n",
    "new_fare_data = fare_data.iloc[[0,2,4,6,8],:].copy()"
   ]
  },
  {
   "cell_type": "markdown",
   "metadata": {},
   "source": [
    "We now create a function which will fit a linear model based on the old fare data, plot the old data points in blue, the new data points in green, and print the mean squared error of the trained model on the plot."
   ]
  },
  {
   "cell_type": "code",
   "execution_count": 12,
   "metadata": {},
   "outputs": [],
   "source": [
    "#load plotting library and numerical library\n",
    "import matplotlib.pyplot as plt\n",
    "import numpy as np\n",
    "\n",
    "\n",
    "def fit_and_plot(X_train,y_train,old_fare_data,new_fare_data): \n",
    "  #train create and train model  \n",
    "  model = LinearRegression()\n",
    "  model.fit(X_train, y_train)\n",
    "\n",
    "  #plot old raw data\n",
    "  plt.scatter(x=old_fare_data['Distance'], y=old_fare_data['Fare'])\n",
    "  plt.title('Distance versus Fare, MSE = %s' %  round(metrics.mean_squared_error(y_train, model.predict(X_train)),2))\n",
    "  plt.xlabel('Distance (Miles)')\n",
    "  plt.ylabel('Fare (Dollars)')\n",
    "\n",
    "  #plot new raw data\n",
    "  plt.scatter(x=new_fare_data['Distance'], y=new_fare_data['Fare'],color=\"green\")  \n",
    "  \n",
    "  return model"
   ]
  },
  {
   "cell_type": "markdown",
   "metadata": {},
   "source": [
    "Next, we will pass our data to this function, and then add to the plot our fitted linear model as done before. Notice that the linear model fit on the old fare appears to fit both the blue and green points reasonable well."
   ]
  },
  {
   "cell_type": "code",
   "execution_count": 13,
   "metadata": {},
   "outputs": [
    {
     "data": {
      "image/png": "[encoded data removed]",
      "text/plain": [
       "<Figure size 432x288 with 1 Axes>"
      ]
     },
     "metadata": {
      "needs_background": "light"
     },
     "output_type": "display_data"
    }
   ],
   "source": [
    "#simple linear fit from before\n",
    "X_train = old_fare_data[['Distance']]\n",
    "y_train = old_fare_data.Fare\n",
    "\n",
    "#train create and train model, plot raw data\n",
    "model = fit_and_plot(X_train,y_train,old_fare_data,new_fare_data)\n",
    "\n",
    "#plot linear fit\n",
    "new_x = np.arange(start=250,stop=2100,step=1)\n",
    "new_y = model.intercept_ + model.coef_[0]*new_x \n",
    "plt.plot(new_x,new_y,color=\"red\")\n",
    "plt.show()"
   ]
  },
  {
   "cell_type": "markdown",
   "metadata": {},
   "source": [
    "Now, we will add a squared version of distance to the training data in the first part of this code, retrain the model, and compute a curve using our new quadratic coefficients.\n",
    "\n",
    "Notice that the curve seems to fits the old blue and new green data points even better than the model with only the linear term, and the mean squared error (MSE) has decreased."
   ]
  },
  {
   "cell_type": "code",
   "execution_count": 14,
   "metadata": {},
   "outputs": [
    {
     "data": {
      "image/png": "[encoded data removed]",
      "text/plain": [
       "<Figure size 432x288 with 1 Axes>"
      ]
     },
     "metadata": {
      "needs_background": "light"
     },
     "output_type": "display_data"
    }
   ],
   "source": [
    "#quadratic fit\n",
    "old_fare_data['Distance^2'] = old_fare_data['Distance']**2\n",
    "\n",
    "X_train = old_fare_data[['Distance','Distance^2']]\n",
    "y_train = old_fare_data.Fare\n",
    "\n",
    "#train create and train model, plot raw data\n",
    "model = fit_and_plot(X_train,y_train,old_fare_data,new_fare_data)\n",
    "\n",
    "#plot quadratic fit\n",
    "new_x = np.arange(start=250,stop=2100,step=1)\n",
    "new_y = model.intercept_ + model.coef_[0]*new_x + model.coef_[1]*new_x**2\n",
    "plt.plot(new_x,new_y,color=\"red\")\n",
    "plt.show()"
   ]
  },
  {
   "cell_type": "markdown",
   "metadata": {},
   "source": [
    "Rerunning now with a cubic term, the model appears to fit even better with a lower MSE, but there is something odd: the curve unintuitively suggests that prices will start to decrease with high distance."
   ]
  },
  {
   "cell_type": "code",
   "execution_count": 15,
   "metadata": {},
   "outputs": [
    {
     "data": {
      "image/png": "[encoded data removed]",
      "text/plain": [
       "<Figure size 432x288 with 1 Axes>"
      ]
     },
     "metadata": {
      "needs_background": "light"
     },
     "output_type": "display_data"
    }
   ],
   "source": [
    "#cubic fit\n",
    "old_fare_data['Distance^3'] = old_fare_data['Distance']**3\n",
    "\n",
    "X_train = old_fare_data[['Distance','Distance^2','Distance^3']]\n",
    "y_train = old_fare_data.Fare\n",
    "\n",
    "#train create and train model, plot raw data\n",
    "model = fit_and_plot(X_train,y_train,old_fare_data,new_fare_data)\n",
    "\n",
    "#plot cubic fit\n",
    "new_x = np.arange(start=250,stop=2100,step=1)\n",
    "new_y = model.intercept_ + model.coef_[0]*new_x + model.coef_[1]*new_x**2 + model.coef_[2]*new_x**3 \n",
    "plt.plot(new_x,new_y,color=\"red\")\n",
    "plt.show()"
   ]
  },
  {
   "cell_type": "markdown",
   "metadata": {},
   "source": [
    "With a quartic fit, we start seeing some more significant problems. MSE has actually been reduced to zero: the curve goes through every single blue training point perfectly. However, the curve's predictions for several new green points, especially the right most one, are very incorrect."
   ]
  },
  {
   "cell_type": "code",
   "execution_count": 16,
   "metadata": {},
   "outputs": [
    {
     "data": {
      "image/png": "[encoded data removed]",
      "text/plain": [
       "<Figure size 432x288 with 1 Axes>"
      ]
     },
     "metadata": {
      "needs_background": "light"
     },
     "output_type": "display_data"
    }
   ],
   "source": [
    "#quartic fit\n",
    "old_fare_data['Distance^4'] = old_fare_data['Distance']**4\n",
    "\n",
    "X_train = old_fare_data[['Distance','Distance^2','Distance^3','Distance^4']]\n",
    "y_train = old_fare_data.Fare\n",
    "\n",
    "#train create and train model, plot raw data\n",
    "model = fit_and_plot(X_train,y_train,old_fare_data,new_fare_data)\n",
    "\n",
    "#plot quartic fit\n",
    "new_x = np.arange(start=250,stop=2100,step=1)\n",
    "new_y = model.intercept_ + model.coef_[0]*new_x + model.coef_[1]*new_x**2 + model.coef_[2]*new_x**3 + model.coef_[3]*new_x**4  \n",
    "plt.plot(new_x,new_y,color=\"red\")\n",
    "plt.show()"
   ]
  },
  {
   "cell_type": "markdown",
   "metadata": {},
   "source": [
    "What happened here? As we kept adding polynomial features, the model fit to the training data better and better, and eventually perfectly. But with higher order polynomials, the curve wildly oscillated to capture every training point, and so generalized less well to new data. It appears that the quadratic model offers the best compromise, with lower MSE than the linear model, but good generalization to new data points."
   ]
  }
 ],
 "metadata": {
  "kernelspec": {
   "display_name": "Python 3",
   "language": "python",
   "name": "python3"
  },
  "language_info": {
   "codemirror_mode": {
    "name": "ipython",
    "version": 3
   },
   "file_extension": ".py",
   "mimetype": "text/x-python",
   "name": "python",
   "nbconvert_exporter": "python",
   "pygments_lexer": "ipython3",
   "version": "3.10.4"
  }
 },
 "nbformat": 4,
 "nbformat_minor": 4
}
