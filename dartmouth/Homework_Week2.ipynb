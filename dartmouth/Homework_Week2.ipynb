{
 "cells": [
  {
   "cell_type": "markdown",
   "metadata": {
    "id": "ly_ykKFjWJzl"
   },
   "source": [
    "## Homework Week 2: Neural Networks and Model Selection"
   ]
  },
  {
   "cell_type": "markdown",
   "metadata": {
    "id": "i2m_qsYSOZEy"
   },
   "source": [
    "### Loading Data"
   ]
  },
  {
   "cell_type": "markdown",
   "metadata": {
    "id": "_II_wcRY150H"
   },
   "source": [
    "In this homework, you will train a neural network that will identify digits from handwritten images. For example, you might by a data scientist, tasked with extracting dates of birth from scanned forms to add to a database. You will use the MNIST dataset, a collection of 60,000 images of handwritten digits. This data set can be accessed using the `Keras` Python package, a package that provides tools for building and training neural networks. Run the code below to load this data from the cloud. The data is already divided into training and testing data sets. "
   ]
  },
  {
   "cell_type": "code",
   "execution_count": 1,
   "metadata": {
    "id": "ctNjYUuH1trF"
   },
   "outputs": [],
   "source": [
    "from keras.datasets import mnist\n",
    "(train_X_3D, train_y), (test_X_3D, test_y) = mnist.load_data()"
   ]
  },
  {
   "cell_type": "markdown",
   "metadata": {
    "id": "5psW-sNf3jnG"
   },
   "source": [
    "First, let's visualize one of these images. The downloaded data is organized as 3 dimensional arrays - a stack of matrices, with each matrix representing the pixels of a 28-by-28 pixel image. The values for each pixel range from 0 to 255, with 0 representing the darkest pixel (black) and 255 representing the brightest (white). **Run the code below to print one of the matrices, and then plot this matrix in greyscale.** "
   ]
  },
  {
   "cell_type": "code",
   "execution_count": 2,
   "metadata": {
    "colab": {
     "base_uri": "https://localhost:8080/",
     "height": 1000
    },
    "id": "GRBYedFM4v7Z",
    "outputId": "51a46d77-f73b-4d34-9960-6c205689818a"
   },
   "outputs": [
    {
     "name": "stdout",
     "output_type": "stream",
     "text": [
      "[[  0   0   0   0   0   0   0   0   0   0   0   0   0   0   0   0   0   0\n",
      "    0   0   0   0   0   0   0   0   0   0]\n",
      " [  0   0   0   0   0   0   0   0   0   0   0   0   0   0   0   0   0   0\n",
      "    0   0   0   0   0   0   0   0   0   0]\n",
      " [  0   0   0   0   0   0   0   0   0   0   0   0   0   0   0   0   0   0\n",
      "    0   0   0   0   0   0   0   0   0   0]\n",
      " [  0   0   0   0   0   0   0   0   0   0   0   0   0   0   0   0   0   0\n",
      "    0   0   0   0   0   0   0   0   0   0]\n",
      " [  0   0   0   0   0   0   0   0   0   0   0   0   0   0   0  51 159 253\n",
      "  159  50   0   0   0   0   0   0   0   0]\n",
      " [  0   0   0   0   0   0   0   0   0   0   0   0   0   0  48 238 252 252\n",
      "  252 237   0   0   0   0   0   0   0   0]\n",
      " [  0   0   0   0   0   0   0   0   0   0   0   0   0  54 227 253 252 239\n",
      "  233 252  57   6   0   0   0   0   0   0]\n",
      " [  0   0   0   0   0   0   0   0   0   0   0  10  60 224 252 253 252 202\n",
      "   84 252 253 122   0   0   0   0   0   0]\n",
      " [  0   0   0   0   0   0   0   0   0   0   0 163 252 252 252 253 252 252\n",
      "   96 189 253 167   0   0   0   0   0   0]\n",
      " [  0   0   0   0   0   0   0   0   0   0  51 238 253 253 190 114 253 228\n",
      "   47  79 255 168   0   0   0   0   0   0]\n",
      " [  0   0   0   0   0   0   0   0   0  48 238 252 252 179  12  75 121  21\n",
      "    0   0 253 243  50   0   0   0   0   0]\n",
      " [  0   0   0   0   0   0   0   0  38 165 253 233 208  84   0   0   0   0\n",
      "    0   0 253 252 165   0   0   0   0   0]\n",
      " [  0   0   0   0   0   0   0   7 178 252 240  71  19  28   0   0   0   0\n",
      "    0   0 253 252 195   0   0   0   0   0]\n",
      " [  0   0   0   0   0   0   0  57 252 252  63   0   0   0   0   0   0   0\n",
      "    0   0 253 252 195   0   0   0   0   0]\n",
      " [  0   0   0   0   0   0   0 198 253 190   0   0   0   0   0   0   0   0\n",
      "    0   0 255 253 196   0   0   0   0   0]\n",
      " [  0   0   0   0   0   0  76 246 252 112   0   0   0   0   0   0   0   0\n",
      "    0   0 253 252 148   0   0   0   0   0]\n",
      " [  0   0   0   0   0   0  85 252 230  25   0   0   0   0   0   0   0   0\n",
      "    7 135 253 186  12   0   0   0   0   0]\n",
      " [  0   0   0   0   0   0  85 252 223   0   0   0   0   0   0   0   0   7\n",
      "  131 252 225  71   0   0   0   0   0   0]\n",
      " [  0   0   0   0   0   0  85 252 145   0   0   0   0   0   0   0  48 165\n",
      "  252 173   0   0   0   0   0   0   0   0]\n",
      " [  0   0   0   0   0   0  86 253 225   0   0   0   0   0   0 114 238 253\n",
      "  162   0   0   0   0   0   0   0   0   0]\n",
      " [  0   0   0   0   0   0  85 252 249 146  48  29  85 178 225 253 223 167\n",
      "   56   0   0   0   0   0   0   0   0   0]\n",
      " [  0   0   0   0   0   0  85 252 252 252 229 215 252 252 252 196 130   0\n",
      "    0   0   0   0   0   0   0   0   0   0]\n",
      " [  0   0   0   0   0   0  28 199 252 252 253 252 252 233 145   0   0   0\n",
      "    0   0   0   0   0   0   0   0   0   0]\n",
      " [  0   0   0   0   0   0   0  25 128 252 253 252 141  37   0   0   0   0\n",
      "    0   0   0   0   0   0   0   0   0   0]\n",
      " [  0   0   0   0   0   0   0   0   0   0   0   0   0   0   0   0   0   0\n",
      "    0   0   0   0   0   0   0   0   0   0]\n",
      " [  0   0   0   0   0   0   0   0   0   0   0   0   0   0   0   0   0   0\n",
      "    0   0   0   0   0   0   0   0   0   0]\n",
      " [  0   0   0   0   0   0   0   0   0   0   0   0   0   0   0   0   0   0\n",
      "    0   0   0   0   0   0   0   0   0   0]\n",
      " [  0   0   0   0   0   0   0   0   0   0   0   0   0   0   0   0   0   0\n",
      "    0   0   0   0   0   0   0   0   0   0]]\n"
     ]
    },
    {
     "data": {
      "image/png": "[encoded data removed]",
      "text/plain": [
       "<Figure size 432x288 with 1 Axes>"
      ]
     },
     "metadata": {
      "needs_background": "light"
     },
     "output_type": "display_data"
    },
    {
     "name": "stdout",
     "output_type": "stream",
     "text": [
      "0\n"
     ]
    }
   ],
   "source": [
    "import matplotlib.pyplot as plt\n",
    "import numpy as np\n",
    "#print matrix\n",
    "print(train_X_3D[1,:,:])\n",
    "#print image\n",
    "plt.imshow(train_X_3D[1,:,:], cmap=plt.get_cmap('gray'))\n",
    "plt.show()\n",
    "#print y value (true value) \n",
    "print(train_y[1])"
   ]
  },
  {
   "cell_type": "markdown",
   "metadata": {
    "id": "VDl_zsbC30j1"
   },
   "source": [
    "You can change the index to view a different image (now index 5), by running the cell below. Change the index to view any image you would like."
   ]
  },
  {
   "cell_type": "code",
   "execution_count": 3,
   "metadata": {
    "colab": {
     "base_uri": "https://localhost:8080/",
     "height": 283
    },
    "id": "W86jodrq31ir",
    "outputId": "5a165760-e764-4ac3-c9c7-bdc85da9ea51"
   },
   "outputs": [
    {
     "data": {
      "image/png": "[encoded data removed]",
      "text/plain": [
       "<Figure size 432x288 with 1 Axes>"
      ]
     },
     "metadata": {
      "needs_background": "light"
     },
     "output_type": "display_data"
    },
    {
     "name": "stdout",
     "output_type": "stream",
     "text": [
      "3\n"
     ]
    }
   ],
   "source": [
    "#set index\n",
    "# image_index = 5 \n",
    "image_index = 7 \n",
    "#plot  image\n",
    "plt.imshow(train_X_3D[image_index,:,:], cmap=plt.get_cmap('gray'))\n",
    "plt.show()\n",
    "#plot value\n",
    "print(train_y[image_index])"
   ]
  },
  {
   "cell_type": "markdown",
   "metadata": {
    "id": "NpMy0AMO4aQJ"
   },
   "source": [
    "In order to set up the data for training with `scikit-learn`, we will need to apply some simple \n",
    "transformations. The code below uses the `reshape` function to convert the data from a stack of matrices (each one an image, with each value representing a pixel) to a single matrix, where each row is a vector of all the pixels of a single image. By using the `.shape` method, we can check the dimensions of this matrix. "
   ]
  },
  {
   "cell_type": "code",
   "execution_count": 4,
   "metadata": {
    "colab": {
     "base_uri": "https://localhost:8080/"
    },
    "id": "64xh5xil7PM9",
    "outputId": "9aea669d-6d34-4605-faf6-49df98da3f49"
   },
   "outputs": [
    {
     "data": {
      "text/plain": [
       "(60000, 784)"
      ]
     },
     "execution_count": 4,
     "metadata": {},
     "output_type": "execute_result"
    }
   ],
   "source": [
    "import numpy as np\n",
    "#transform image data to single matrix\n",
    "trainging_inputs = [np.reshape(train_X_3D[i,:,:], ( 28*28)) for i in range(train_X_3D.shape[0]) ]\n",
    "X_train = np.array(trainging_inputs)\n",
    "#print matrix shape\n",
    "X_train.shape"
   ]
  },
  {
   "cell_type": "markdown",
   "metadata": {
    "id": "3J2cisgAH6pb"
   },
   "source": [
    "We can see that this reshaped data has 60000 rows, and 784 columns - one column for each of the $28 * 28$ pixels in the image.  "
   ]
  },
  {
   "cell_type": "markdown",
   "metadata": {
    "id": "0jpIsWjq5LK-"
   },
   "source": [
    "Now do the same for the testing data. Again using the `.shape` method, we can see that this data has 10000 rows, instead of 600000"
   ]
  },
  {
   "cell_type": "code",
   "execution_count": 5,
   "metadata": {
    "colab": {
     "base_uri": "https://localhost:8080/"
    },
    "id": "_f_39HQrBnV1",
    "outputId": "a863e2ad-8cbf-4682-ffa0-533c5676419b"
   },
   "outputs": [
    {
     "data": {
      "text/plain": [
       "(10000, 784)"
      ]
     },
     "execution_count": 5,
     "metadata": {},
     "output_type": "execute_result"
    }
   ],
   "source": [
    "#transform test data to single matrix\n",
    "testing_inputs = [np.reshape(test_X_3D[i,:,:], ( 28*28)) for i in range(test_X_3D.shape[0]) ]\n",
    "X_test = np.array(testing_inputs)\n",
    "X_test.shape"
   ]
  },
  {
   "cell_type": "markdown",
   "metadata": {
    "id": "6NcKnYrAHLvS"
   },
   "source": [
    "Note that our $y$ vector is simply a vector of digit identifiers, with 60000 elements. "
   ]
  },
  {
   "cell_type": "code",
   "execution_count": 6,
   "metadata": {
    "colab": {
     "base_uri": "https://localhost:8080/"
    },
    "id": "4Sq2vFM-AdMY",
    "outputId": "314d64a1-6f77-47b3-aba2-cc4507c34b78"
   },
   "outputs": [
    {
     "data": {
      "text/plain": [
       "(60000,)"
      ]
     },
     "execution_count": 6,
     "metadata": {},
     "output_type": "execute_result"
    }
   ],
   "source": [
    "#print yvector shape\n",
    "train_y.shape"
   ]
  },
  {
   "cell_type": "markdown",
   "metadata": {
    "id": "XS2DGi6xIZj5"
   },
   "source": [
    "We can look at the first 10 digits of this vector by running the cell below. "
   ]
  },
  {
   "cell_type": "code",
   "execution_count": 7,
   "metadata": {
    "colab": {
     "base_uri": "https://localhost:8080/"
    },
    "id": "NJKAtCCNIW-n",
    "outputId": "7b98483f-a85e-4ead-eed5-476f096b59c0"
   },
   "outputs": [
    {
     "data": {
      "text/plain": [
       "array([5, 0, 4, 1, 9, 2, 1, 3, 1, 4], dtype=uint8)"
      ]
     },
     "execution_count": 7,
     "metadata": {},
     "output_type": "execute_result"
    }
   ],
   "source": [
    "train_y[:10]"
   ]
  },
  {
   "cell_type": "markdown",
   "metadata": {
    "id": "mXLEhEnETxO5"
   },
   "source": [
    "## Classifying Binary Handwritten Digits using Neural Networks"
   ]
  },
  {
   "cell_type": "markdown",
   "metadata": {
    "id": "-a2vTyJ-YFl-"
   },
   "source": [
    "We will start with just trying to classify ones versus zeros, a binary classifier like the one we saw in lecture. We'll see that our approach in the binary case extends very easily to all 10 digits. Run the code in the cell below, which selects only the data points with digit values equal to zero or one. "
   ]
  },
  {
   "cell_type": "code",
   "execution_count": 8,
   "metadata": {
    "id": "Q2dhArqpYGNH"
   },
   "outputs": [],
   "source": [
    "#get rows where digit is one or zero as True, others as False\n",
    "rows_0_1_train =(train_y==0) | (train_y== 1)\n",
    "rows_0_1_test =(test_y==0) | (test_y== 1)\n",
    "\n",
    "#use this to select only rows with ones and zeros\n",
    "train_y_binary = train_y[rows_0_1_train]\n",
    "test_y_binary = test_y[rows_0_1_test]\n",
    "X_train_binary = X_train[rows_0_1_train]\n",
    "X_test_binary = X_test[rows_0_1_test]\n"
   ]
  },
  {
   "cell_type": "markdown",
   "metadata": {
    "id": "n6AcxFXsIe5C"
   },
   "source": [
    "Now, let us train a neural network on this data using `scikit-learn`. The code below is taken directly from the neural network classification example in the lecture notebook, with a regularization parameter $\\alpha$ of 0.0, 2 hidden layers with 3 and 2 neurons, respectively. **Modify the a neural network code below to have two hidden layers with 7 and 6 neurons (in that order), instead of 3 followed by 2 layers. Then, run the cell to train the neural network (this may take a few minutes)** "
   ]
  },
  {
   "cell_type": "code",
   "execution_count": 9,
   "metadata": {
    "colab": {
     "base_uri": "https://localhost:8080/"
    },
    "id": "CO-bF9HlUNWF",
    "outputId": "1a4e4e45-8bea-457c-9c41-eb98500682d7"
   },
   "outputs": [
    {
     "name": "stdout",
     "output_type": "stream",
     "text": [
      "Iteration 1, loss = 0.73063795\n",
      "Iteration 2, loss = 0.63684589\n",
      "Iteration 3, loss = 0.56217712\n",
      "Iteration 4, loss = 0.49106295\n",
      "Iteration 5, loss = 0.42243153\n",
      "Iteration 6, loss = 0.35968646\n",
      "Iteration 7, loss = 0.30424332\n",
      "Iteration 8, loss = 0.25798087\n",
      "Iteration 9, loss = 0.22007493\n",
      "Iteration 10, loss = 0.18868615\n",
      "Iteration 11, loss = 0.16349496\n",
      "Iteration 12, loss = 0.14284869\n",
      "Iteration 13, loss = 0.12637927\n",
      "Iteration 14, loss = 0.11234293\n",
      "Iteration 15, loss = 0.09939115\n",
      "Iteration 16, loss = 0.08925153\n",
      "Iteration 17, loss = 0.08071435\n",
      "Iteration 18, loss = 0.07342938\n",
      "Iteration 19, loss = 0.06664992\n",
      "Iteration 20, loss = 0.06161155\n",
      "Iteration 21, loss = 0.05646180\n",
      "Iteration 22, loss = 0.05187838\n",
      "Iteration 23, loss = 0.04811267\n",
      "Iteration 24, loss = 0.04479159\n",
      "Iteration 25, loss = 0.04228977\n",
      "Iteration 26, loss = 0.03927133\n",
      "Iteration 27, loss = 0.03721620\n",
      "Iteration 28, loss = 0.03546280\n",
      "Iteration 29, loss = 0.03335216\n",
      "Iteration 30, loss = 0.03109303\n",
      "Iteration 31, loss = 0.02877902\n",
      "Iteration 32, loss = 0.02745761\n",
      "Iteration 33, loss = 0.02590113\n",
      "Iteration 34, loss = 0.02461078\n",
      "Iteration 35, loss = 0.02322120\n",
      "Iteration 36, loss = 0.02203370\n",
      "Iteration 37, loss = 0.02093087\n",
      "Iteration 38, loss = 0.02070593\n",
      "Iteration 39, loss = 0.01976872\n",
      "Iteration 40, loss = 0.01867888\n",
      "Iteration 41, loss = 0.01794855\n",
      "Iteration 42, loss = 0.01736980\n",
      "Iteration 43, loss = 0.01647998\n",
      "Iteration 44, loss = 0.01556947\n",
      "Iteration 45, loss = 0.01481990\n",
      "Iteration 46, loss = 0.01412039\n",
      "Iteration 47, loss = 0.01341846\n",
      "Iteration 48, loss = 0.01305454\n",
      "Iteration 49, loss = 0.01256969\n",
      "Iteration 50, loss = 0.01211240\n"
     ]
    },
    {
     "name": "stderr",
     "output_type": "stream",
     "text": [
      "C:\\Python310\\lib\\site-packages\\sklearn\\neural_network\\_multilayer_perceptron.py:692: ConvergenceWarning: Stochastic Optimizer: Maximum iterations (50) reached and the optimization hasn't converged yet.\n",
      "  warnings.warn(\n"
     ]
    },
    {
     "data": {
      "text/plain": [
       "MLPClassifier(activation='logistic', alpha=0.0, hidden_layer_sizes=(7, 6),\n",
       "              max_iter=50, random_state=42, verbose=True)"
      ]
     },
     "execution_count": 9,
     "metadata": {},
     "output_type": "execute_result"
    }
   ],
   "source": [
    "#train neural network\n",
    "from sklearn.neural_network import MLPClassifier\n",
    "\n",
    "NN_model_classify = MLPClassifier( alpha= 0.0,\n",
    "                     hidden_layer_sizes=(7,6), activation='logistic', max_iter=50,verbose=True, random_state=42)\n",
    "                     # hidden_layer_sizes=(3,2), activation='logistic', max_iter=50,verbose=True, random_state=42)\n",
    "\n",
    "NN_model_classify.fit(X_train_binary, train_y_binary)\n"
   ]
  },
  {
   "cell_type": "markdown",
   "metadata": {
    "id": "S1QUkj3sb4MT"
   },
   "source": [
    "Let's look the performance of our trained classifier on the test set and see how well do we do. First, let's predict the digits in our test set and store these predictions in `y_pred`. Then, we will create a confusion matrix, just as in lecture. "
   ]
  },
  {
   "cell_type": "code",
   "execution_count": 10,
   "metadata": {
    "colab": {
     "base_uri": "https://localhost:8080/",
     "height": 298
    },
    "id": "IegZsPjCb6eC",
    "outputId": "ea4393c2-5f7a-478d-fc8d-d81d8fb41193"
   },
   "outputs": [
    {
     "data": {
      "text/plain": [
       "<sklearn.metrics._plot.confusion_matrix.ConfusionMatrixDisplay at 0x240708e1c60>"
      ]
     },
     "execution_count": 10,
     "metadata": {},
     "output_type": "execute_result"
    },
    {
     "data": {
      "image/png": "[encoded data removed]",
      "text/plain": [
       "<Figure size 432x288 with 2 Axes>"
      ]
     },
     "metadata": {
      "needs_background": "light"
     },
     "output_type": "display_data"
    }
   ],
   "source": [
    "#make predictions on binary digits\n",
    "y_pred_binary = NN_model_classify.predict(X_test_binary)\n",
    "\n",
    "from sklearn.metrics import ConfusionMatrixDisplay\n",
    "#plot confusion matrix\n",
    "ConfusionMatrixDisplay.from_predictions(test_y_binary, y_pred_binary)\n"
   ]
  },
  {
   "cell_type": "markdown",
   "metadata": {
    "id": "Gxy12w-XfBw5"
   },
   "source": [
    "Our performance on classifying 1 versus 0 is extremely high. We can also see this by using the function `classification_report`, which reports our precision, recall, and f1-scores. "
   ]
  },
  {
   "cell_type": "code",
   "execution_count": 11,
   "metadata": {
    "colab": {
     "base_uri": "https://localhost:8080/"
    },
    "id": "N8pL4ZhXdTyn",
    "outputId": "df0ea390-f54b-4ecc-96fa-6f8ce33e1352"
   },
   "outputs": [
    {
     "name": "stdout",
     "output_type": "stream",
     "text": [
      "              precision    recall  f1-score   support\n",
      "\n",
      "           0       1.00      1.00      1.00       980\n",
      "           1       1.00      1.00      1.00      1135\n",
      "\n",
      "    accuracy                           1.00      2115\n",
      "   macro avg       1.00      1.00      1.00      2115\n",
      "weighted avg       1.00      1.00      1.00      2115\n",
      "\n"
     ]
    }
   ],
   "source": [
    "from sklearn.metrics import classification_report\n",
    "\n",
    "print(classification_report(test_y_binary, y_pred_binary))"
   ]
  },
  {
   "cell_type": "markdown",
   "metadata": {
    "id": "TZP5bJ-afwQj"
   },
   "source": [
    "### Classifying Digits 0-9 with Neural Networks"
   ]
  },
  {
   "cell_type": "markdown",
   "metadata": {
    "id": "vrZrK-BYf8B1"
   },
   "source": [
    "Now, we will extend our classifier to all 10 digits. We'll see that this is a very easy extension. Modify the neural network below to have three layers with 8, 9 and 4  neurons (in that order), and then fit the network"
   ]
  },
  {
   "cell_type": "code",
   "execution_count": 12,
   "metadata": {
    "colab": {
     "base_uri": "https://localhost:8080/"
    },
    "id": "SLeQS1uBhKBA",
    "outputId": "d2718f0a-1ab6-4b22-c19e-29e7ce9dfce5"
   },
   "outputs": [
    {
     "name": "stdout",
     "output_type": "stream",
     "text": [
      "Iteration 1, loss = 2.28486106\n",
      "Iteration 2, loss = 2.09198124\n",
      "Iteration 3, loss = 1.92342541\n",
      "Iteration 4, loss = 1.85231044\n",
      "Iteration 5, loss = 1.79437773\n",
      "Iteration 6, loss = 1.75360079\n",
      "Iteration 7, loss = 1.71612429\n",
      "Iteration 8, loss = 1.67375078\n",
      "Iteration 9, loss = 1.63149528\n",
      "Iteration 10, loss = 1.58997376\n",
      "Iteration 11, loss = 1.55809497\n",
      "Iteration 12, loss = 1.53198104\n",
      "Iteration 13, loss = 1.49618318\n",
      "Iteration 14, loss = 1.46728916\n",
      "Iteration 15, loss = 1.44293917\n",
      "Iteration 16, loss = 1.41076479\n",
      "Iteration 17, loss = 1.38974437\n",
      "Iteration 18, loss = 1.38135612\n",
      "Iteration 19, loss = 1.33584993\n",
      "Iteration 20, loss = 1.32496195\n",
      "Iteration 21, loss = 1.29173297\n",
      "Iteration 22, loss = 1.27913328\n",
      "Iteration 23, loss = 1.26314593\n",
      "Iteration 24, loss = 1.20776224\n",
      "Iteration 25, loss = 1.17208271\n",
      "Iteration 26, loss = 1.13205666\n",
      "Iteration 27, loss = 1.12359315\n",
      "Iteration 28, loss = 1.09977096\n",
      "Iteration 29, loss = 1.09133524\n",
      "Iteration 30, loss = 1.08309389\n",
      "Iteration 31, loss = 1.07616612\n",
      "Iteration 32, loss = 1.05375402\n",
      "Iteration 33, loss = 1.04756704\n",
      "Iteration 34, loss = 1.04892292\n",
      "Iteration 35, loss = 1.03596227\n",
      "Iteration 36, loss = 1.02319364\n",
      "Iteration 37, loss = 1.02124302\n",
      "Iteration 38, loss = 1.01851654\n",
      "Iteration 39, loss = 1.00585564\n",
      "Iteration 40, loss = 1.01074477\n",
      "Iteration 41, loss = 0.99818089\n",
      "Iteration 42, loss = 0.98981587\n",
      "Iteration 43, loss = 0.99518789\n",
      "Iteration 44, loss = 0.98177100\n",
      "Iteration 45, loss = 0.98889023\n",
      "Iteration 46, loss = 0.97288753\n",
      "Iteration 47, loss = 0.96573936\n",
      "Iteration 48, loss = 0.95642769\n",
      "Iteration 49, loss = 0.94943818\n",
      "Iteration 50, loss = 0.93613943\n"
     ]
    },
    {
     "name": "stderr",
     "output_type": "stream",
     "text": [
      "C:\\Python310\\lib\\site-packages\\sklearn\\neural_network\\_multilayer_perceptron.py:692: ConvergenceWarning: Stochastic Optimizer: Maximum iterations (50) reached and the optimization hasn't converged yet.\n",
      "  warnings.warn(\n"
     ]
    },
    {
     "data": {
      "text/plain": [
       "MLPClassifier(activation='logistic', alpha=0.0, hidden_layer_sizes=(8, 9, 4),\n",
       "              max_iter=50, random_state=42, verbose=True)"
      ]
     },
     "execution_count": 12,
     "metadata": {},
     "output_type": "execute_result"
    }
   ],
   "source": [
    "#train neural network\n",
    "from sklearn.neural_network import MLPClassifier\n",
    "\n",
    "NN_model_classify = MLPClassifier( alpha= 0.0,\n",
    "                     hidden_layer_sizes=(8,9,4), activation='logistic', max_iter=50,verbose=True, random_state=42)\n",
    "                     # hidden_layer_sizes=(5,4), activation='logistic', max_iter=50,verbose=True, random_state=42)\n",
    "\n",
    "NN_model_classify.fit(X_train, train_y)"
   ]
  },
  {
   "cell_type": "markdown",
   "metadata": {
    "id": "nbiRw68LJbDF"
   },
   "source": [
    "Now, let's see how your trained neural network performed on the test set. First, we can try to classify an individual digit and see if it is classified successfully. The code below plots a handwritten digit, prints the true digits value, and then prints the predicted value.  "
   ]
  },
  {
   "cell_type": "code",
   "execution_count": 13,
   "metadata": {
    "colab": {
     "base_uri": "https://localhost:8080/",
     "height": 302
    },
    "id": "yNtuUy5gJr3r",
    "outputId": "f3f74034-0bb0-4637-bf2f-d2dd286ef986"
   },
   "outputs": [
    {
     "data": {
      "image/png": "[encoded data removed]",
      "text/plain": [
       "<Figure size 432x288 with 1 Axes>"
      ]
     },
     "metadata": {
      "needs_background": "light"
     },
     "output_type": "display_data"
    },
    {
     "name": "stdout",
     "output_type": "stream",
     "text": [
      "True digit: 3\n",
      "Predicted digit: [3]\n"
     ]
    }
   ],
   "source": [
    "import matplotlib.pyplot as plt\n",
    "#index = 50\n",
    "index = 30\n",
    "\n",
    "#plot handwritten digit\n",
    "plt.imshow(test_X_3D[index,:,:], cmap=plt.get_cmap('gray'))\n",
    "#print true digit value\n",
    "plt.show()\n",
    "print(\"True digit: %s\" % test_y[index])\n",
    "#print neural network\n",
    "y_pred5 = NN_model_classify.predict(X_test[index:index+1,:])\n",
    "print(\"Predicted digit: %s\" % y_pred5)"
   ]
  },
  {
   "cell_type": "markdown",
   "metadata": {
    "id": "zzRYVCAuj5DZ"
   },
   "source": [
    "Change the `index` above to view predictions for different digits. \n",
    "\n",
    "Now, let's make predictions on the test set, and view the precision, recall, and f1-scores for our model. This is almost the same as calculating precision, recall, and f1-scores for the binary case. The only difference is that for each digit, we compare predictions for the digit in question with predictions for predictions for all other digits, instead of just the single other digit. "
   ]
  },
  {
   "cell_type": "code",
   "execution_count": 14,
   "metadata": {
    "colab": {
     "base_uri": "https://localhost:8080/"
    },
    "id": "wKre3ofGBfvE",
    "outputId": "b38c810c-e6ab-4bc8-ca81-eeecebd0ec4e"
   },
   "outputs": [
    {
     "name": "stdout",
     "output_type": "stream",
     "text": [
      "              precision    recall  f1-score   support\n",
      "\n",
      "           0       0.69      0.94      0.80       980\n",
      "           1       0.94      0.94      0.94      1135\n",
      "           2       0.49      0.20      0.28      1032\n",
      "           3       0.56      0.76      0.64      1010\n",
      "           4       0.80      0.92      0.85       982\n",
      "           5       0.00      0.00      0.00       892\n",
      "           6       0.79      0.86      0.82       958\n",
      "           7       0.87      0.89      0.88      1028\n",
      "           8       0.45      0.79      0.57       974\n",
      "           9       0.87      0.70      0.77      1009\n",
      "\n",
      "    accuracy                           0.71     10000\n",
      "   macro avg       0.65      0.70      0.66     10000\n",
      "weighted avg       0.66      0.71      0.67     10000\n",
      "\n"
     ]
    },
    {
     "name": "stderr",
     "output_type": "stream",
     "text": [
      "C:\\Python310\\lib\\site-packages\\sklearn\\metrics\\_classification.py:1318: UndefinedMetricWarning: Precision and F-score are ill-defined and being set to 0.0 in labels with no predicted samples. Use `zero_division` parameter to control this behavior.\n",
      "  _warn_prf(average, modifier, msg_start, len(result))\n",
      "C:\\Python310\\lib\\site-packages\\sklearn\\metrics\\_classification.py:1318: UndefinedMetricWarning: Precision and F-score are ill-defined and being set to 0.0 in labels with no predicted samples. Use `zero_division` parameter to control this behavior.\n",
      "  _warn_prf(average, modifier, msg_start, len(result))\n",
      "C:\\Python310\\lib\\site-packages\\sklearn\\metrics\\_classification.py:1318: UndefinedMetricWarning: Precision and F-score are ill-defined and being set to 0.0 in labels with no predicted samples. Use `zero_division` parameter to control this behavior.\n",
      "  _warn_prf(average, modifier, msg_start, len(result))\n"
     ]
    }
   ],
   "source": [
    "#make digit predictions on test set\n",
    "y_pred = NN_model_classify.predict(X_test)\n",
    "#print classification report\n",
    "print(classification_report(test_y, y_pred))"
   ]
  },
  {
   "cell_type": "markdown",
   "metadata": {
    "id": "D1hY2sgWmS4Y"
   },
   "source": [
    "Overall, we can see that the performance is relatively good across the board, though some digits appear to be easier to predict than others: compare the scores for the digit 1 to the digit 5. \n",
    "\n",
    "Print the confusion matrix for the predictions by running the cell below. With more than two classes, the confusion matrix is also quite conceptually similar to the binary case, it simply adds more cells for each new class (digit). The four squares in the top left corner are the same cells from the binary case confusion matrix. "
   ]
  },
  {
   "cell_type": "code",
   "execution_count": 15,
   "metadata": {
    "colab": {
     "base_uri": "https://localhost:8080/",
     "height": 297
    },
    "id": "a8tqC0EkD2Iu",
    "outputId": "d8721606-1e70-4855-a816-8795ebb4dfff"
   },
   "outputs": [
    {
     "data": {
      "text/plain": [
       "<sklearn.metrics._plot.confusion_matrix.ConfusionMatrixDisplay at 0x24077bc7ca0>"
      ]
     },
     "execution_count": 15,
     "metadata": {},
     "output_type": "execute_result"
    },
    {
     "data": {
      "image/png": "[encoded data removed]",
      "text/plain": [
       "<Figure size 432x288 with 2 Axes>"
      ]
     },
     "metadata": {
      "needs_background": "light"
     },
     "output_type": "display_data"
    }
   ],
   "source": [
    "ConfusionMatrixDisplay.from_predictions(test_y, y_pred)"
   ]
  },
  {
   "cell_type": "markdown",
   "metadata": {
    "id": "S1_Ieg1Oq9Vc"
   },
   "source": [
    "This is simply one configuration of the network. We may be able to improve our classification performance by changing the regularization parameter, the architecture (the number of layers and neurons per layer), or activation type. \n",
    "\n",
    "Let's use the cross-validation approach from lecture - training and testing on different parts of the test set and comparing the scores of different neural networks. The code below is very similar to the cross-validation code from lecture, but loops through multiple parameter values (alphas, layers, and activiation types), not just alphas, and compares prints their scores. \n",
    "\n",
    "Currently, the code compares two different layer configurations. Run the code and compare their scores. If you'd like, feel free to add additional alphas, layers, or activations to test."
   ]
  },
  {
   "cell_type": "code",
   "execution_count": 16,
   "metadata": {
    "id": "O14u31VZpMBe"
   },
   "outputs": [
    {
     "name": "stdout",
     "output_type": "stream",
     "text": [
      "With alpha = 0.0, layers = (8, 9, 4), and activation =logistic, average cross validation score of 0.7605500000000001\n",
      "With alpha = 0.0, layers = (8, 9, 4), and activation =relu, average cross validation score of 0.8220166666666666\n",
      "With alpha = 0.0, layers = (7, 6, 7), and activation =logistic, average cross validation score of 0.7385333333333334\n",
      "With alpha = 0.0, layers = (7, 6, 7), and activation =relu, average cross validation score of 0.7647\n",
      "With alpha = 0.0, layers = (3, 2), and activation =logistic, average cross validation score of 0.5044500000000001\n",
      "With alpha = 0.0, layers = (3, 2), and activation =relu, average cross validation score of 0.40215\n",
      "With alpha = 0.0, layers = (5, 4), and activation =logistic, average cross validation score of 0.7909333333333333\n",
      "With alpha = 0.0, layers = (5, 4), and activation =relu, average cross validation score of 0.7637499999999999\n",
      "With alpha = 0.1, layers = (8, 9, 4), and activation =logistic, average cross validation score of 0.7773000000000001\n",
      "With alpha = 0.1, layers = (8, 9, 4), and activation =relu, average cross validation score of 0.8339166666666666\n",
      "With alpha = 0.1, layers = (7, 6, 7), and activation =logistic, average cross validation score of 0.7564166666666666\n",
      "With alpha = 0.1, layers = (7, 6, 7), and activation =relu, average cross validation score of 0.7831166666666667\n",
      "With alpha = 0.1, layers = (3, 2), and activation =logistic, average cross validation score of 0.5261666666666667\n",
      "With alpha = 0.1, layers = (3, 2), and activation =relu, average cross validation score of 0.44189999999999996\n",
      "With alpha = 0.1, layers = (5, 4), and activation =logistic, average cross validation score of 0.7665333333333335\n",
      "With alpha = 0.1, layers = (5, 4), and activation =relu, average cross validation score of 0.8194666666666667\n",
      "With alpha = 0.5, layers = (8, 9, 4), and activation =logistic, average cross validation score of 0.7179333333333333\n",
      "With alpha = 0.5, layers = (8, 9, 4), and activation =relu, average cross validation score of 0.8935166666666666\n",
      "With alpha = 0.5, layers = (7, 6, 7), and activation =logistic, average cross validation score of 0.6273833333333333\n",
      "With alpha = 0.5, layers = (7, 6, 7), and activation =relu, average cross validation score of 0.8689166666666666\n",
      "With alpha = 0.5, layers = (3, 2), and activation =logistic, average cross validation score of 0.4553833333333333\n",
      "With alpha = 0.5, layers = (3, 2), and activation =relu, average cross validation score of 0.4594\n",
      "With alpha = 0.5, layers = (5, 4), and activation =logistic, average cross validation score of 0.72905\n",
      "With alpha = 0.5, layers = (5, 4), and activation =relu, average cross validation score of 0.83955\n"
     ]
    }
   ],
   "source": [
    "from sklearn.model_selection import cross_val_score\n",
    "from sklearn.utils._testing import ignore_warnings\n",
    "from sklearn.exceptions import ConvergenceWarning\n",
    "import numpy as np\n",
    "\n",
    "\n",
    "#define cross validatation function (and ignore convergence warnings)\n",
    "@ignore_warnings(category=ConvergenceWarning)\n",
    "def cross_validate_alpha(alphas,layers,activations,X_train,train_y):\n",
    "  #for each alpha being tested, perform cross validation\n",
    "  for alpha in alphas:\n",
    "    for layer in layers:\n",
    "      for activation in activations:    \n",
    "        NN_model_classify = MLPClassifier( alpha=alpha,\n",
    "                            hidden_layer_sizes=layer, activation=activation, max_iter=50, random_state=42)\n",
    "        #apply cross validation to compute 4 scores (one for each held out portion of the training set)\n",
    "        score = cross_val_score(NN_model_classify, X_train, train_y, cv=4)\n",
    "        #report average score\n",
    "        print(\"With alpha = %s, layers = %s, and activation =%s, average cross validation score of %s\" % (alpha, str(layer), activation, np.mean(score)))\n",
    "\n",
    "#Feel free to add addition values to any of these lists to test\n",
    "#alphas = [0.0,]\n",
    "alphas = [0.0,0.1,0.5,]\n",
    "# layers = [(8,9,4 ),(7,6,7)]\n",
    "layers = [(8,9,4),(7,6,7),(3,2),(5,4)]\n",
    "# activations = ['logistic']\n",
    "activations = ['logistic', 'relu']\n",
    "\n",
    "cross_validate_alpha(alphas,layers,activations,X_train,train_y)"
   ]
  },
  {
   "cell_type": "markdown",
   "metadata": {
    "id": "fRCgNP63sRD3"
   },
   "source": [
    "Now, we want to see how the best performing network performs on the test set. We'll retrain this network on the whole data set, and make predictions with the test data. **Modify the code below so that the alpha, the hidden layer sizes and the activations to be those of the best performing network from cross validation.**"
   ]
  },
  {
   "cell_type": "code",
   "execution_count": 17,
   "metadata": {
    "id": "BxpHG50XoiVs"
   },
   "outputs": [
    {
     "name": "stdout",
     "output_type": "stream",
     "text": [
      "Iteration 1, loss = 2.91932854\n",
      "Iteration 2, loss = 1.95075310\n",
      "Iteration 3, loss = 1.72394820\n",
      "Iteration 4, loss = 1.56483341\n",
      "Iteration 5, loss = 1.40956633\n",
      "Iteration 6, loss = 1.31208092\n",
      "Iteration 7, loss = 1.24452462\n",
      "Iteration 8, loss = 1.19712691\n",
      "Iteration 9, loss = 1.15948967\n",
      "Iteration 10, loss = 1.10923061\n",
      "Iteration 11, loss = 1.05018935\n",
      "Iteration 12, loss = 0.99939528\n",
      "Iteration 13, loss = 0.95117830\n",
      "Iteration 14, loss = 0.90579823\n",
      "Iteration 15, loss = 0.86194584\n",
      "Iteration 16, loss = 0.81723863\n",
      "Iteration 17, loss = 0.77046886\n",
      "Iteration 18, loss = 0.73346930\n",
      "Iteration 19, loss = 0.71031927\n",
      "Iteration 20, loss = 0.67423601\n",
      "Iteration 21, loss = 0.63618358\n",
      "Iteration 22, loss = 0.57983705\n",
      "Iteration 23, loss = 0.50716906\n",
      "Iteration 24, loss = 0.46268995\n",
      "Iteration 25, loss = 0.43684753\n",
      "Iteration 26, loss = 0.41901848\n",
      "Iteration 27, loss = 0.40654024\n",
      "Iteration 28, loss = 0.39740670\n",
      "Iteration 29, loss = 0.38621864\n",
      "Iteration 30, loss = 0.38020394\n",
      "Iteration 31, loss = 0.37507668\n",
      "Iteration 32, loss = 0.37275148\n",
      "Iteration 33, loss = 0.36897788\n",
      "Iteration 34, loss = 0.35992788\n",
      "Iteration 35, loss = 0.35770618\n",
      "Iteration 36, loss = 0.35256644\n",
      "Iteration 37, loss = 0.34994771\n",
      "Iteration 38, loss = 0.34676703\n",
      "Iteration 39, loss = 0.34484395\n",
      "Iteration 40, loss = 0.34122892\n",
      "Iteration 41, loss = 0.33557572\n",
      "Iteration 42, loss = 0.33435205\n",
      "Iteration 43, loss = 0.32822959\n",
      "Iteration 44, loss = 0.32730565\n",
      "Iteration 45, loss = 0.31890053\n",
      "Iteration 46, loss = 0.31657480\n",
      "Iteration 47, loss = 0.31218107\n",
      "Iteration 48, loss = 0.31213791\n",
      "Iteration 49, loss = 0.30553364\n",
      "Iteration 50, loss = 0.30399617\n"
     ]
    },
    {
     "name": "stderr",
     "output_type": "stream",
     "text": [
      "C:\\Python310\\lib\\site-packages\\sklearn\\neural_network\\_multilayer_perceptron.py:692: ConvergenceWarning: Stochastic Optimizer: Maximum iterations (50) reached and the optimization hasn't converged yet.\n",
      "  warnings.warn(\n"
     ]
    },
    {
     "data": {
      "text/plain": [
       "MLPClassifier(alpha=0.5, hidden_layer_sizes=(8, 9, 4), max_iter=50,\n",
       "              random_state=42, verbose=True)"
      ]
     },
     "execution_count": 17,
     "metadata": {},
     "output_type": "execute_result"
    }
   ],
   "source": [
    "# NN_model_classify = MLPClassifier( alpha= 0.0,\n",
    "#                      hidden_layer_sizes=(5,4), activation='logistic', max_iter=50,verbose=True, random_state=42)\n",
    "NN_model_classify = MLPClassifier( alpha= 0.5,\n",
    "                     hidden_layer_sizes=(8,9,4), activation='relu', max_iter=50,verbose=True, random_state=42)\n",
    "\n",
    "NN_model_classify.fit(X_train, train_y)"
   ]
  },
  {
   "cell_type": "markdown",
   "metadata": {
    "id": "aGjnZXNvtsiH"
   },
   "source": [
    "Now, make digit predictions on the test set, and visualize the performance with a confusion matrix by running the cell below.  "
   ]
  },
  {
   "cell_type": "code",
   "execution_count": 18,
   "metadata": {
    "id": "xg3V7v95omvk"
   },
   "outputs": [
    {
     "data": {
      "text/plain": [
       "<sklearn.metrics._plot.confusion_matrix.ConfusionMatrixDisplay at 0x240708e15d0>"
      ]
     },
     "execution_count": 18,
     "metadata": {},
     "output_type": "execute_result"
    },
    {
     "data": {
      "image/png": "[encoded data removed]",
      "text/plain": [
       "<Figure size 432x288 with 2 Axes>"
      ]
     },
     "metadata": {
      "needs_background": "light"
     },
     "output_type": "display_data"
    }
   ],
   "source": [
    "#make digit predictions on test set\n",
    "y_pred = NN_model_classify.predict(X_test)\n",
    "#print confusion matrix\n",
    "ConfusionMatrixDisplay.from_predictions(test_y, y_pred)"
   ]
  }
 ],
 "metadata": {
  "colab": {
   "collapsed_sections": [],
   "name": "Homework_Week2.ipynb",
   "provenance": []
  },
  "kernelspec": {
   "display_name": "Python 3",
   "language": "python",
   "name": "python3"
  },
  "language_info": {
   "codemirror_mode": {
    "name": "ipython",
    "version": 3
   },
   "file_extension": ".py",
   "mimetype": "text/x-python",
   "name": "python",
   "nbconvert_exporter": "python",
   "pygments_lexer": "ipython3",
   "version": "3.10.4"
  }
 },
 "nbformat": 4,
 "nbformat_minor": 1
}
