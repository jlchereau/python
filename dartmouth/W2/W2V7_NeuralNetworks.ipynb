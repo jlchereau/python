{
 "cells": [
  {
   "cell_type": "markdown",
   "metadata": {},
   "source": [
    "# Neural Network Models, Regularization, and Cross Validation"
   ]
  },
  {
   "cell_type": "markdown",
   "metadata": {},
   "source": [
    "In this notebook we will look at neural network models for both regression and classification, and how to use cross-validation to choose regularization parameters and other aspects of neural network design."
   ]
  },
  {
   "cell_type": "markdown",
   "metadata": {},
   "source": [
    "## Classification using Neural Networks"
   ]
  },
  {
   "cell_type": "markdown",
   "metadata": {},
   "source": [
    "As with other machine learning models, we begin by loading a data set. For our classification problem, we will use an expanded version of the readmission data from one of the lessons from Week 1. We read the external file into a `DataFrame`, loading the readmission data from one of the lessons from Week 1. "
   ]
  },
  {
   "cell_type": "code",
   "execution_count": 10,
   "metadata": {},
   "outputs": [
    {
     "data": {
      "text/html": [
       "<div>\n",
       "<style scoped>\n",
       "    .dataframe tbody tr th:only-of-type {\n",
       "        vertical-align: middle;\n",
       "    }\n",
       "\n",
       "    .dataframe tbody tr th {\n",
       "        vertical-align: top;\n",
       "    }\n",
       "\n",
       "    .dataframe thead th {\n",
       "        text-align: right;\n",
       "    }\n",
       "</style>\n",
       "<table border=\"1\" class=\"dataframe\">\n",
       "  <thead>\n",
       "    <tr style=\"text-align: right;\">\n",
       "      <th></th>\n",
       "      <th>Length of Stay</th>\n",
       "      <th>Age</th>\n",
       "      <th>Gender (Female=1)</th>\n",
       "      <th>No. of Medical Conditions</th>\n",
       "      <th>Readmission</th>\n",
       "    </tr>\n",
       "  </thead>\n",
       "  <tbody>\n",
       "    <tr>\n",
       "      <th>0</th>\n",
       "      <td>0</td>\n",
       "      <td>25</td>\n",
       "      <td>0</td>\n",
       "      <td>3</td>\n",
       "      <td>0</td>\n",
       "    </tr>\n",
       "    <tr>\n",
       "      <th>1</th>\n",
       "      <td>1</td>\n",
       "      <td>67</td>\n",
       "      <td>1</td>\n",
       "      <td>5</td>\n",
       "      <td>0</td>\n",
       "    </tr>\n",
       "    <tr>\n",
       "      <th>2</th>\n",
       "      <td>2</td>\n",
       "      <td>89</td>\n",
       "      <td>0</td>\n",
       "      <td>1</td>\n",
       "      <td>0</td>\n",
       "    </tr>\n",
       "    <tr>\n",
       "      <th>3</th>\n",
       "      <td>4</td>\n",
       "      <td>19</td>\n",
       "      <td>0</td>\n",
       "      <td>1</td>\n",
       "      <td>0</td>\n",
       "    </tr>\n",
       "    <tr>\n",
       "      <th>4</th>\n",
       "      <td>8</td>\n",
       "      <td>78</td>\n",
       "      <td>0</td>\n",
       "      <td>4</td>\n",
       "      <td>1</td>\n",
       "    </tr>\n",
       "  </tbody>\n",
       "</table>\n",
       "</div>"
      ],
      "text/plain": [
       "   Length of Stay  Age  Gender (Female=1)  No. of Medical Conditions  \\\n",
       "0               0   25                  0                          3   \n",
       "1               1   67                  1                          5   \n",
       "2               2   89                  0                          1   \n",
       "3               4   19                  0                          1   \n",
       "4               8   78                  0                          4   \n",
       "\n",
       "   Readmission  \n",
       "0            0  \n",
       "1            0  \n",
       "2            0  \n",
       "3            0  \n",
       "4            1  "
      ]
     },
     "execution_count": 10,
     "metadata": {},
     "output_type": "execute_result"
    }
   ],
   "source": [
    "#load and view data\n",
    "import io\n",
    "import pandas as pd\n",
    "readmission_data = pd.read_csv('nn_readmission_multivariate.csv')\n",
    "readmission_data.head()"
   ]
  },
  {
   "cell_type": "markdown",
   "metadata": {},
   "source": [
    " We will first divide the dataset into training and testing data. `scikit-learn` provides a helpful function for this called `train_test_split`. We divide our data into features and outcomes as usual, then pass this data to the function. We also specify what proportion of our data will be in the testing set – setting the `test_size` parameter to 0.2 holds out 20% of the data for testing, chosen randomly. Setting `random_state` to an integer ensures that each time we run this code, the data is split in the same way."
   ]
  },
  {
   "cell_type": "code",
   "execution_count": 11,
   "metadata": {},
   "outputs": [],
   "source": [
    "#create training and testing data\n",
    "from sklearn.model_selection import train_test_split\n",
    "X = readmission_data[['Length of Stay', 'Age', 'Gender (Female=1)',\n",
    "       'No. of Medical Conditions']]\n",
    "y = readmission_data.Readmission\n",
    "X_train, X_test, y_train, y_test = train_test_split(X, y, test_size=0.2, random_state=0)"
   ]
  },
  {
   "cell_type": "markdown",
   "metadata": {},
   "source": [
    "The structure of the training code for neural networks is very similar to the scikit-learn code used for linear and logistic regression, simply using the class `MLPClassifier` instead. Once again, we set `random_state` to an integer value - since neural network training involves stochastic elements, setting this value is necessary to ensure that we get the same results each time we run the code. \n",
    "\n",
    "The structure of the network is governed by the parameter `hidden_layer_sizes`, which takes a set of number of neurons for each layer of the neural network. For instance, `(3, )` would be a neural network with one layer of three neurons. `(3, 2)` would be a neural network with a 3-neuron layer, fed into a subsequent 2-neuron layer. \n",
    "\n",
    "The `activation` parameter controls the activation function. By default, it is set to `'relu'` - the ReLU activation function. `'logistic'` is the sigmoid activation function. \n",
    "\n",
    "The `alpha` parameter is the quadratic regularization term (equivalent to $\\lambda$ in the earlier lessons). \n",
    "\n",
    "The `max_iter` parameter controls how long the optimization algorithm for minimizing the error function will run. Increasing this may improve the accuracy of the neural network model, at the expense of longer run-times."
   ]
  },
  {
   "cell_type": "code",
   "execution_count": 12,
   "metadata": {},
   "outputs": [
    {
     "data": {
      "text/plain": [
       "MLPClassifier(activation='logistic', alpha=0.0, hidden_layer_sizes=(3,),\n",
       "              max_iter=500, random_state=0)"
      ]
     },
     "execution_count": 12,
     "metadata": {},
     "output_type": "execute_result"
    }
   ],
   "source": [
    "#set random seed\n",
    "import numpy as np\n",
    "np.random.seed(0)\n",
    "\n",
    "#train neural network\n",
    "from sklearn.neural_network import MLPClassifier\n",
    "\n",
    "NN_model_classify = MLPClassifier( alpha=0.0,\n",
    "                     hidden_layer_sizes=(3, ), activation='logistic', max_iter=500, random_state = 0)\n",
    "\n",
    "NN_model_classify.fit(X_train, y_train)"
   ]
  },
  {
   "cell_type": "markdown",
   "metadata": {},
   "source": [
    "You may see a convergence warning given by `scikit-learn` above. This means that the minimization of the error function has not reached its predeteremined stopping criteria - you can optimize further by increasing `max_iter`, but for now we will use the model as is. \n",
    "\n",
    "Below, we plot a confusion matrix, as we did in the logistic regression excercise. However, this time, we use the held out testing data, which our model has not seen yet, to more accurately judge its performance."
   ]
  },
  {
   "cell_type": "code",
   "execution_count": 13,
   "metadata": {},
   "outputs": [
    {
     "data": {
      "image/png": "[encoded data removed]",
      "text/plain": [
       "<Figure size 432x288 with 2 Axes>"
      ]
     },
     "metadata": {
      "needs_background": "light"
     },
     "output_type": "display_data"
    }
   ],
   "source": [
    "#visualize predictions vs. true values for test set\n",
    "from sklearn.metrics import ConfusionMatrixDisplay\n",
    "import matplotlib.pyplot as plt\n",
    "\n",
    "ConfusionMatrixDisplay.from_estimator(NN_model_classify, X_test, y_test)\n",
    "plt.show()"
   ]
  },
  {
   "cell_type": "markdown",
   "metadata": {},
   "source": [
    "`scikit-learn` has a convenient function for cross validation `cross_val_score`. It divides the data set into `cv` portions, repeats the validation procedure using each portion as a validation set and the rest of the data to train the model. This creates `cv` different scores, that can be used to evaluate the model parameters. By default, the scores are 1 minus the misclassification rate discussed in an earlier lesson from this week.  \n",
    "\n",
    "The code below trains a model for three different values of the regularization parameter `alpha` using cross-validation evaluation approach. Note that with `cv = 4`, the validation portion of the set is 20% of the size of our original dataset."
   ]
  },
  {
   "cell_type": "code",
   "execution_count": 5,
   "metadata": {},
   "outputs": [
    {
     "name": "stdout",
     "output_type": "stream",
     "text": [
      "With alpha = 0.0, average cross validation score of 0.9299999999999999\n",
      "With alpha = 0.1, average cross validation score of 0.9299999999999999\n",
      "With alpha = 1.0, average cross validation score of 0.9312499999999999\n",
      "With alpha = 5.0, average cross validation score of 0.9175000000000001\n",
      "With alpha = 10.0, average cross validation score of 0.885\n"
     ]
    }
   ],
   "source": [
    "from sklearn.model_selection import cross_val_score\n",
    "from sklearn.utils._testing import ignore_warnings\n",
    "from sklearn.exceptions import ConvergenceWarning\n",
    "import numpy as np\n",
    "\n",
    "#define cross validatation function (and ignore convergence warnings)\n",
    "@ignore_warnings(category=ConvergenceWarning)\n",
    "def cross_validate_alpha(alphas,X_train,y_train):\n",
    "  #for each alpha being tested, perform cross validation\n",
    "  for alpha in alphas:    \n",
    "    NN_model_classify = MLPClassifier( alpha=alpha,\n",
    "                        hidden_layer_sizes=(3, ), activation='logistic', max_iter=500, random_state=0)\n",
    "    #apply cross validation to compute 4 scores (one for each held out portion of the training set)\n",
    "    score = cross_val_score(NN_model_classify, X_train, y_train, cv=4)\n",
    "    #report average score\n",
    "    print(\"With alpha = %s, average cross validation score of %s\" % (alpha, np.mean(score)))\n",
    "\n",
    "cross_validate_alpha([0.0,0.1, 1.0,5.0,10.0],X_train,y_train)"
   ]
  },
  {
   "cell_type": "markdown",
   "metadata": {},
   "source": [
    "Looking at the cross validation scores, we see that an `alpha` of 1.0 provides the highest cross-validation score. This suggests we may wish to use this value to train the model and report testing performance."
   ]
  },
  {
   "cell_type": "markdown",
   "metadata": {},
   "source": [
    "## Regression using Neural Networks"
   ]
  },
  {
   "cell_type": "markdown",
   "metadata": {},
   "source": [
    "We now will apply neural networks to a regression problem where we predict continuous values. We will return to an expanded version of market size dataset from last week's lessons."
   ]
  },
  {
   "cell_type": "code",
   "execution_count": 6,
   "metadata": {},
   "outputs": [
    {
     "data": {
      "text/html": [
       "<div>\n",
       "<style scoped>\n",
       "    .dataframe tbody tr th:only-of-type {\n",
       "        vertical-align: middle;\n",
       "    }\n",
       "\n",
       "    .dataframe tbody tr th {\n",
       "        vertical-align: top;\n",
       "    }\n",
       "\n",
       "    .dataframe thead th {\n",
       "        text-align: right;\n",
       "    }\n",
       "</style>\n",
       "<table border=\"1\" class=\"dataframe\">\n",
       "  <thead>\n",
       "    <tr style=\"text-align: right;\">\n",
       "      <th></th>\n",
       "      <th>Distance</th>\n",
       "      <th>OriginPop</th>\n",
       "      <th>DestinationPop</th>\n",
       "      <th>MarketSize</th>\n",
       "    </tr>\n",
       "  </thead>\n",
       "  <tbody>\n",
       "    <tr>\n",
       "      <th>0</th>\n",
       "      <td>1070.9</td>\n",
       "      <td>7.2</td>\n",
       "      <td>7.1</td>\n",
       "      <td>6.4</td>\n",
       "    </tr>\n",
       "    <tr>\n",
       "      <th>1</th>\n",
       "      <td>984.7</td>\n",
       "      <td>7.0</td>\n",
       "      <td>7.9</td>\n",
       "      <td>8.1</td>\n",
       "    </tr>\n",
       "    <tr>\n",
       "      <th>2</th>\n",
       "      <td>2041.4</td>\n",
       "      <td>11.7</td>\n",
       "      <td>11.5</td>\n",
       "      <td>8.1</td>\n",
       "    </tr>\n",
       "    <tr>\n",
       "      <th>3</th>\n",
       "      <td>1677.8</td>\n",
       "      <td>11.6</td>\n",
       "      <td>11.9</td>\n",
       "      <td>5.7</td>\n",
       "    </tr>\n",
       "    <tr>\n",
       "      <th>4</th>\n",
       "      <td>1160.7</td>\n",
       "      <td>10.0</td>\n",
       "      <td>8.9</td>\n",
       "      <td>10.6</td>\n",
       "    </tr>\n",
       "  </tbody>\n",
       "</table>\n",
       "</div>"
      ],
      "text/plain": [
       "   Distance  OriginPop  DestinationPop  MarketSize\n",
       "0    1070.9        7.2             7.1         6.4\n",
       "1     984.7        7.0             7.9         8.1\n",
       "2    2041.4       11.7            11.5         8.1\n",
       "3    1677.8       11.6            11.9         5.7\n",
       "4    1160.7       10.0             8.9        10.6"
      ]
     },
     "execution_count": 6,
     "metadata": {},
     "output_type": "execute_result"
    }
   ],
   "source": [
    "#load and view data\n",
    "import io\n",
    "import pandas as pd\n",
    "marketsize_data = pd.read_csv('nn_marketsize_multivariate.csv')\n",
    "marketsize_data.head()"
   ]
  },
  {
   "cell_type": "markdown",
   "metadata": {},
   "source": [
    "Once again, we will split the data into training and testing data, with market size as our prediction target."
   ]
  },
  {
   "cell_type": "code",
   "execution_count": 7,
   "metadata": {},
   "outputs": [],
   "source": [
    "#create training and testing data\n",
    "from sklearn.model_selection import train_test_split\n",
    "X = marketsize_data[['Distance', 'OriginPop', 'DestinationPop',]]\n",
    "y = marketsize_data.MarketSize\n",
    "X_train, X_test, y_train, y_test = train_test_split(X, y, test_size=0.2, random_state=0)"
   ]
  },
  {
   "cell_type": "markdown",
   "metadata": {},
   "source": [
    "We can now train our neural network, this time using `MLPRegressor` instead of `MLPClassifier`. The function parameters of interest are largely similar - this time we will train a network with three neurons in the first layer and two in the second layer, and use a ReLU activation function."
   ]
  },
  {
   "cell_type": "code",
   "execution_count": 8,
   "metadata": {},
   "outputs": [
    {
     "data": {
      "text/plain": [
       "MLPRegressor(hidden_layer_sizes=(3, 2), max_iter=500, random_state=0)"
      ]
     },
     "execution_count": 8,
     "metadata": {},
     "output_type": "execute_result"
    }
   ],
   "source": [
    "#train neural network\n",
    "from sklearn.neural_network import MLPRegressor\n",
    "\n",
    "NN_model_regress = MLPRegressor( alpha=0.0001,\n",
    "                     hidden_layer_sizes=(3, 2), activation='relu',max_iter=500, random_state=0)\n",
    "\n",
    "NN_model_regress.fit(X_train, y_train)"
   ]
  },
  {
   "cell_type": "markdown",
   "metadata": {},
   "source": [
    "Next, we look at our model performance using mean absolute error and mean squared error, this time on the testing set instead of the training set."
   ]
  },
  {
   "cell_type": "code",
   "execution_count": 9,
   "metadata": {},
   "outputs": [
    {
     "name": "stdout",
     "output_type": "stream",
     "text": [
      "Mean Absolute Error: 7.708491876003192\n",
      "Mean Squared Error: 71.06722455342761\n"
     ]
    }
   ],
   "source": [
    "#examine testing error\n",
    "from sklearn import metrics\n",
    "print('Mean Absolute Error:', metrics.mean_absolute_error(y_test, NN_model_regress.predict(X_test)))\n",
    "print('Mean Squared Error:', metrics.mean_squared_error(y_test, NN_model_regress.predict(X_test)))"
   ]
  }
 ],
 "metadata": {
  "kernelspec": {
   "display_name": "Python 3",
   "language": "python",
   "name": "python3"
  },
  "language_info": {
   "codemirror_mode": {
    "name": "ipython",
    "version": 3
   },
   "file_extension": ".py",
   "mimetype": "text/x-python",
   "name": "python",
   "nbconvert_exporter": "python",
   "pygments_lexer": "ipython3",
   "version": "3.7.6"
  }
 },
 "nbformat": 4,
 "nbformat_minor": 4
}
