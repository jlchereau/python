{
 "cells": [
  {
   "cell_type": "markdown",
   "metadata": {
    "id": "X4zD020tqYau"
   },
   "source": [
    "# Simulating a Radiology Clinic"
   ]
  },
  {
   "cell_type": "markdown",
   "metadata": {
    "id": "-ixzlgeurlu8"
   },
   "source": [
    "A hospital’s radiology department is suffering from poor workflow efficiency. You are brought in as a\n",
    "consultant to fix the problem. After several interviews with the radiology department personnel and\n",
    "collecting a lot of relevant data, you develop a good understanding of how the department\n",
    "workflow currently works: \n",
    "\n",
    "\n",
    "\n",
    "1.  Appointments are scheduled such that one patient is scheduled to arrive\n",
    "every 30 minutes. However, in reality the patients arrive uniformly in the interval starting from 10\n",
    "minutes before the scheduled arrival time to 10 minutes past the scheduled arrival time.\n",
    "2.   Each\n",
    "patient first fills up the consent forms. This usually takes only 2 minutes. However, if a patient gets\n",
    "stuck somewhere in that process and has some questions, then the process of filling up the forms\n",
    "consumes approximately 10 minutes. The patient does get stuck once in every 5 cases or so (so,\n",
    "probability of getting stuck = 0.2).\n",
    "3.   As soon as the forms are filled, the second step is to prepare the\n",
    "patient for the radiology exam. This involves transporting the patient to the exam room, having\n",
    "them change into the exam clothes, and administering any required medicines. The time taken for\n",
    "preparing the patient for the exam has an exponential distribution with expected value of 15\n",
    "minutes.\n",
    "4.   While the patient is being prepared for the radiology exam, the exam room is also\n",
    "prepared simultaneously. Preparing the exam room takes exactly 10 minutes.\n",
    "5.   Once the patient and\n",
    "the room both are ready, the exam is conducted. The exam lasts for either 8, 10 or 12 minutes with\n",
    "equal probability.\n",
    "6.   As soon as an exam is finished, we can start preparing the room for the next exam. As soon as an exam is finished, we can also start preparing the next patient if the patient has finished the paperwork."
   ]
  },
  {
   "cell_type": "markdown",
   "metadata": {
    "id": "03lLJUFwPZ0k"
   },
   "source": [
    "In this homework you will build a discrete-event simulation model of the radiology department workflow. Let's start by listing out the variables we need. We will be generating some number of patients in this simulation - let's call this `n_max` - and we'll be keeping track of their progress through the radiology department and recording metrics of interest. Each of our metrics will be a list of length `n_max`, with each element of the list initialized to zero - we can do this by writing `[0]*n_max`, just as in the Coffee Shop and Repair Facility simulations. Here are the metrics we will want to keep track of:\n",
    "\n",
    "```\n",
    "  #arrival time of patient n \n",
    "  PA=[0]*n_max\n",
    "  #time taken for patient n to fill out forms\n",
    "  FF=[0]*n_max\n",
    "  #time taken for patient n to get prepared for exam\n",
    "  PP=[0]*n_max\n",
    "  #time taken to prepare exam room for patient n\n",
    "  EP=[0]*n_max\n",
    "  #time taken for exam for patient n\n",
    "  E=[0]*n_max\n",
    "  #start time of exam for patient n\n",
    "  ES=[0]*n_max\n",
    "  #end time of exam for patient n\n",
    "  EE=[0]*n_max\n",
    "  #time when the exam room gets ready for patient n\n",
    "  ER=[0]*n_max \n",
    "  #time when patient n gets ready for the exam\n",
    "  PR=[0]*n_max\n",
    "  #time when the patient starts getting prepared for the exam \n",
    "  PPS=[0]*n_max\n",
    "```\n"
   ]
  },
  {
   "cell_type": "markdown",
   "metadata": {
    "id": "hHcMDh3ODT7E"
   },
   "source": [
    "Now, lets start by building up the simulation piece by piece. First, we need a function to generate an arrival time. Suppose that one patient arrives every 30 minutes as scheduled. If patients are numbered `0`, `1`, `2`, and so on, then we could find the arrival time of patient `n` as `30*n` (so that, for example, patient `0` arrives at time `0`. However, note that there is some random component to a patients arrival. They arrive uniformly in the interval from ten minutes before to ten minutes after their scheduled time. \n",
    "\n",
    "How can we model this? If we can generate a random number uniformly from 0 to 1 by calling `random.random()`, as we saw in lecture, we just need to ensure that the lower bound of arrival time corresponds to the case when `random.random()` returns 0, and the upper bound of arrival time corresponds to the case when `random.random()` returns 1.\n",
    "\n",
    "The cell below defines a function such patients arrival uniformly in an interval of 15 minutes before to 15 minutes after their scheduled time. If `random.random()` returns 0, we have `30*n -15 + 0`, or `-15` for patient `0`, and if `random.random()` returns 1, we have `30*n -15 + 30`, or `15` for patient `0`. \n",
    "\n",
    "**Change the code below so that patients arrival at the correct interval of 10 minutes before to 10 minutes after their start time**"
   ]
  },
  {
   "cell_type": "code",
   "execution_count": 79,
   "metadata": {
    "id": "iCQfmSSs0lP5"
   },
   "outputs": [],
   "source": [
    "import random\n",
    "\n",
    "def get_arrival_time(n):\n",
    "  # arrival_time=30*n-15+30*random.random()\n",
    "  arrival_time=30*n-10+20*random.random()\n",
    "  return arrival_time"
   ]
  },
  {
   "cell_type": "markdown",
   "metadata": {
    "id": "d9O0BUnatpbb"
   },
   "source": [
    "Now, **call the function you've created a few times for patient `0` and view the output by running the cell below**. Are the values falling between -10 and 10? "
   ]
  },
  {
   "cell_type": "code",
   "execution_count": 80,
   "metadata": {
    "colab": {
     "base_uri": "https://localhost:8080/"
    },
    "id": "TLdc6cxlulTx",
    "outputId": "7c15db6b-5b31-402e-9c84-103baa3821bd"
   },
   "outputs": [
    {
     "data": {
      "text/plain": [
       "-5.41247585322326"
      ]
     },
     "execution_count": 80,
     "metadata": {},
     "output_type": "execute_result"
    }
   ],
   "source": [
    "get_arrival_time(0)"
   ]
  },
  {
   "cell_type": "markdown",
   "metadata": {
    "id": "AfRel2GpDtVP"
   },
   "source": [
    "Next, we need one to generate the time needed for filling out forms. We know that patients can fill out the forms in 2 minutes 80% of the time. But 1 out of every 5 times, they get stuck, and the process takes 10 minutes. \n",
    "\n",
    "How do we model this? If we can generate a random number uniformly from 0 to 1 using `random.random()`, we just need to make sure we set `fill_forms_time` to 2 for 80% of the possible values between 0 and 1, and to 10 for the 20% of possible values. We can do this with an `if` statement - probably the easiest option is to set `fill_forms_time` equal to 2 if the random number is less than some value, and equal to 10 otherwise. \n",
    "\n",
    "The cell below defines a function such that 40% of the time patients take 2 minutes to fill out the forms, and 60% of the time they take 10 minutes to fill out the forms. **Change the function such that they fill out the forms in 2 minutes 80% of the time, and get stuck 20% of the time.**"
   ]
  },
  {
   "cell_type": "code",
   "execution_count": 81,
   "metadata": {
    "id": "1eHLVDfr0NvA"
   },
   "outputs": [],
   "source": [
    "def get_fill_forms_time():\n",
    "   r=random.random()\n",
    "   # if(r<0.4): \n",
    "   if(r<0.8): \n",
    "     fill_forms_time=2\n",
    "   else:\n",
    "     fill_forms_time=10\n",
    "   return fill_forms_time"
   ]
  },
  {
   "cell_type": "markdown",
   "metadata": {
    "id": "2gJUig-1xFmA"
   },
   "source": [
    "Try calling the function a few times below:"
   ]
  },
  {
   "cell_type": "code",
   "execution_count": 82,
   "metadata": {
    "colab": {
     "base_uri": "https://localhost:8080/"
    },
    "id": "eoklr2pCxDtK",
    "outputId": "e5843a92-24f2-4121-c791-1a8a0e8ec92b"
   },
   "outputs": [
    {
     "data": {
      "text/plain": [
       "10"
      ]
     },
     "execution_count": 82,
     "metadata": {},
     "output_type": "execute_result"
    }
   ],
   "source": [
    "get_fill_forms_time()"
   ]
  },
  {
   "cell_type": "markdown",
   "metadata": {
    "id": "oSdfQjTWDz1b"
   },
   "source": [
    "We also need a function that generates the time needed for patient preparation. We know that this time follows an exponential distribution with a mean of 15 minutes. Recall from lecture that we can generate these variables as $-λ \\log(random.random())$, where lambda is the distribution mean. The cell below generates exponentially distributed wait times with a mean of 10 minutes. **Change the code so that it has a mean wait time of 15 minutes**."
   ]
  },
  {
   "cell_type": "code",
   "execution_count": 83,
   "metadata": {
    "id": "cLq3H1m80fpn"
   },
   "outputs": [],
   "source": [
    "import math\n",
    "\n",
    "def get_exam_patient_prep_time():\n",
    "  # patient_prep_time = -10*math.log(random.random())\n",
    "  patient_prep_time = -15*math.log(random.random())\n",
    "  return patient_prep_time"
   ]
  },
  {
   "cell_type": "markdown",
   "metadata": {
    "id": "LjKoVFuM0NKW"
   },
   "source": [
    "Try generating some of these exponentially ditributed times by running the cell below to call the function. "
   ]
  },
  {
   "cell_type": "code",
   "execution_count": 84,
   "metadata": {
    "colab": {
     "base_uri": "https://localhost:8080/"
    },
    "id": "vpfAFKOp0aQf",
    "outputId": "80001c64-cb3b-4e30-d0be-cce514983580"
   },
   "outputs": [
    {
     "data": {
      "text/plain": [
       "10.53266383898222"
      ]
     },
     "execution_count": 84,
     "metadata": {},
     "output_type": "execute_result"
    }
   ],
   "source": [
    "get_exam_patient_prep_time()"
   ]
  },
  {
   "cell_type": "markdown",
   "metadata": {
    "id": "UlIE8QFzEBjT"
   },
   "source": [
    "Exam room prep time is just a constant: 10 minutes. **Run the cell below to define a simple function that always returns 10**. This is a very simple function, but defining at as a function allows us to easily change the simulation later.  "
   ]
  },
  {
   "cell_type": "code",
   "execution_count": 85,
   "metadata": {
    "id": "Z0aQfZCg1Cq5"
   },
   "outputs": [],
   "source": [
    "def get_exam_room_prep_time():\n",
    "   return 10"
   ]
  },
  {
   "cell_type": "markdown",
   "metadata": {
    "id": "j8cd2cRBEISd"
   },
   "source": [
    "Next, we need to define exam time. Exams last 8 minutes, 10 minutes or 12 minutes with equal probability (in other words, each of those options occurs 1/3 of the time). This is quite similar to the form filling time, except that now we have 3 possible outcomes instead of 2, so we will have to use an `elif` statement, such that if the random number is greater than a certain threshold, but less than another, the outcome will be 10 minutes. The code below generates wait times that are 8 minutes 1/4 of the time, 10 minutes 1/4 of the time, and 12 minutes 50% of the time. **Adjust this code so that each of the outcomes occurs with equal probability**."
   ]
  },
  {
   "cell_type": "code",
   "execution_count": 86,
   "metadata": {
    "id": "FTQMZyma1LbC"
   },
   "outputs": [],
   "source": [
    "def get_exam_time():\n",
    "   #calculate exam time \n",
    "   r=random.random(); \n",
    "   # if (r<(1/4)):\n",
    "   if (r<(1/3)):\n",
    "    exam_time=8 \n",
    "   # elif (r<1/2): \n",
    "   elif (r<2/3): \n",
    "    exam_time=10 \n",
    "   else: \n",
    "    exam_time=12 \n",
    "   return exam_time "
   ]
  },
  {
   "cell_type": "markdown",
   "metadata": {
    "id": "_Bf2KkEGEOoC"
   },
   "source": [
    "Finally, lets make a function for patient prep start time. We know that patients can start being prepped in the exam. We know that this can occur when the patient is done with his forms AND the exam room is free. In other words, this happens at whatever time is later for these two events. We can determine this using the `max` function. We define our function for a given patient `n`, and pass it the vector `PA` (patient arrival times) and  `FF` (patient form filling times. The time the patient is ready to begin preparation will be `PA[n]+FF[n]`. We need to also know when the exam room is free, which we can get by looking at the exam end time of the previous patient, `EE[n-1]`. We can then take the maximum of these two values to get the preparation start time.  **Run the cell below to define this function.**"
   ]
  },
  {
   "cell_type": "code",
   "execution_count": 87,
   "metadata": {
    "id": "UWn6pTtz6OUw"
   },
   "outputs": [],
   "source": [
    "def get_patient_prep_start_time(PA,FF,EE,n):\n",
    "   return max(PA[n]+FF[n],EE[n-1])"
   ]
  },
  {
   "cell_type": "markdown",
   "metadata": {
    "id": "qT04DXamEUfJ"
   },
   "source": [
    "We are now ready to put these function together in a full simulation. **Read through the code below to see where each of these functions are called, where their output is stored, and follow the path of computation from patient arrival time `PA` to exam end time `EE`. Then run this cell to define this function.**"
   ]
  },
  {
   "cell_type": "code",
   "execution_count": 88,
   "metadata": {
    "id": "os-ByjF_zWX3"
   },
   "outputs": [],
   "source": [
    "import math\n",
    "import random\n",
    "\n",
    "\n",
    "def run_radiology_sim(n_max=1000):\n",
    "\n",
    "##variables to keep track of  \n",
    "  #arrival time of patient n \n",
    "  PA=[0]*n_max\n",
    "  #time taken for patient n to fill out forms\n",
    "  FF=[0]*n_max\n",
    "  #time taken for patient n to get prepared for exam\n",
    "  PP=[0]*n_max\n",
    "  #time taken to prepare exam room for patient n\n",
    "  EP=[0]*n_max\n",
    "  #time taken for exam for patient n\n",
    "  E=[0]*n_max\n",
    "  #start time of exam for patient n\n",
    "  ES=[0]*n_max\n",
    "  #end time of exam for patient n\n",
    "  EE=[0]*n_max\n",
    "  #time when the exam room gets ready for patient n\n",
    "  ER=[0]*n_max \n",
    "  #time when patient n gets ready for the exam\n",
    "  PR=[0]*n_max\n",
    "  #time when the patient starts getting prepared for the exam \n",
    "  PPS=[0]*n_max\n",
    "\n",
    "##run simulation\n",
    "  for n in range(0,n_max):\n",
    "    #calculate arrival time\n",
    "    PA[n]=get_arrival_time(n)\n",
    "\n",
    "    #calculate time to fill out forms\n",
    "    FF[n] = get_fill_forms_time()\n",
    "    #calculate time taken to prep patient for exam\n",
    "    PP[n]=get_exam_patient_prep_time()\n",
    "    #record time to prepare exam room \n",
    "    EP[n]=get_exam_room_prep_time()\n",
    "    #calculate exam time \n",
    "    E[n] = get_exam_time()\n",
    "\n",
    "    # calculate when exam is ready (ER) and patient starts getting prepared (PPS)    \n",
    "    if (n==0): #for first patient...\n",
    "      #exam room ready once it is prepared (EP)\n",
    "      ER[n]=EP[n] \n",
    "      #patient starts getting prepped at the time they arrive plus the time to fill forms\n",
    "      PPS[n]=PA[n]+FF[n] \n",
    "    else: #for all later patients...\n",
    "      #exam room is ready at the time previous patient exits (EE) plus exam room prep time (EP)\n",
    "      ER[n]=EE[n-1]+EP[n] \n",
    "      #patient starts getting prepped at whichever comes later, the time they arrive plus the time to fill forms, \n",
    "      #or, the previous patient has left the exam room (EE[n-1])\n",
    "      PPS[n]=get_patient_prep_start_time(PA,FF,EE,n)\n",
    "\n",
    "    #time when patient is ready for exam is time they start getting prepped (PPS) plus prep time (PP)\n",
    "    PR[n]=PPS[n]+PP[n] \n",
    "    #start time of the exam is whichever comes later, when the exam room is ready (ER) and the patient is ready (PR)\n",
    "    ES[n]=max(ER[n],PR[n])\n",
    "    #end of exam time is start of exam time (ES) plus exam prep time (EE)\n",
    "    EE[n]=ES[n]+E[n]\n",
    "  return EE, ER, EP, PPS, PA, FF, PP, PR, PPS, ES, E\n"
   ]
  },
  {
   "cell_type": "markdown",
   "metadata": {
    "id": "HcsXC-6VVjzc"
   },
   "source": [
    "Now, let's test the simulation 1000 patients in steady state (we will assume, for simplicity, that the radiology department works\n",
    "24/7). We will ignore the first 100 patients as warm-up period.\n",
    "\n",
    "We want to calculate five different aggregate metrics: \n",
    "\n",
    "I. Average time spent by each patient in the radiology department. \n",
    "\n",
    "II. Average time from a patient’s scheduled arrival time to patient’s actual exit\n",
    "from the radiology department. \n",
    "\n",
    "III. Percentage of time for which the exam room is being used for the exam\n",
    "itself.\n",
    "\n",
    "IV. Percentage of time for which the exam room is used for preparing the\n",
    "patient.\n",
    "\n",
    "V. Percentage of time for which the exam room is used for preparing the exam\n",
    "room.\n",
    "\n",
    "The code below runs the simulation function you defined above `M` times, each time recording each of these metrics. It then averages each of these metrics across all runs of the simulation. **Run the cell below and examine the averages.** How does the average time spent by each patient compare to the scheduled time of 30 minutees? How does the average time from a patient's scheduled arrival time to a patient's exit compare to the scheduled time of 30 minutes? "
   ]
  },
  {
   "cell_type": "code",
   "execution_count": 89,
   "metadata": {
    "colab": {
     "base_uri": "https://localhost:8080/"
    },
    "id": "3eyLhDTKWI6n",
    "outputId": "cbefd74d-7404-422b-d576-3050a167efcb"
   },
   "outputs": [
    {
     "name": "stdout",
     "output_type": "stream",
     "text": [
      "run 0 complete\n",
      "run 1000 complete\n",
      "run 2000 complete\n",
      "run 3000 complete\n",
      "run 4000 complete\n",
      "run 5000 complete\n",
      "run 6000 complete\n",
      "run 7000 complete\n",
      "run 8000 complete\n",
      "run 9000 complete\n",
      "Average time in dept: 67.31991392646835 minutes\n",
      "Average scheduled arrival to end exam: 67.31937874055117 minutes\n",
      "Average percent exam time: 33.136841991329305\n",
      "Average percent patient prep: 50.59767164804268\n",
      "Average percent room prep: 33.336863170351414\n"
     ]
    }
   ],
   "source": [
    "from numpy import mean, array\n",
    "\n",
    "#define a random seed (so that we get the same outcome every time. )\n",
    "random.seed(42)\n",
    "\n",
    "#total number of simulations to run\n",
    "M=10000\n",
    "#number of patients per simulation\n",
    "n_max = 1000\n",
    "\n",
    "#average time per patient in the radiology department, for each simulation run\n",
    "avg_time=[0]*M\n",
    "#average time from scheduled appointment start to patient exit, for each simulation run\n",
    "avg_time_sch=[0]*M\n",
    "#percentage of time exam room is being used for the exam, for each simulation run\n",
    "perc_exam_time=[0]*M \n",
    "#percentage of time the exam room is used for preparing the patient\n",
    "perc_ptprep_time=[0]*M\n",
    "#percentatage of time the exam room is used for preparing the exam room\n",
    "perc_roomprep_time=[0]*M\n",
    "\n",
    "#patient scheduled arrival times (every 30 minutes), for n_max patients\n",
    "PA_sch=list(range(0,(n_max)*30,30))\n",
    "\n",
    "#patients to discard from calculations as warmup \n",
    "warmup = 100  \n",
    "\n",
    "for m in range(0,M):\n",
    "  EE, ER, EP, PPS, PA, FF, PP, PR, PPS, ES, E = run_radiology_sim(n_max=n_max)\n",
    "  #to get average time, subtract all patient exam end times from patient arrival times, then average\n",
    "  avg_time[m]=mean(array(EE[warmup:])-array(PA[warmup:]))\n",
    "  #similarly, subtract all patient exam end times from patient scheduled arrival times, then average\n",
    "  avg_time_sch[m]=mean(array(EE[warmup:])- array(PA_sch[warmup:]))\n",
    "  #divide sum of all exam times by the total time (last exam end time minus first non-warmup patient arrival)\n",
    "  perc_exam_time=sum(E[warmup:])/(EE[-1]-PA[warmup])\n",
    "  #divide sum of all patient prep times by the total time (last exam end time minus first non-warmup patient arrival)\n",
    "  perc_ptprep_time=sum(PP[warmup:])/(EE[-1]-PA[warmup])\n",
    "  #divide sum of all exam prep times by the total time (last exam end time minus first non-warmup patient arrival)\n",
    "  perc_roomprep_time=sum(EP[warmup:])/(EE[-1]- PA[warmup])\n",
    "  \n",
    "  # if m is evenly divisible by 1000, print progress\n",
    "  if m % 1000 == 0:\n",
    "    print(\"run %s complete\" % m)\n",
    "\n",
    "##compute averages of metrics across all simulation runs\n",
    "mean_avg_time = mean(avg_time) #aggregate metric I\n",
    "mean_avg_time_sch = mean(avg_time_sch) #aggregate metric II\n",
    "mean_perc_exam_time =mean(perc_exam_time) #aggregate metric III\n",
    "mean_perc_ptprep_time = mean(perc_ptprep_time) #aggregate metric IV\n",
    "mean_perc_roomprep_time =  mean(perc_roomprep_time) #aggregate metric V\n",
    "\n",
    "print(\"Average time in dept: %s minutes\" % mean_avg_time)\n",
    "print(\"Average scheduled arrival to end exam: %s minutes\" % mean_avg_time_sch)\n",
    "print(\"Average percent exam time: %s\" % (mean_perc_exam_time*100))\n",
    "print(\"Average percent patient prep: %s\" % (mean_perc_ptprep_time*100))\n",
    "print(\"Average percent room prep: %s\" % (mean_perc_roomprep_time*100))"
   ]
  },
  {
   "cell_type": "markdown",
   "metadata": {
    "id": "dQ7Zol7tVlg9"
   },
   "source": [
    "In your role as a consultant, suppose you are evaluating, as one possible recommendation, the idea of having a nurse call the\n",
    "patients ahead of their appointment to ensure that they arrive on time. It will cost you $10 per\n",
    "patient. How much will this reduce the average time spent by the patients in the radiology\n",
    "department? How much is the saving per dollar spent?"
   ]
  },
  {
   "cell_type": "markdown",
   "metadata": {
    "id": "EczNYqRWE6B7"
   },
   "source": [
    "In order examine this do this, let's redefine our arrival time function. **Change the function definition below to remove the random element.** "
   ]
  },
  {
   "cell_type": "code",
   "execution_count": 90,
   "metadata": {
    "id": "LXXiiTeR2L1E"
   },
   "outputs": [],
   "source": [
    "def get_arrival_time(n):\n",
    "  arrival_time=30*n # -15+30*random.random()\n",
    "  return arrival_time"
   ]
  },
  {
   "cell_type": "markdown",
   "metadata": {
    "id": "GFJwp64YFBYL"
   },
   "source": [
    "Now, **rerun our simulations by running the cell below.** The code below is the same as two cells above, except that we have appended `_ontime` to all of the aggregate variable names, so that we can compare the numbers.    "
   ]
  },
  {
   "cell_type": "code",
   "execution_count": 91,
   "metadata": {
    "colab": {
     "base_uri": "https://localhost:8080/"
    },
    "id": "csQRCGFe2Qq8",
    "outputId": "690509f8-45db-4472-824e-b5dfbbc336bb"
   },
   "outputs": [
    {
     "name": "stdout",
     "output_type": "stream",
     "text": [
      "run 0 complete\n",
      "run 1000 complete\n",
      "run 2000 complete\n",
      "run 3000 complete\n",
      "run 4000 complete\n",
      "run 5000 complete\n",
      "run 6000 complete\n",
      "run 7000 complete\n",
      "run 8000 complete\n",
      "run 9000 complete\n",
      "Average time in dept: 65.46308021127521 minutes\n",
      "Average scheduled arrival to end exam: 65.46308021127521 minutes\n",
      "Average percent exam time: 33.25163365123541\n",
      "Average percent patient prep: 48.73224039861079\n",
      "Average percent room prep: 33.229480664125994\n"
     ]
    }
   ],
   "source": [
    "from numpy import mean, array\n",
    "\n",
    "#define a random seed (so that we get the same outcome every time. )\n",
    "random.seed(42)\n",
    "\n",
    "#total number of simulations to run\n",
    "M=10000\n",
    "#number of patients per simulation\n",
    "n_max = 1000\n",
    "\n",
    "#average time per patient in the radiology department, for each simulation run\n",
    "avg_time=[0]*M\n",
    "#average time from scheduled appointment start to patient exit, for each simulation run\n",
    "avg_time_sch=[0]*M\n",
    "#percentage of time exam room is being used for the exam, for each simulation run\n",
    "perc_exam_time=[0]*M \n",
    "#percentage of time the exam room is used for preparing the patient\n",
    "perc_ptprep_time=[0]*M\n",
    "#percentatage of time the exam room is used for preparing the exam room\n",
    "perc_roomprep_time=[0]*M\n",
    "\n",
    "#patient scheduled arrival times (every 30 minutes), for n_max patients\n",
    "PA_sch=list(range(0,(n_max)*30,30))\n",
    "\n",
    "#patients to discard from calculations as warmup \n",
    "warmup = 100  \n",
    "\n",
    "for m in range(0,M):\n",
    "  EE, ER, EP, PPS, PA, FF, PP, PR, PPS, ES, E = run_radiology_sim(n_max=n_max)\n",
    "  #to get average time, subtract all patient exam end times from patient arrival times, then average\n",
    "  avg_time[m]=mean(array(EE[warmup:])-array(PA[warmup:]))\n",
    "  #similarly, subtract all patient exam end times from patient scheduled arrival times, then average\n",
    "  avg_time_sch[m]=mean(array(EE[warmup:])- array(PA_sch[warmup:]))\n",
    "  #divide sum of all exam times by the total time (last exam end time minus first non-warmup patient arrival)\n",
    "  perc_exam_time=sum(E[warmup:])/(EE[-1]-PA[warmup])\n",
    "  #divide sum of all patient prep times by the total time (last exam end time minus first non-warmup patient arrival)\n",
    "  perc_ptprep_time=sum(PP[warmup:])/(EE[-1]-PA[warmup])\n",
    "  #divide sum of all exam prep times by the total time (last exam end time minus first non-warmup patient arrival)\n",
    "  perc_roomprep_time=sum(EP[warmup:])/(EE[-1]- PA[warmup])\n",
    "  \n",
    "  # if m is evenly divisible by 1000, print progress\n",
    "  if m % 1000 == 0:\n",
    "    print(\"run %s complete\" % m)\n",
    "\n",
    "##compute averages of metrics across all simulation runs\n",
    "mean_avg_time_ontime = mean(avg_time) #aggregate metric I\n",
    "mean_avg_time_sch_ontime = mean(avg_time_sch) #aggregate metric II\n",
    "mean_perc_exam_time_ontime =mean(perc_exam_time) #aggregate metric III\n",
    "mean_perc_ptprep_time_ontime = mean(perc_ptprep_time) #aggregate metric IV\n",
    "mean_perc_roomprep_time_ontime =  mean(perc_roomprep_time) #aggregate metric V\n",
    "\n",
    "print(\"Average time in dept: %s minutes\" % mean_avg_time_ontime)\n",
    "print(\"Average scheduled arrival to end exam: %s minutes\" % mean_avg_time_sch_ontime)\n",
    "print(\"Average percent exam time: %s\" % (mean_perc_exam_time_ontime*100))\n",
    "print(\"Average percent patient prep: %s\" % (mean_perc_ptprep_time_ontime*100))\n",
    "print(\"Average percent room prep: %s\" % (mean_perc_roomprep_time_ontime*100))"
   ]
  },
  {
   "cell_type": "markdown",
   "metadata": {
    "id": "5dSUUJONFF0-"
   },
   "source": [
    "How does this compare to our previous run? The cell below computes first the difference between averages, then the difference in averages divided by dollars invested. "
   ]
  },
  {
   "cell_type": "code",
   "execution_count": 92,
   "metadata": {
    "colab": {
     "base_uri": "https://localhost:8080/"
    },
    "id": "AIqDkq0w2mMJ",
    "outputId": "3f00c752-aa5a-42d6-91b6-578220edb982"
   },
   "outputs": [
    {
     "name": "stdout",
     "output_type": "stream",
     "text": [
      "1.8568337151931331\n",
      "11.141002291158799\n"
     ]
    }
   ],
   "source": [
    "#difference in averages\n",
    "print(mean_avg_time-mean_avg_time_ontime) \n",
    "#savings in seconds per dollar invested\n",
    "print((mean_avg_time-mean_avg_time_ontime)*60/10) "
   ]
  },
  {
   "cell_type": "markdown",
   "metadata": {
    "id": "-imSn3HHV0D8"
   },
   "source": [
    "Another possible recommendation is to have a nurse help the patients while filling the forms\n",
    "so that they finish in exactly 2 minutes each time. This will cost $5 per patient. How much will this\n",
    "reduce the average time spent by the patients in the radiology department? How much is the\n",
    "saving per dollar spent?"
   ]
  },
  {
   "cell_type": "markdown",
   "metadata": {
    "id": "OgvncO3IFKUC"
   },
   "source": [
    "First, we need to restore the original arrival time function. **Run the cell below to revert back to the original**. "
   ]
  },
  {
   "cell_type": "code",
   "execution_count": 93,
   "metadata": {
    "id": "BTPCG29A4DSd"
   },
   "outputs": [],
   "source": [
    "def get_arrival_time(n):\n",
    "  arrival_time=30*n-10+20*random.random()\n",
    "  return arrival_time"
   ]
  },
  {
   "cell_type": "markdown",
   "metadata": {
    "id": "4R99nlCrFOmX"
   },
   "source": [
    "Now, let's adjust our forms function. **Change the function below so that patients finish the forms in exactly 2 minutes.** "
   ]
  },
  {
   "cell_type": "code",
   "execution_count": 94,
   "metadata": {
    "id": "1pJIX4NH3Qqp"
   },
   "outputs": [],
   "source": [
    "def get_fill_forms_time():\n",
    "  # r=random.random()\n",
    "  # if(r<0.4): \n",
    "  fill_forms_time=2\n",
    "  # else:\n",
    "  # fill_forms_time=10\n",
    "  return fill_forms_time"
   ]
  },
  {
   "cell_type": "markdown",
   "metadata": {
    "id": "ucvKH1FnFSs8"
   },
   "source": [
    "We can now rerun our simulations. We now append `_easyforms` to the aggregate variables. How have the results changed? "
   ]
  },
  {
   "cell_type": "code",
   "execution_count": 95,
   "metadata": {
    "colab": {
     "base_uri": "https://localhost:8080/"
    },
    "id": "AqhAJdd74Rha",
    "outputId": "de2c07b6-c209-4cbd-f556-cff8c329c39f"
   },
   "outputs": [
    {
     "name": "stdout",
     "output_type": "stream",
     "text": [
      "run 0 complete\n",
      "run 1000 complete\n",
      "run 2000 complete\n",
      "run 3000 complete\n",
      "run 4000 complete\n",
      "run 5000 complete\n",
      "run 6000 complete\n",
      "run 7000 complete\n",
      "run 8000 complete\n",
      "run 9000 complete\n",
      "Average time in dept: 64.93272188147648 minutes\n",
      "Average scheduled arrival to end exam: 64.92996253751747 minutes\n",
      "Average percent exam time: 33.24887802580771\n",
      "Average percent patient prep: 48.7282018661826\n",
      "Average percent room prep: 33.22672687455801\n"
     ]
    }
   ],
   "source": [
    "from numpy import mean, array\n",
    "\n",
    "#define a random seed (so that we get the same outcome every time. )\n",
    "random.seed(42)\n",
    "\n",
    "#total number of simulations to run\n",
    "M=10000\n",
    "#number of patients per simulation\n",
    "n_max = 1000\n",
    "\n",
    "#average time per patient in the radiology department, for each simulation run\n",
    "avg_time=[0]*M\n",
    "#average time from scheduled appointment start to patient exit, for each simulation run\n",
    "avg_time_sch=[0]*M\n",
    "#percentage of time exam room is being used for the exam, for each simulation run\n",
    "perc_exam_time=[0]*M \n",
    "#percentage of time the exam room is used for preparing the patient\n",
    "perc_ptprep_time=[0]*M\n",
    "#percentatage of time the exam room is used for preparing the exam room\n",
    "perc_roomprep_time=[0]*M\n",
    "\n",
    "#patient scheduled arrival times (every 30 minutes), for n_max patients\n",
    "PA_sch=list(range(0,(n_max)*30,30))\n",
    "\n",
    "#patients to discard from calculations as warmup \n",
    "warmup = 100  \n",
    "\n",
    "for m in range(0,M):\n",
    "  EE, ER, EP, PPS, PA, FF, PP, PR, PPS, ES, E = run_radiology_sim(n_max=n_max)\n",
    "  #to get average time, subtract all patient exam end times from patient arrival times, then average\n",
    "  avg_time[m]=mean(array(EE[warmup:])-array(PA[warmup:]))\n",
    "  #similarly, subtract all patient exam end times from patient scheduled arrival times, then average\n",
    "  avg_time_sch[m]=mean(array(EE[warmup:])- array(PA_sch[warmup:]))\n",
    "  #divide sum of all exam times by the total time (last exam end time minus first non-warmup patient arrival)\n",
    "  perc_exam_time=sum(E[warmup:])/(EE[-1]-PA[warmup])\n",
    "  #divide sum of all patient prep times by the total time (last exam end time minus first non-warmup patient arrival)\n",
    "  perc_ptprep_time=sum(PP[warmup:])/(EE[-1]-PA[warmup])\n",
    "  #divide sum of all exam prep times by the total time (last exam end time minus first non-warmup patient arrival)\n",
    "  perc_roomprep_time=sum(EP[warmup:])/(EE[-1]- PA[warmup])\n",
    "  \n",
    "  # if m is evenly divisible by 1000, print progress\n",
    "  if m % 1000 == 0:\n",
    "    print(\"run %s complete\" % m)\n",
    "\n",
    "##compute averages of metrics across all simulation runs\n",
    "mean_avg_time_easyforms = mean(avg_time) #aggregate metric I\n",
    "mean_avg_time_sch_easyforms = mean(avg_time_sch) #aggregate metric II\n",
    "mean_perc_exam_time_easyforms =mean(perc_exam_time) #aggregate metric III\n",
    "mean_perc_ptprep_time_easyforms = mean(perc_ptprep_time) #aggregate metric IV\n",
    "mean_perc_roomprep_time_easyforms =  mean(perc_roomprep_time) #aggregate metric V\n",
    "\n",
    "print(\"Average time in dept: %s minutes\" % mean_avg_time_easyforms)\n",
    "print(\"Average scheduled arrival to end exam: %s minutes\" % mean_avg_time_sch_easyforms)\n",
    "print(\"Average percent exam time: %s\" % (mean_perc_exam_time_easyforms*100))\n",
    "print(\"Average percent patient prep: %s\" % (mean_perc_ptprep_time_easyforms*100))\n",
    "print(\"Average percent room prep: %s\" % (mean_perc_roomprep_time_easyforms*100))"
   ]
  },
  {
   "cell_type": "markdown",
   "metadata": {
    "id": "mE19ggqsJOXk"
   },
   "source": [
    "Now, **fill in the code below, using the code after the first simulation as a template, to compute the difference in averages and the savings in seconds per dollar invested.** "
   ]
  },
  {
   "cell_type": "code",
   "execution_count": 96,
   "metadata": {
    "colab": {
     "base_uri": "https://localhost:8080/"
    },
    "id": "oLwCtJJA4eLl",
    "outputId": "27a75a3a-ef2f-4987-dd50-077143b76b48"
   },
   "outputs": [
    {
     "name": "stdout",
     "output_type": "stream",
     "text": [
      "2.3871920449918633\n",
      "14.32315226995118\n"
     ]
    }
   ],
   "source": [
    "#difference in averages\n",
    "print(mean_avg_time-mean_avg_time_easyforms) \n",
    "#savings in seconds per dollar invested\n",
    "print((mean_avg_time-mean_avg_time_easyforms)*60/10) "
   ]
  },
  {
   "cell_type": "markdown",
   "metadata": {
    "id": "E-mGS3Q5Whbh"
   },
   "source": [
    "Another possible recommendation is to add an extra technician to prepare the exam room.\n",
    "This will cost an extra $20 per patient but will cut the exam preparation time from 10 minutes down\n",
    "to 5 minutes. How much will this reduce the average time spent by the patients in the radiology\n",
    "department? How much is the saving per dollar spent?"
   ]
  },
  {
   "cell_type": "markdown",
   "metadata": {
    "id": "6v-mKQfCJu8b"
   },
   "source": [
    "First, restore the filling forms function by running the cell below. "
   ]
  },
  {
   "cell_type": "code",
   "execution_count": 97,
   "metadata": {
    "id": "ebgOTDSu5EHh"
   },
   "outputs": [],
   "source": [
    "def get_fill_forms_time():\n",
    "   r=random.random()\n",
    "   if(r<0.8): \n",
    "     fill_forms_time=2\n",
    "   else:\n",
    "     fill_forms_time=10\n",
    "   return fill_forms_time"
   ]
  },
  {
   "cell_type": "markdown",
   "metadata": {
    "id": "0BqjX3kFJ2Gv"
   },
   "source": [
    "Next, **modify the exam room prep time function below to cut the exam preparation time down to 5 minutes.** "
   ]
  },
  {
   "cell_type": "code",
   "execution_count": 98,
   "metadata": {
    "id": "1B6ObDu_5FHI"
   },
   "outputs": [],
   "source": [
    "def get_exam_room_prep_time():\n",
    "  # return 10\n",
    "  return 5"
   ]
  },
  {
   "cell_type": "markdown",
   "metadata": {
    "id": "YEJwNr17KB4S"
   },
   "source": [
    "Now, run the simulations again, by running the cell below, which simply adds `_fastexam` to all aggregate metric variable names. "
   ]
  },
  {
   "cell_type": "code",
   "execution_count": 99,
   "metadata": {
    "colab": {
     "base_uri": "https://localhost:8080/"
    },
    "id": "geqWS2Jf5NJv",
    "outputId": "21f4fb21-7389-4c1d-f6b4-a8eecac10643"
   },
   "outputs": [
    {
     "name": "stdout",
     "output_type": "stream",
     "text": [
      "run 0 complete\n",
      "run 1000 complete\n",
      "run 2000 complete\n",
      "run 3000 complete\n",
      "run 4000 complete\n",
      "run 5000 complete\n",
      "run 6000 complete\n",
      "run 7000 complete\n",
      "run 8000 complete\n",
      "run 9000 complete\n",
      "Average time in dept: 51.37598027397762 minutes\n",
      "Average scheduled arrival to end exam: 51.375445088060445 minutes\n",
      "Average percent exam time: 33.136841991329305\n",
      "Average percent patient prep: 50.59767164804268\n",
      "Average percent room prep: 16.668431585175707\n"
     ]
    }
   ],
   "source": [
    "from numpy import mean, array\n",
    "\n",
    "#define a random seed (so that we get the same outcome every time. )\n",
    "random.seed(42)\n",
    "\n",
    "#total number of simulations to run\n",
    "M=10000\n",
    "#number of patients per simulation\n",
    "n_max = 1000\n",
    "\n",
    "#average time per patient in the radiology department, for each simulation run\n",
    "avg_time=[0]*M\n",
    "#average time from scheduled appointment start to patient exit, for each simulation run\n",
    "avg_time_sch=[0]*M\n",
    "#percentage of time exam room is being used for the exam, for each simulation run\n",
    "perc_exam_time=[0]*M \n",
    "#percentage of time the exam room is used for preparing the patient\n",
    "perc_ptprep_time=[0]*M\n",
    "#percentatage of time the exam room is used for preparing the exam room\n",
    "perc_roomprep_time=[0]*M\n",
    "\n",
    "#patient scheduled arrival times (every 30 minutes), for n_max patients\n",
    "PA_sch=list(range(0,(n_max)*30,30))\n",
    "\n",
    "#patients to discard from calculations as warmup \n",
    "warmup = 100  \n",
    "\n",
    "for m in range(0,M):\n",
    "  EE, ER, EP, PPS, PA, FF, PP, PR, PPS, ES, E = run_radiology_sim(n_max=n_max)\n",
    "  #to get average time, subtract all patient exam end times from patient arrival times, then average\n",
    "  avg_time[m]=mean(array(EE[warmup:])-array(PA[warmup:]))\n",
    "  #similarly, subtract all patient exam end times from patient scheduled arrival times, then average\n",
    "  avg_time_sch[m]=mean(array(EE[warmup:])- array(PA_sch[warmup:]))\n",
    "  #divide sum of all exam times by the total time (last exam end time minus first non-warmup patient arrival)\n",
    "  perc_exam_time=sum(E[warmup:])/(EE[-1]-PA[warmup])\n",
    "  #divide sum of all patient prep times by the total time (last exam end time minus first non-warmup patient arrival)\n",
    "  perc_ptprep_time=sum(PP[warmup:])/(EE[-1]-PA[warmup])\n",
    "  #divide sum of all exam prep times by the total time (last exam end time minus first non-warmup patient arrival)\n",
    "  perc_roomprep_time=sum(EP[warmup:])/(EE[-1]- PA[warmup])\n",
    "  \n",
    "  # if m is evenly divisible by 1000, print progress\n",
    "  if m % 1000 == 0:\n",
    "    print(\"run %s complete\" % m)\n",
    "\n",
    "##compute averages of metrics across all simulation runs\n",
    "mean_avg_time_fastexam = mean(avg_time) #aggregate metric I\n",
    "mean_avg_time_sch_fastexam  = mean(avg_time_sch) #aggregate metric II\n",
    "mean_perc_exam_time_fastexam  =mean(perc_exam_time) #aggregate metric III\n",
    "mean_perc_ptprep_time_fastexam  = mean(perc_ptprep_time) #aggregate metric IV\n",
    "mean_perc_roomprep_time_fastexam  =  mean(perc_roomprep_time) #aggregate metric V\n",
    "\n",
    "print(\"Average time in dept: %s minutes\" % mean_avg_time_fastexam )\n",
    "print(\"Average scheduled arrival to end exam: %s minutes\" % mean_avg_time_sch_fastexam )\n",
    "print(\"Average percent exam time: %s\" % (mean_perc_exam_time_fastexam *100))\n",
    "print(\"Average percent patient prep: %s\" % (mean_perc_ptprep_time_fastexam*100))\n",
    "print(\"Average percent room prep: %s\" % (mean_perc_roomprep_time_fastexam *100))"
   ]
  },
  {
   "cell_type": "markdown",
   "metadata": {
    "id": "ZpfrFeRMKii2"
   },
   "source": [
    "Now, **fill in the code below, using the code after the first simulation as a template, to compute the difference in averages and the savings in seconds per dollar invested.** "
   ]
  },
  {
   "cell_type": "code",
   "execution_count": 100,
   "metadata": {
    "colab": {
     "base_uri": "https://localhost:8080/"
    },
    "id": "QlZmwG3D5VJH",
    "outputId": "46df2e13-9f98-404e-b0d4-e227e38c3f88"
   },
   "outputs": [
    {
     "name": "stdout",
     "output_type": "stream",
     "text": [
      "\n",
      "\n"
     ]
    }
   ],
   "source": [
    "#difference in averages\n",
    "print() \n",
    "#savings in seconds per dollar invested\n",
    "print() "
   ]
  },
  {
   "cell_type": "markdown",
   "metadata": {
    "id": "2RHtK4NNWk3z"
   },
   "source": [
    "Yet another possible recommendation is to add a new ‘patient preparation room’ so that the\n",
    "patient preparation can start even before the exam room becomes available (i.e., even before the\n",
    "previous exam is finished). Adding the new room will cost $20 per patient. How much will this\n",
    "reduce the average time spent by the patients in the radiology department? How much is the saving\n",
    "per dollar spent?"
   ]
  },
  {
   "cell_type": "markdown",
   "metadata": {
    "id": "wh73IFIwK1Pn"
   },
   "source": [
    "First, restore the original exam room prep time function by running the cell below. "
   ]
  },
  {
   "cell_type": "code",
   "execution_count": 101,
   "metadata": {
    "id": "c5KTHEdq5loF"
   },
   "outputs": [],
   "source": [
    "def get_exam_room_prep_time():\n",
    "  return 10"
   ]
  },
  {
   "cell_type": "markdown",
   "metadata": {
    "id": "OueRHtTNK8xw"
   },
   "source": [
    "Next, run the cell below, which removes the `max` statement, since we no longer need to consider the previous patient's exit time. "
   ]
  },
  {
   "cell_type": "code",
   "execution_count": 102,
   "metadata": {
    "id": "tMJQU7PM5pxB"
   },
   "outputs": [],
   "source": [
    "def get_patient_prep_start_time(PA,FF,EE,n):\n",
    "   return PA[n]+FF[n]"
   ]
  },
  {
   "cell_type": "markdown",
   "metadata": {
    "id": "dXbnglunLN0J"
   },
   "source": [
    "Now, rerun the simulations, now appending `_preproom` to the aggregate metric variable names. "
   ]
  },
  {
   "cell_type": "code",
   "execution_count": 103,
   "metadata": {
    "colab": {
     "base_uri": "https://localhost:8080/"
    },
    "id": "sol2GTMnAM-1",
    "outputId": "27496c87-5964-4225-9429-10b46b4f37eb"
   },
   "outputs": [
    {
     "name": "stdout",
     "output_type": "stream",
     "text": [
      "run 0 complete\n",
      "run 1000 complete\n",
      "run 2000 complete\n",
      "run 3000 complete\n",
      "run 4000 complete\n",
      "run 5000 complete\n",
      "run 6000 complete\n",
      "run 7000 complete\n",
      "run 8000 complete\n",
      "run 9000 complete\n",
      "Average time in dept: 36.793799811569016 minutes\n",
      "Average scheduled arrival to end exam: 36.79326462565186 minutes\n",
      "Average percent exam time: 33.136841991329305\n",
      "Average percent patient prep: 50.59767164804268\n",
      "Average percent room prep: 33.336863170351414\n"
     ]
    }
   ],
   "source": [
    "from numpy import mean, array\n",
    "\n",
    "#define a random seed (so that we get the same outcome every time. )\n",
    "random.seed(42)\n",
    "\n",
    "#total number of simulations to run\n",
    "M=10000\n",
    "#number of patients per simulation\n",
    "n_max = 1000\n",
    "\n",
    "#average time per patient in the radiology department, for each simulation run\n",
    "avg_time=[0]*M\n",
    "#average time from scheduled appointment start to patient exit, for each simulation run\n",
    "avg_time_sch=[0]*M\n",
    "#percentage of time exam room is being used for the exam, for each simulation run\n",
    "perc_exam_time=[0]*M \n",
    "#percentage of time the exam room is used for preparing the patient\n",
    "perc_ptprep_time=[0]*M\n",
    "#percentatage of time the exam room is used for preparing the exam room\n",
    "perc_roomprep_time=[0]*M\n",
    "\n",
    "#patient scheduled arrival times (every 30 minutes), for n_max patients\n",
    "PA_sch=list(range(0,(n_max)*30,30))\n",
    "\n",
    "#patients to discard from calculations as warmup \n",
    "warmup = 100  \n",
    "\n",
    "for m in range(0,M):\n",
    "  EE, ER, EP, PPS, PA, FF, PP, PR, PPS, ES, E = run_radiology_sim(n_max=n_max)\n",
    "  #to get average time, subtract all patient exam end times from patient arrival times, then average\n",
    "  avg_time[m]=mean(array(EE[warmup:])-array(PA[warmup:]))\n",
    "  #similarly, subtract all patient exam end times from patient scheduled arrival times, then average\n",
    "  avg_time_sch[m]=mean(array(EE[warmup:])- array(PA_sch[warmup:]))\n",
    "  #divide sum of all exam times by the total time (last exam end time minus first non-warmup patient arrival)\n",
    "  perc_exam_time=sum(E[warmup:])/(EE[-1]-PA[warmup])\n",
    "  #divide sum of all patient prep times by the total time (last exam end time minus first non-warmup patient arrival)\n",
    "  perc_ptprep_time=sum(PP[warmup:])/(EE[-1]-PA[warmup])\n",
    "  #divide sum of all exam prep times by the total time (last exam end time minus first non-warmup patient arrival)\n",
    "  perc_roomprep_time=sum(EP[warmup:])/(EE[-1]- PA[warmup])\n",
    "  \n",
    "  # if m is evenly divisible by 1000, print progress\n",
    "  if m % 1000 == 0:\n",
    "    print(\"run %s complete\" % m)\n",
    "\n",
    "##compute averages of metrics across all simulation runs\n",
    "mean_avg_time_preproom = mean(avg_time) #aggregate metric I\n",
    "mean_avg_time_sch_preproom  = mean(avg_time_sch) #aggregate metric II\n",
    "mean_perc_exam_time_preproom  =mean(perc_exam_time) #aggregate metric III\n",
    "mean_perc_ptprep_time_preproom  = mean(perc_ptprep_time) #aggregate metric IV\n",
    "mean_perc_roomprep_time_preproom  =  mean(perc_roomprep_time) #aggregate metric V\n",
    "\n",
    "print(\"Average time in dept: %s minutes\" % mean_avg_time_preproom )\n",
    "print(\"Average scheduled arrival to end exam: %s minutes\" % mean_avg_time_sch_preproom )\n",
    "print(\"Average percent exam time: %s\" % (mean_perc_exam_time_preproom *100))\n",
    "print(\"Average percent patient prep: %s\" % (mean_perc_ptprep_time_preproom*100))\n",
    "print(\"Average percent room prep: %s\" % (mean_perc_roomprep_time_preproom*100))"
   ]
  },
  {
   "cell_type": "markdown",
   "metadata": {
    "id": "jTUYTgTsLYNM"
   },
   "source": [
    "Now, **fill in the code below, using the code after the first simulation as a template, to compute the difference in averages and the savings in seconds per dollar invested.** "
   ]
  },
  {
   "cell_type": "code",
   "execution_count": 104,
   "metadata": {
    "colab": {
     "base_uri": "https://localhost:8080/"
    },
    "id": "vEyWwwzZAtA2",
    "outputId": "298f5163-37b1-486f-f681-cb2bb1faf747"
   },
   "outputs": [
    {
     "name": "stdout",
     "output_type": "stream",
     "text": [
      "30.52611411489933\n",
      "183.15668468939597\n"
     ]
    }
   ],
   "source": [
    "#difference in averages\n",
    "print(mean_avg_time-mean_avg_time_preproom) \n",
    "#savings in seconds per dollar invested\n",
    "print((mean_avg_time-mean_avg_time_preproom)*60/10) "
   ]
  }
 ],
 "metadata": {
  "colab": {
   "name": "Homework_Week3.ipynb",
   "provenance": []
  },
  "kernelspec": {
   "display_name": "Python 3",
   "language": "python",
   "name": "python3"
  },
  "language_info": {
   "codemirror_mode": {
    "name": "ipython",
    "version": 3
   },
   "file_extension": ".py",
   "mimetype": "text/x-python",
   "name": "python",
   "nbconvert_exporter": "python",
   "pygments_lexer": "ipython3",
   "version": "3.10.4"
  }
 },
 "nbformat": 4,
 "nbformat_minor": 1
}
