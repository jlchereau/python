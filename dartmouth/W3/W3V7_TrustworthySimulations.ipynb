{
 "cells": [
  {
   "cell_type": "markdown",
   "metadata": {
    "id": "X4zD020tqYau"
   },
   "source": [
    "# Building Trustworthy Simulations"
   ]
  },
  {
   "cell_type": "markdown",
   "metadata": {
    "id": "-ixzlgeurlu8"
   },
   "source": [
    "In this notebook, we will discuss how to implement and evaluate the simulations discussed in earlier lessons from this week. "
   ]
  },
  {
   "cell_type": "markdown",
   "metadata": {
    "id": "QY_XMASBxcjT"
   },
   "source": [
    "## Coffee Shop Simulation"
   ]
  },
  {
   "cell_type": "markdown",
   "metadata": {
    "id": "sGgC-ihMaFrJ"
   },
   "source": [
    "We will begin by implementing the Coffee Shop simulation discussed in an earlier lesson from this week. For convenience, we set the code for this simulation within a function – this function takes `n_max` (the maximum customers) and `T_max`, the maximum time, and returns customer arrival times `A`, departure times `D`, inter-arrival times `H`, service times `S`, and final customer number `n`. "
   ]
  },
  {
   "cell_type": "code",
   "execution_count": 1,
   "metadata": {
    "id": "Dn1eOEqHxG0O"
   },
   "outputs": [],
   "source": [
    "import math\n",
    "import random\n",
    "\n",
    "def run_coffee_shop_sim(n_max,T_max):\n",
    "  #initialize variables as empty lists\n",
    "  A = [0]*n_max #arrival times\n",
    "  D = [0]*n_max #departure times\n",
    "  H = [0]*n_max #inter-arrival times\n",
    "  S = [0]*n_max #service times\n",
    "  #run simulation\n",
    "  for n in range(n_max):\n",
    "    #inter arrival\n",
    "    H[n]=-math.log(random.random())/(9/60)\n",
    "    so=random.random()*(50/60)+(10/60) #order placing time    \n",
    "    sd=0 #time for making drinks\n",
    "    d_tot=random.randint(1,6) #number of drinks \n",
    "    #calculate total time needed to make drinks\n",
    "    for d in range(d_tot):\n",
    "      r=random.random()\n",
    "      if r<0.4: # if Americano...\n",
    "        sd=sd+random.random()*0.5 \n",
    "      else:\n",
    "        if r<0.7: # if Cappucino...\n",
    "          sd=sd+random.random()+2 \n",
    "        else: # if Latte...\n",
    "          sd=sd+random.random()*3+1  \n",
    "    #compute variables       \n",
    "    S[n]=so+sd\n",
    "    A[n]=A[n-1]+H[n]\n",
    "    D[n]=S[n]+max(A[n],D[n-1])\n",
    "    #stopping condition\n",
    "    if D[n]>T_max:          \n",
    "          break\n",
    "\n",
    "  return A, D, H, S, n      "
   ]
  },
  {
   "cell_type": "markdown",
   "metadata": {
    "id": "Xz4BU_XuaUrm"
   },
   "source": [
    "We also define a function to measure average customer time in the shop (i.e., $TimeInShop$ from a previous lesson), after removing a certain number of customers in the initial warmup period. "
   ]
  },
  {
   "cell_type": "code",
   "execution_count": 2,
   "metadata": {
    "id": "scPRng7yBGlg"
   },
   "outputs": [],
   "source": [
    "import numpy as np\n",
    "#average time in shop\n",
    "def TimeInShop(A,D,n,warmup):\n",
    "  return (1/(n-warmup))*sum(np.array(D[warmup+1:n])-np.array(A[warmup+1:n]))"
   ]
  },
  {
   "cell_type": "markdown",
   "metadata": {
    "id": "XmAITLIKuiQ4"
   },
   "source": [
    "We can now run the simulation, using 6 hours as a maximum time (chosen to be appropriate for a coffee shop), and 1000 as a customer maximum – since the termination condition is based on `T_max`, this can be a high number. We set `random.seed` to an integer value, to ensure that we can reproduce the results of our simulation if we run this cell again."
   ]
  },
  {
   "cell_type": "code",
   "execution_count": 3,
   "metadata": {
    "id": "9uSl-7miWino"
   },
   "outputs": [],
   "source": [
    "#run simulation\n",
    "n_max= 1000\n",
    "T_max = 6*60\n",
    "random.seed(1)\n",
    "A, D, H, S, n = run_coffee_shop_sim(n_max,T_max)"
   ]
  },
  {
   "cell_type": "markdown",
   "metadata": {
    "id": "3LF1Ak4VvO6E"
   },
   "source": [
    "To look at the outcome of our simulation, we can plot the time in shop for each customer in order (departure time minus arrival time). There is a lot of variability, but the increase in time in shop at the beginning suggests that we should get rid of about the first 10 customers as warmup. "
   ]
  },
  {
   "cell_type": "code",
   "execution_count": 4,
   "metadata": {
    "colab": {
     "base_uri": "https://localhost:8080/",
     "height": 298
    },
    "id": "ANeheYrLEemD",
    "outputId": "8e2b2438-6530-483d-800d-0afcb96e233d"
   },
   "outputs": [
    {
     "data": {
      "text/plain": [
       "Text(0, 0.5, 'Customer Time in Shop')"
      ]
     },
     "execution_count": 4,
     "metadata": {},
     "output_type": "execute_result"
    },
    {
     "data": {
      "image/png": "[encoded data removed]",
      "text/plain": [
       "<Figure size 432x288 with 1 Axes>"
      ]
     },
     "metadata": {
      "needs_background": "light"
     },
     "output_type": "display_data"
    }
   ],
   "source": [
    "import matplotlib.pyplot as plt\n",
    "\n",
    "#plot TimeInShop for each customer\n",
    "TimeInShop_inst = list(np.array(D)-np.array(A))\n",
    "plt.plot(range(n),TimeInShop_inst[:n])\n",
    "plt.xlabel('n')\n",
    "plt.ylabel('Customer Time in Shop')"
   ]
  },
  {
   "cell_type": "markdown",
   "metadata": {
    "id": "gebArXFdxRAY"
   },
   "source": [
    "We are particularly interested in reporting the average time spent in this coffee shop. Since there is potentially a lot of variation between simulation runs, we want to run the simulation many times and take an average – in other words, compute average $TimeInShop$. How many runs should we use? The code below runs the simulation for an increasing number of runs (specified by `sim_count`), computes average value of time in the shop, $TimeInShop$, for each of these runs after discarding warmup, and prints `sim_count`, mean $TimeInShop$ and the standard deviation of $TimeInShop$ for each of these sets of runs. \n"
   ]
  },
  {
   "cell_type": "code",
   "execution_count": 5,
   "metadata": {
    "colab": {
     "base_uri": "https://localhost:8080/"
    },
    "id": "dzncxqcBN-aQ",
    "outputId": "dca87ed8-aa3f-4865-cab0-dcea0b5faf6a"
   },
   "outputs": [
    {
     "name": "stdout",
     "output_type": "stream",
     "text": [
      "5 29.456659834254605 26.591629765077904\n",
      "10 26.023004577278424 13.745991195704168\n",
      "25 27.862172166099914 15.916869097224252\n",
      "50 25.62517132758524 15.326311968201507\n",
      "100 24.194646567868475 14.115460941735316\n",
      "500 25.675733220986473 13.54321689184811\n",
      "1000 26.53477317399295 15.26187640615908\n",
      "5000 25.46135115754775 14.311478737805658\n",
      "10000 25.829323113493217 14.565236895453758\n"
     ]
    }
   ],
   "source": [
    "for sim_count in [5,10,25,50,100,500,1000,5000,10000]:\n",
    "  TimeInShop_vec = []\n",
    "  for sim in range(sim_count):\n",
    "    n_max= 1000\n",
    "    T_max = 6*60\n",
    "    A, D, H, S, n = run_coffee_shop_sim(n_max,T_max)\n",
    "    TimeInShop_vec.append(TimeInShop(A,D,n,warmup=10))\n",
    "    \n",
    "  print(sim_count,np.mean(TimeInShop_vec),np.std(TimeInShop_vec))\n",
    "  "
   ]
  },
  {
   "cell_type": "markdown",
   "metadata": {
    "id": "iKmus4xtxTSV"
   },
   "source": [
    "\n",
    "We can see that with increasing numbers of runs, the initially variable mean $TimeInShop$ estimate becomes more stable, as does the estimate of the standard deviation of $TimeInShop$. This later quantity will never fully disappear, as the simulation contains natural variability. Instead, both the average and standard deviation converge in value as the number of runs increases. These numbers suggest that we likely should have at least 100 runs of our simulation to report a mean $TimeInShop$. \n",
    "\n",
    "Another way to look at this is to see that as  the number of runs increases, the standard deviation of estimates of mean $TimeInShop$ will decrease. The code below takes many samples of mean $TimeInShop$ for increasing numbers of runs, and computes and prints the standard deviation of average estimates for each `sim_count`. \n",
    "\n",
    "As we can see, as `sim_count` increases, the standard deviation of the estimate decreases. "
   ]
  },
  {
   "cell_type": "code",
   "execution_count": 6,
   "metadata": {
    "colab": {
     "base_uri": "https://localhost:8080/"
    },
    "id": "yRB6ErQnK0_S",
    "outputId": "f6a5d9f8-b0cc-4388-c962-da6402aa9a29"
   },
   "outputs": [
    {
     "name": "stdout",
     "output_type": "stream",
     "text": [
      "5 6.00035307023354\n",
      "10 4.899759338683591\n",
      "25 2.892187991971778\n",
      "75 1.39942338567149\n",
      "100 1.4965355635457427\n",
      "200 0.9581387554031164\n"
     ]
    }
   ],
   "source": [
    "for sim_count in [5,10,25,75,100,200]:\n",
    "  sample_means = []\n",
    "  for sample in range(100): \n",
    "    TimeInShop_vec = []\n",
    "    for sim in range(sim_count):\n",
    "      n_max= 1000\n",
    "      T_max = 6*60\n",
    "      A, D, H, S, n = run_coffee_shop_sim(n_max,T_max)\n",
    "      TimeInShop_vec.append(TimeInShop(A,D,n,warmup=10))\n",
    "    sample_means.append(np.mean(TimeInShop_vec))\n",
    "  print(sim_count, np.std(sample_means))"
   ]
  },
  {
   "cell_type": "markdown",
   "metadata": {
    "id": "1Il0EAeK2j_F"
   },
   "source": [
    "## Repair Facility Simulation"
   ]
  },
  {
   "cell_type": "markdown",
   "metadata": {
    "id": "WBgHy2erzW-i"
   },
   "source": [
    "Similarly for the repair facility scenario, we define a function to run the simulation, this time taking an `n_max` (maximum number of failures), and returning arrival, departure, inter-failure, and repair times, as well as final failure number `n` pre-halt. "
   ]
  },
  {
   "cell_type": "code",
   "execution_count": 7,
   "metadata": {
    "id": "M5koJO-O2npx"
   },
   "outputs": [],
   "source": [
    "def run_repair_facility_sim(n_max,S_0=5):\n",
    "  #initialize variables as empty lists\n",
    "  A = [0]*n_max #arrival times\n",
    "  D = [0]*n_max #departure times\n",
    "  F = [0]*n_max #inter-failure times\n",
    "  S = [0]*n_max #repair times\n",
    "  #run simulation\n",
    "  for n in range(n_max):\n",
    "    F[n]=-math.log(random.random())/1.0 \n",
    "    #use rejection method to simulate repair time\n",
    "    ok=False\n",
    "    while ok==False:\n",
    "      x=random.random(); y=random.random()\n",
    "      if x<0.6:\n",
    "        if y<(5/3)*x:\n",
    "          ok=True\n",
    "      else:\n",
    "        if y<2.5-2.5*x:\n",
    "          ok=True\n",
    "    #compute variables      \n",
    "    S[n]=x\n",
    "    A[n]=A[n-1]+F[n]\n",
    "    D[n]=S[n]+max(A[n],D[n-1])\n",
    "    #stopping condition\n",
    "    if n>S_0 and A[n]<D[n-S_0]:\n",
    "      \n",
    "      break\n",
    "    \n",
    "  return A, D, F, S, n\n"
   ]
  },
  {
   "cell_type": "markdown",
   "metadata": {
    "id": "2IjXXiebzttg"
   },
   "source": [
    "We also define a function that computes the number of arrivals and departures there have been in the repair facility at any given time, allowing us to calculate the machines in repair at time `t`."
   ]
  },
  {
   "cell_type": "code",
   "execution_count": 8,
   "metadata": {
    "id": "SKyA9azAXmeO"
   },
   "outputs": [],
   "source": [
    "#machines in repair at time t\n",
    "def N(A, D, n, t):\n",
    "  #arrivals at time t\n",
    "  num_arrivals = len([i for i in A[:n+1] if i<=t])\n",
    "  #departures at time t\n",
    "  num_departures = len([i for i in D[:n+1] if i<=t])\n",
    "  #return number of customers in the shop\n",
    "  return num_arrivals - num_departures"
   ]
  },
  {
   "cell_type": "markdown",
   "metadata": {
    "id": "11WwrVKk0WO2"
   },
   "source": [
    "We can now run the simulation, and for an appropriate span of time, compute the number of machines in the repair facility. We then plot this over time. "
   ]
  },
  {
   "cell_type": "code",
   "execution_count": 9,
   "metadata": {
    "colab": {
     "base_uri": "https://localhost:8080/",
     "height": 314
    },
    "id": "lvCadqtAWtED",
    "outputId": "63d73d8c-cf5c-4afc-db20-837bf27e6dd8"
   },
   "outputs": [
    {
     "data": {
      "text/plain": [
       "Text(0, 0.5, 'N(t)')"
      ]
     },
     "execution_count": 9,
     "metadata": {},
     "output_type": "execute_result"
    },
    {
     "data": {
      "image/png": "[encoded data removed]",
      "text/plain": [
       "<Figure size 432x288 with 1 Axes>"
      ]
     },
     "metadata": {
      "needs_background": "light"
     },
     "output_type": "display_data"
    }
   ],
   "source": [
    "import matplotlib.pyplot as plt\n",
    "import numpy as np\n",
    "random.seed(10)\n",
    "#run simulation\n",
    "n_max= 1000\n",
    "\n",
    "A, D, F, S, n = run_repair_facility_sim(n_max,S_0=5)\n",
    "# times \n",
    "ts = list(np.arange(0,A[n]+1,1/60))\n",
    "# num machines in repair at each time\n",
    "Ns = [N(A,D,n,t) for t in ts]\n",
    "# plot N over time\n",
    "plt.plot(ts,Ns)\n",
    "plt.title('Machines in Repair')\n",
    "plt.xlabel('t')\n",
    "plt.ylabel('N(t)')"
   ]
  },
  {
   "cell_type": "markdown",
   "metadata": {
    "id": "vU6DYc-y0YEI"
   },
   "source": [
    "We can see that right before halting, the number of machines in the repair facility spikes above the spare machine count. \n",
    "\n",
    "We again repeat our multiple runs of the simulation for increasing run counts. We see the same pattern as with the Coffee Shop simulation, where increasing counts lead to a stabilization of estimates for average time of first factory halt, and standard deviation of time of first halt. "
   ]
  },
  {
   "cell_type": "code",
   "execution_count": 10,
   "metadata": {
    "colab": {
     "base_uri": "https://localhost:8080/"
    },
    "id": "BDMElanwV6zj",
    "outputId": "4b27af25-1494-4d67-a52e-4a2630a74b4f"
   },
   "outputs": [
    {
     "name": "stdout",
     "output_type": "stream",
     "text": [
      "5 582.8867038019495 369.9642122224538\n",
      "10 366.8900317999636 302.8707251683673\n",
      "25 331.1570032993219 295.97473334457766\n",
      "50 292.94526711287943 259.37604012627185\n",
      "100 287.8286766807448 241.29265511747474\n",
      "500 298.2818068969279 266.15447912436423\n",
      "1000 296.3592488240543 261.4477628227398\n",
      "5000 292.7348455368765 265.9224429043814\n",
      "10000 296.0551640397607 266.8028344343982\n"
     ]
    }
   ],
   "source": [
    " for sim_count in [5,10,25,50,100,500,1000,5000,10000]:\n",
    "  Halting_Times = []\n",
    "  for sim in range(sim_count):\n",
    "    n_max= 1000    \n",
    "    A, D, F, S, n = run_repair_facility_sim(n_max,S_0=5)\n",
    "    Halting_Times.append(A[n])\n",
    "    \n",
    "  print(sim_count,np.mean(Halting_Times),np.std(Halting_Times))\n",
    " "
   ]
  }
 ],
 "metadata": {
  "colab": {
   "name": "TrustworthySimulations.ipynb",
   "provenance": []
  },
  "kernelspec": {
   "display_name": "Python 3",
   "language": "python",
   "name": "python3"
  },
  "language_info": {
   "codemirror_mode": {
    "name": "ipython",
    "version": 3
   },
   "file_extension": ".py",
   "mimetype": "text/x-python",
   "name": "python",
   "nbconvert_exporter": "python",
   "pygments_lexer": "ipython3",
   "version": "3.7.6"
  }
 },
 "nbformat": 4,
 "nbformat_minor": 1
}
