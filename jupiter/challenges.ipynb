{
 "cells": [
  {
   "cell_type": "markdown",
   "metadata": {},
   "source": [
    "# Challenges\n",
    "\n",
    "- [Python Programming Challenges](https://pythonprinciples.com/challenges/)\n",
    "- [Python Quizzes](https://realpython.com/quizzes/)"
   ]
  },
  {
   "cell_type": "markdown",
   "metadata": {},
   "source": [
    "## Capital indexes\n",
    "Write a function named `capital_indexes`. The function takes a single parameter, which is a string. Your function should return a list of all the indexes in the string that have capital letters.\n",
    "\n",
    "For example, calling `capital_indexes(\"HeLlO\")` should return the list `[0, 2, 4]`."
   ]
  },
  {
   "cell_type": "code",
   "execution_count": 1,
   "metadata": {},
   "outputs": [
    {
     "name": "stdout",
     "output_type": "stream",
     "text": [
      "[0, 2, 4]\n"
     ]
    }
   ],
   "source": [
    "def capital_indexes(txt):\n",
    "    ret = []\n",
    "    for idx in range(0, len(txt)):\n",
    "        if txt[idx].isupper():\n",
    "            ret.append(idx)\n",
    "    return ret\n",
    "print(capital_indexes(\"HeLlO\"))"
   ]
  },
  {
   "cell_type": "markdown",
   "metadata": {},
   "source": [
    "## Middle letter\n",
    "Write a function named `mid` that takes a string as its parameter. Your function should extract and return the middle letter. If there is no middle letter, your function should return the empty string.\n",
    "\n",
    "For example, `mid(\"abc\")` should return `\"b\"` and `mid(\"aaaa\")` should return `\"\"`.\n",
    "\n",
    "Note: `int((len(txt) - 1) /  2)` is equivalent to `len(string)//2` (integer division)"
   ]
  },
  {
   "cell_type": "code",
   "execution_count": 13,
   "metadata": {},
   "outputs": [
    {
     "name": "stdout",
     "output_type": "stream",
     "text": [
      "\"b\"\n",
      "\"\"\n"
     ]
    }
   ],
   "source": [
    "def mid(txt):\n",
    "    return \"\" if (len(txt) % 2) == 0 else txt[int((len(txt) - 1) /  2)]\n",
    "print(\"\\\"\" + mid(\"abc\") + \"\\\"\")\n",
    "print(\"\\\"\" + mid(\"aaaa\") + \"\\\"\")"
   ]
  },
  {
   "cell_type": "markdown",
   "metadata": {},
   "source": [
    "## Online status\n",
    "The aim of this challenge is, given a dictionary of people's online status, to count the number of people who are online.\n",
    "\n",
    "For example, consider the following dictionary:\n",
    "\n",
    "```\n",
    "statuses = {\n",
    "    \"Alice\": \"online\",\n",
    "    \"Bob\": \"offline\",\n",
    "    \"Eve\": \"online\",\n",
    "}\n",
    "```\n",
    "\n",
    "In this case, the number of people online is `2`.\n",
    "\n",
    "Write a function named `online_count` that takes one parameter. The parameter is a dictionary that maps from strings of names to the string `\"online\"` or `\"offline\"`, as seen above.\n",
    "\n",
    "Your function should return the number of people who are online."
   ]
  },
  {
   "cell_type": "code",
   "execution_count": 5,
   "metadata": {},
   "outputs": [
    {
     "name": "stdout",
     "output_type": "stream",
     "text": [
      "2\n"
     ]
    }
   ],
   "source": [
    "def online_count(dic):\n",
    "    ret = 0\n",
    "    for k, v in dic.items():\n",
    "        if v == \"online\":\n",
    "            ret += 1\n",
    "    return ret\n",
    "statuses = {\n",
    "    \"Alice\": \"online\",\n",
    "    \"Bob\": \"offline\",\n",
    "    \"Eve\": \"online\",\n",
    "}\n",
    "print(online_count(statuses))"
   ]
  },
  {
   "cell_type": "markdown",
   "metadata": {},
   "source": [
    "## Randomness\n",
    "Define a function, `random_number`, that takes no parameters. The function must generate a random integer between `1` and `100`, both inclusive, and return it.\n",
    "\n",
    "Calling the function multiple times should (usually) return different numbers.\n",
    "\n",
    "For example, calling `random_number()` some times might first return `42`, then `63`, then `1`."
   ]
  },
  {
   "cell_type": "code",
   "execution_count": 11,
   "metadata": {},
   "outputs": [
    {
     "data": {
      "text/plain": [
       "7"
      ]
     },
     "execution_count": 11,
     "metadata": {},
     "output_type": "execute_result"
    }
   ],
   "source": [
    "import random\n",
    "def  random_number():\n",
    "    return random.randint(1,100)\n",
    "random_number()"
   ]
  },
  {
   "cell_type": "markdown",
   "metadata": {},
   "source": [
    "## Type check\n",
    "Write a function named `only_ints` that takes two parameters. Your function should return `True` if both parameters are integers, and `False` otherwise.\n",
    "\n",
    "For example, calling `only_ints(1, 2)` should return `True`, while calling `only_ints(\"a\", 1)` should return `False`."
   ]
  },
  {
   "cell_type": "code",
   "execution_count": 37,
   "metadata": {},
   "outputs": [
    {
     "name": "stdout",
     "output_type": "stream",
     "text": [
      "False\n",
      "True\n",
      "False\n"
     ]
    }
   ],
   "source": [
    "def only_ints (a, b):\n",
    "    return type(a) == int and type(b) == int\n",
    "\n",
    "print(only_ints(1, True))\n",
    "print(only_ints(1, 2))\n",
    "print(only_ints(\"a\", 1))"
   ]
  },
  {
   "cell_type": "markdown",
   "metadata": {},
   "source": [
    "## Double letters\n",
    "The goal of this challenge is to analyze a string to check if it contains two of the same letter in a row. For example, the string `\"hello\"` has `l` twice in a row, while the string `\"nono\"` does not have two identical letters in a row.\n",
    "\n",
    "Define a function named `double_letters` that takes a single parameter. The parameter is a string. Your function must return `True` if there are two identical letters in a row in the string, and `False` otherwise."
   ]
  },
  {
   "cell_type": "code",
   "execution_count": 36,
   "metadata": {},
   "outputs": [
    {
     "name": "stdout",
     "output_type": "stream",
     "text": [
      "True\n",
      "False\n"
     ]
    }
   ],
   "source": [
    "def double_letters(txt):\n",
    "    ret = False\n",
    "    for i, c in enumerate(txt):\n",
    "        if i < len(txt) - 1 and c == txt[i + 1]:\n",
    "            ret = True\n",
    "    return ret\n",
    "print(double_letters(\"hello\"))\n",
    "print(double_letters(\"nono\"))"
   ]
  },
  {
   "cell_type": "markdown",
   "metadata": {},
   "source": [
    "## Adding and removing dots\n",
    "Write a function named `add_dots` that takes a string and adds `\".\"` in between each letter. For example, calling `add_dots(\"test\")` should return the string `\"t.e.s.t\"`.\n",
    "\n",
    "Then, below the `add_dots` function, write another function named `remove_dots` that removes all dots from a string. For example, calling `remove_dots(\"t.e.s.t\")` should return `\"test\"`.\n",
    "\n",
    "If both functions are correct, calling `remove_dots(add_dots(string))` should return back the original string for any string.\n",
    "\n",
    "(You may assume that the input to `add_dots` does not itself contain any dots.)"
   ]
  },
  {
   "cell_type": "code",
   "execution_count": 8,
   "metadata": {},
   "outputs": [
    {
     "name": "stdout",
     "output_type": "stream",
     "text": [
      "t.e.s.t\n",
      "test\n"
     ]
    }
   ],
   "source": [
    "def add_dots(txt):\n",
    "    # return \".\".join([c for c in txt])\n",
    "    return \".\".join(txt)\n",
    "def remove_dots(txt):\n",
    "    return txt.replace(\".\", \"\")\n",
    "print(add_dots(\"test\"))\n",
    "print(remove_dots(\"t.e.s.t\"))"
   ]
  },
  {
   "cell_type": "markdown",
   "metadata": {},
   "source": [
    "## Counting syllables\n",
    "Define a function named `count` that takes a single parameter. The parameter is a string. The string will contain a single word divided into syllables by hyphens, such as these:\n",
    "```\n",
    "\"ho-tel\"\n",
    "\"cat\"\n",
    "\"met-a-phor\"\n",
    "\"ter-min-a-tor\"\n",
    "```\n",
    "Your function should count the number of syllables and return it.\n",
    "For example, the call `count(\"ho-tel\")` should return `2`."
   ]
  },
  {
   "cell_type": "code",
   "execution_count": 1,
   "metadata": {},
   "outputs": [
    {
     "name": "stdout",
     "output_type": "stream",
     "text": [
      "2\n"
     ]
    }
   ],
   "source": [
    "def count(txt):\n",
    "    # return word.count(\"-\") + 1\n",
    "    return len(txt.split(\"-\"))\n",
    "print(count(\"ho-tel\"))"
   ]
  },
  {
   "cell_type": "markdown",
   "metadata": {},
   "source": [
    "## Anagrams\n",
    "Two strings are anagrams if you can make one from the other by rearranging the letters.\n",
    "\n",
    "Write a function named `is_anagram` that takes two strings as its parameters. Your function should return `True` if the strings are anagrams, and `False` otherwise.\n",
    "\n",
    "For example, the call `is_anagram(\"typhoon\", \"opython\")` should return `True` while the call `is_anagram(\"Alice\", \"Bob\")` should return `False`."
   ]
  },
  {
   "cell_type": "code",
   "execution_count": 10,
   "metadata": {},
   "outputs": [
    {
     "name": "stdout",
     "output_type": "stream",
     "text": [
      "True\n",
      "False\n"
     ]
    }
   ],
   "source": [
    "def is_anagram(txt1, txt2):\n",
    "    # return \"\".join(sorted(list(txt1))) == \"\".join(sorted(list(txt2)))\n",
    "    return sorted(txt1) == sorted(txt2)\n",
    "print(is_anagram(\"typhoon\", \"opython\"))\n",
    "print(is_anagram(\"Alice\", \"Bob\"))"
   ]
  },
  {
   "cell_type": "markdown",
   "metadata": {},
   "source": [
    "## Flatten a list\n",
    "Write a function that takes a list of lists and flattens it into a one-dimensional list.\n",
    "\n",
    "Name your function `flatten`. It should take a single parameter and return a list.\n",
    "\n",
    "For example, calling:\n",
    "```\n",
    "flatten([[1, 2], [3, 4]])\n",
    "```\n",
    "Should return the list:\n",
    "```\n",
    "[1, 2, 3, 4]\n",
    "```"
   ]
  },
  {
   "cell_type": "code",
   "execution_count": 14,
   "metadata": {},
   "outputs": [
    {
     "name": "stdout",
     "output_type": "stream",
     "text": [
      "[1, 2, 3, 4]\n"
     ]
    }
   ],
   "source": [
    "def flatten(l):\n",
    "    # return [i for j in l for i in j]\n",
    "    ret = []\n",
    "    for i in l:\n",
    "        ret.extend(i)\n",
    "    return ret\n",
    "print(flatten([[1, 2], [3, 4]]))"
   ]
  },
  {
   "cell_type": "markdown",
   "metadata": {},
   "source": [
    "## Min-maxing\n",
    "Define a function named `largest_difference` that takes a list of numbers as its only parameter.\n",
    "\n",
    "Your function should compute and return the difference between the largest and smallest number in the list.\n",
    "\n",
    "For example, the call `largest_difference([1, 2, 3])` should return `2` because `3 - 1` is `2`.\n",
    "\n",
    "You may assume that no numbers are smaller or larger than -100 and 100."
   ]
  },
  {
   "cell_type": "code",
   "execution_count": 16,
   "metadata": {},
   "outputs": [
    {
     "name": "stdout",
     "output_type": "stream",
     "text": [
      "2\n"
     ]
    }
   ],
   "source": [
    "def largest_difference(l):\n",
    "    return max(l) - min(l)\n",
    "print(largest_difference([1, 2, 3]))"
   ]
  },
  {
   "cell_type": "markdown",
   "metadata": {},
   "source": [
    "## Divisible by 3\n",
    "Define a function named `div_3` that returns `True` if its single integer parameter is divisible by 3 and `False` otherwise.\n",
    "\n",
    "For example, `div_3(6)` is `True` because `6/3` does not leave any remainder. However `div_3(5)` is False because `5/3` leaves `2` as a remainder."
   ]
  },
  {
   "cell_type": "code",
   "execution_count": 17,
   "metadata": {},
   "outputs": [
    {
     "name": "stdout",
     "output_type": "stream",
     "text": [
      "True\n",
      "False\n"
     ]
    }
   ],
   "source": [
    "def div_3(num):\n",
    "    return num % 3 ==  0\n",
    "print(div_3(6))\n",
    "print(div_3(5))"
   ]
  },
  {
   "cell_type": "markdown",
   "metadata": {},
   "source": [
    "## Tic tac toe input\n",
    "Here's the backstory for this challenge: imagine you're writing a tic-tac-toe game, where the board looks like this:\n",
    "\n",
    "```\n",
    "1:  X | O | X\n",
    "   -----------\n",
    "2:    |   |  \n",
    "   -----------\n",
    "3:  O |   |\n",
    "\n",
    "    A   B  C\n",
    "```\n",
    "\n",
    "The board is represented as a 2D list:\n",
    "\n",
    "```\n",
    "board = [\n",
    "    [\"X\", \"O\", \"X\"],\n",
    "    [\" \", \" \", \" \"],\n",
    "    [\"O\", \" \", \" \"],\n",
    "]\n",
    "```\n",
    "Imagine if your user enters `\"C1\"` and you need to see if there's an X or O in that cell on the board. To do so, you need to translate from the string `\"C1\"` to row 0 and column 2 so that you can check `board[row][column]`.\n",
    "\n",
    "Your task is to write a function that can translate from strings of length `2` to a tuple `(row, column)`. Name your function `get_row_col`; it should take a single parameter which is a string of length 2 consisting of an uppercase letter and a digit.\n",
    "\n",
    "For example, calling `get_row_col(\"A3\")` should return the tuple `(2, 0)` because A3 corresponds to the row at index `2` and column at index `0` in the board."
   ]
  },
  {
   "cell_type": "code",
   "execution_count": 19,
   "metadata": {},
   "outputs": [
    {
     "name": "stdout",
     "output_type": "stream",
     "text": [
      "(2, 0)\n"
     ]
    }
   ],
   "source": [
    "def get_row_col(cell):\n",
    "    return (int(cell[1]) - 1, ord(cell[0]) - 65)\n",
    "print(get_row_col(\"A3\"))"
   ]
  },
  {
   "cell_type": "markdown",
   "metadata": {},
   "source": [
    "## Palindrome\n",
    "A string is a palindrome when it is the same when read backwards.\n",
    "\n",
    "For example, the string `\"bob\"` is a palindrome. So is `\"abba\"`. But the string `\"abcd\"` is not a palindrome, because `\"abcd\"` != `\"dcba\"`.\n",
    "\n",
    "Write a function named `palindrome` that takes a single string as its parameter. Your function should return `True` if the string is a palindrome, and `False` otherwise."
   ]
  },
  {
   "cell_type": "code",
   "execution_count": 52,
   "metadata": {},
   "outputs": [
    {
     "name": "stdout",
     "output_type": "stream",
     "text": [
      "True\n",
      "True\n",
      "False\n"
     ]
    }
   ],
   "source": [
    "def palindrome(txt):\n",
    "    return txt == txt[::-1]\n",
    "print(palindrome(\"bob\"))\n",
    "print(palindrome(\"abba\"))\n",
    "print(palindrome(\"abcd\"))"
   ]
  },
  {
   "cell_type": "markdown",
   "metadata": {},
   "source": [
    "## Up and down\n",
    "Define a function named `up_down` that takes a single number as its parameter. Your function return a tuple containing two numbers; the first should be one lower than the parameter, and the second should be one higher.\n",
    "\n",
    "For example, calling `up_down(5)` should return `(4, 6)`."
   ]
  },
  {
   "cell_type": "code",
   "execution_count": 53,
   "metadata": {},
   "outputs": [
    {
     "name": "stdout",
     "output_type": "stream",
     "text": [
      "(4, 6)\n"
     ]
    }
   ],
   "source": [
    "def up_down(n):\n",
    "    return (n - 1, n + 1)\n",
    "print(up_down(5))"
   ]
  },
  {
   "cell_type": "markdown",
   "metadata": {},
   "source": [
    "## Consecutive zeros\n",
    "The goal of this challenge is to analyze a binary string consisting of only zeros and ones. Your code should find the biggest number of consecutive zeros in the string. For example, given the string:\n",
    "```\n",
    "\"1001101000110\"\n",
    "```\n",
    "The biggest number of consecutive zeros is `3`.\n",
    "\n",
    "Define a function named `consecutive_zeros` that takes a single parameter, which is the string of zeros and ones. Your function should return the number described above."
   ]
  },
  {
   "cell_type": "code",
   "execution_count": 56,
   "metadata": {},
   "outputs": [
    {
     "name": "stdout",
     "output_type": "stream",
     "text": [
      "3\n"
     ]
    }
   ],
   "source": [
    "def consecutive_zeros(txt):\n",
    "    return max([len(a) for a in txt.split(\"1\")])\n",
    "print(consecutive_zeros(\"1001101000110\"))"
   ]
  },
  {
   "cell_type": "markdown",
   "metadata": {},
   "source": [
    "## All equal\n",
    "Define a function named `all_equal` that takes a list and checks whether all elements in the list are the same.\n",
    "\n",
    "For example, calling `all_equal([1, 1, 1])` should return `True`."
   ]
  },
  {
   "cell_type": "code",
   "execution_count": 58,
   "metadata": {},
   "outputs": [
    {
     "name": "stdout",
     "output_type": "stream",
     "text": [
      "True\n"
     ]
    }
   ],
   "source": [
    "def all_equal(l):\n",
    "    # return all(item1 == item2 for item1 in items for item2 in items)\n",
    "    ret = True\n",
    "    for i in l:\n",
    "        if i != l[0]:\n",
    "            ret = False\n",
    "    return ret\n",
    "print(all_equal([1, 1, 1]))"
   ]
  },
  {
   "cell_type": "markdown",
   "metadata": {},
   "source": [
    "## Boolean and\n",
    "Define a function named `triple_and` that takes three parameters and returns `True` only if they are all `True` and False otherwise."
   ]
  },
  {
   "cell_type": "code",
   "execution_count": 59,
   "metadata": {},
   "outputs": [
    {
     "name": "stdout",
     "output_type": "stream",
     "text": [
      "True\n"
     ]
    }
   ],
   "source": [
    "def triple_and(a, b, c):\n",
    "    # return a == True and b == True and c == True\n",
    "    return a and b and c\n",
    "print(triple_and(True, True, True))"
   ]
  },
  {
   "cell_type": "markdown",
   "metadata": {},
   "source": [
    "## Writing short code\n",
    "Define a function named `convert` that takes a list of numbers as its only parameter and returns a list of each number converted to a string.\n",
    "\n",
    "For example, the call `convert([1, 2, 3])` should return `[\"1\", \"2\", \"3\"]`.\n",
    "\n",
    "What makes this tricky is that your function body must only contain a single line of code."
   ]
  },
  {
   "cell_type": "code",
   "execution_count": 61,
   "metadata": {},
   "outputs": [
    {
     "name": "stdout",
     "output_type": "stream",
     "text": [
      "['1', '2', '3']\n"
     ]
    }
   ],
   "source": [
    "def convert(l):\n",
    "    # return [str(n) for n in l]\n",
    "    return list(map(str, l))\n",
    "print(convert([1, 2, 3]))"
   ]
  },
  {
   "cell_type": "markdown",
   "metadata": {},
   "source": [
    "## Custom zip\n",
    "The built-in `zip` function \"zips\" two lists. Write your own implementation of this function.\n",
    "\n",
    "Define a function named `zap`. The function takes two parameters, `a` and `b`. These are lists.\n",
    "\n",
    "Your function should return a list of tuples. Each tuple should contain one item from the `a` list and one from `b`.\n",
    "\n",
    "You may assume `a` and `b` have equal lengths.\n",
    "\n",
    "If you don't get it, think of a zipper.\n",
    "\n",
    "For example:\n",
    "```\n",
    "zap(\n",
    "    [0, 1, 2, 3],\n",
    "    [5, 6, 7, 8]\n",
    ")\n",
    "```\n",
    "Should return:\n",
    "```\n",
    "[(0, 5),\n",
    " (1, 6),\n",
    " (2, 7),\n",
    " (3, 8)]\n",
    " ```"
   ]
  },
  {
   "cell_type": "code",
   "execution_count": 63,
   "metadata": {},
   "outputs": [
    {
     "name": "stdout",
     "output_type": "stream",
     "text": [
      "[(0, 5), (1, 6), (2, 7), (3, 8)]\n"
     ]
    }
   ],
   "source": [
    "def zap(a, b):\n",
    "    return [(a[i], b[i]) for i in range(len(a))]\n",
    "print(zap([0, 1, 2, 3], [5, 6, 7, 8]))"
   ]
  },
  {
   "cell_type": "markdown",
   "metadata": {},
   "source": [
    "## Solution validation\n",
    "The aim of this challenge is to write code that can analyze code submissions. We'll simplify things a lot to not make this too hard.\n",
    "\n",
    "Write a function named `validate` that takes code represented as a string as its only parameter.\n",
    "\n",
    "Your function should check a few things:\n",
    "\n",
    "- the code must contain the `def` keyword\n",
    "    - otherwise return `\"missing def\"`\n",
    "- the code must contain the : symbol\n",
    "    - otherwise return `\"missing :\"`\n",
    "- the code must contain ( and ) for the parameter list\n",
    "    - otherwise return `\"missing paren\"`\n",
    "- the code must not contain ()\n",
    "    - otherwise return `\"missing param\"`\n",
    "- the code must contain four spaces for indentation\n",
    "    - otherwise return `\"missing indent\"`\n",
    "- the code must contain validate\n",
    "    - otherwise return `\"wrong name\"`\n",
    "- the code must contain a return statement\n",
    "    - otherwise return `\"missing return\"`\n",
    "\n",
    "If all these conditions are satisfied, your code should return True.\n",
    "\n",
    "Here comes the twist: your solution must return True when validating itself."
   ]
  },
  {
   "cell_type": "code",
   "execution_count": 73,
   "metadata": {},
   "outputs": [
    {
     "name": "stdout",
     "output_type": "stream",
     "text": [
      "True\n"
     ]
    }
   ],
   "source": [
    "def validate(code):\n",
    "    if \"def\" not in code:\n",
    "        return \"missing def\"\n",
    "    if \":\" not in code:\n",
    "        return \"missing :\"\n",
    "    if \"(\" not in code or \")\" not in code:\n",
    "        return \"missing paren\"\n",
    "    if \"(\" + \")\" in code:\n",
    "        return \"missing param\"\n",
    "    if \"    \" not in code:\n",
    "        return \"missing indent\"\n",
    "    if \"validate\" not in code:\n",
    "        return \"wrong name\"\n",
    "    if \"return\" not in code:\n",
    "        return \"missing return\"\n",
    "    return True\n",
    "print(validate('def validate(a):\\r\\n    return a'))"
   ]
  },
  {
   "cell_type": "markdown",
   "metadata": {},
   "source": [
    "# List xor\n",
    "Define a function named `list_xor`. Your function should take three parameters: `n`, `list1` and `list2`.\n",
    "\n",
    "Your function must return whether `n` is exclusively in `list1` or `list2`.\n",
    "\n",
    "In other words, if `n` is in both lists or in none of the lists, return `False`. If `n` is in only one of the lists, return `True`.\n",
    "\n",
    "For example:\n",
    "```\n",
    "list_xor(1, [1, 2, 3], [4, 5, 6]) == True\n",
    "list_xor(1, [0, 2, 3], [1, 5, 6]) == True\n",
    "list_xor(1, [1, 2, 3], [1, 5, 6]) == False\n",
    "list_xor(1, [0, 0, 0], [4, 5, 6]) == False\n",
    "```"
   ]
  },
  {
   "cell_type": "code",
   "execution_count": 78,
   "metadata": {},
   "outputs": [
    {
     "name": "stdout",
     "output_type": "stream",
     "text": [
      "True\n",
      "True\n",
      "False\n",
      "False\n"
     ]
    }
   ],
   "source": [
    "def list_xor(n, list1, list2):\n",
    "    return (n in list1) ^ (n in list2)\n",
    "print(list_xor(1, [1, 2, 3], [4, 5, 6]))\n",
    "print(list_xor(1, [0, 2, 3], [1, 5, 6]))\n",
    "print(list_xor(1, [1, 2, 3], [1, 5, 6]))\n",
    "print(list_xor(1, [0, 0, 0], [4, 5, 6]))"
   ]
  },
  {
   "cell_type": "markdown",
   "metadata": {},
   "source": [
    "## Counting parameters\n",
    "Define a function `param_count` that takes a variable number of parameters. The function should return the number of arguments it was called with.\n",
    "\n",
    "For example, `param_count()` should return `0`, while `param_count(2, 3, 4)` should return `3`."
   ]
  },
  {
   "cell_type": "code",
   "execution_count": 1,
   "metadata": {},
   "outputs": [
    {
     "name": "stdout",
     "output_type": "stream",
     "text": [
      "0\n",
      "3\n"
     ]
    }
   ],
   "source": [
    "def param_count(*args):\n",
    "    return len(args)\n",
    "print(param_count())\n",
    "print(param_count(2, 3, 4))"
   ]
  },
  {
   "cell_type": "markdown",
   "metadata": {},
   "source": [
    "## Thousands separator\n",
    "Write a function named `format_number` that takes a non-negative number as its only parameter.\n",
    "\n",
    "Your function should convert the number to a string and add commas as a thousands separator.\n",
    "\n",
    "For example, calling `format_number(1000000)` should return `\"1,000,000\"`."
   ]
  },
  {
   "cell_type": "code",
   "execution_count": 14,
   "metadata": {},
   "outputs": [
    {
     "name": "stdout",
     "output_type": "stream",
     "text": [
      "1,000,000\n"
     ]
    }
   ],
   "source": [
    "def format_number(n):\n",
    "    # s = str(n)\n",
    "    # return \",\".join([s[i-3 if i - 3 > -1 else 0:i] for i in range(len(s), 0, -3)][::-1])\n",
    "    return \"{:,}\".format(n)\n",
    "print(format_number(1000000))"
   ]
  }
 ],
 "metadata": {
  "interpreter": {
   "hash": "2be5faf79681da6f2a61fdfdd5405d65d042280f7fba6178067603e3a2925119"
  },
  "kernelspec": {
   "display_name": "Python 3.10.4 64-bit",
   "language": "python",
   "name": "python3"
  },
  "language_info": {
   "codemirror_mode": {
    "name": "ipython",
    "version": 3
   },
   "file_extension": ".py",
   "mimetype": "text/x-python",
   "name": "python",
   "nbconvert_exporter": "python",
   "pygments_lexer": "ipython3",
   "version": "3.10.4"
  },
  "orig_nbformat": 4
 },
 "nbformat": 4,
 "nbformat_minor": 2
}
